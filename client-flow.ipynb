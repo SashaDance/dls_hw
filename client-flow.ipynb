{
  "nbformat": 4,
  "nbformat_minor": 0,
  "metadata": {
    "colab": {
      "provenance": []
    },
    "kernelspec": {
      "name": "python3",
      "display_name": "Python 3"
    },
    "language_info": {
      "name": "python"
    },
    "widgets": {
      "application/vnd.jupyter.widget-state+json": {
        "df3d96d502004f458bab1793830ca440": {
          "model_module": "catboost-widget",
          "model_name": "CatboostWidgetModel",
          "model_module_version": "^1.0.0",
          "state": {
            "_dom_classes": [],
            "_model_module": "catboost-widget",
            "_model_module_version": "^1.0.0",
            "_model_name": "CatboostWidgetModel",
            "_view_count": null,
            "_view_module": "catboost-widget",
            "_view_module_version": "^1.0.0",
            "_view_name": "CatboostWidgetView",
            "data": {
              "catboost_info": {
                "path": "catboost_info",
                "name": "catboost_info",
                "content": {
                  "passed_iterations": 161,
                  "total_iterations": 180,
                  "data": {
                    "iterations": [
                      {
                        "parameters": [
                          {
                            "depth": 4,
                            "learning_rate": 0.1111111111,
                            "l2_leaf_reg": 1
                          }
                        ],
                        "learn": [
                          0.3642379176
                        ],
                        "iteration": 0,
                        "passed_time": 3.970070732,
                        "remaining_time": 710.6426611,
                        "test": [
                          0.8732827964,
                          0.3780284849
                        ]
                      },
                      {
                        "parameters": [
                          {
                            "depth": 4,
                            "learning_rate": 0.2222222222,
                            "l2_leaf_reg": 1
                          }
                        ],
                        "learn": [
                          0.3260564068
                        ],
                        "iteration": 1,
                        "passed_time": 6.080357634,
                        "remaining_time": 541.1518294,
                        "test": [
                          0.8720958004,
                          0.3764874852
                        ]
                      },
                      {
                        "parameters": [
                          {
                            "depth": 4,
                            "learning_rate": 0.3333333333,
                            "l2_leaf_reg": 1
                          }
                        ],
                        "learn": [
                          0.2912166905
                        ],
                        "iteration": 2,
                        "passed_time": 8.260696916,
                        "remaining_time": 487.381118,
                        "test": [
                          0.8686398984,
                          0.3806570977
                        ]
                      },
                      {
                        "parameters": [
                          {
                            "depth": 4,
                            "learning_rate": 0.4444444444,
                            "l2_leaf_reg": 1
                          }
                        ],
                        "learn": [
                          0.2684565291
                        ],
                        "iteration": 3,
                        "passed_time": 11.20094643,
                        "remaining_time": 492.841643,
                        "test": [
                          0.8688046926,
                          0.3791326047
                        ]
                      },
                      {
                        "parameters": [
                          {
                            "depth": 4,
                            "learning_rate": 0.5555555556,
                            "l2_leaf_reg": 1
                          }
                        ],
                        "learn": [
                          0.2530784613
                        ],
                        "iteration": 4,
                        "passed_time": 13.74318285,
                        "remaining_time": 481.0113998,
                        "test": [
                          0.8683819596,
                          0.3787202711
                        ]
                      },
                      {
                        "parameters": [
                          {
                            "depth": 4,
                            "learning_rate": 0.6666666667,
                            "l2_leaf_reg": 1
                          }
                        ],
                        "learn": [
                          0.2350088231
                        ],
                        "iteration": 5,
                        "passed_time": 15.90249904,
                        "remaining_time": 461.1724722,
                        "test": [
                          0.8651314532,
                          0.3829674966
                        ]
                      },
                      {
                        "parameters": [
                          {
                            "depth": 4,
                            "learning_rate": 0.7777777778,
                            "l2_leaf_reg": 1
                          }
                        ],
                        "learn": [
                          0.2174228751
                        ],
                        "iteration": 6,
                        "passed_time": 18.10912347,
                        "remaining_time": 447.5540516,
                        "test": [
                          0.861718541,
                          0.3852917913
                        ]
                      },
                      {
                        "parameters": [
                          {
                            "depth": 4,
                            "learning_rate": 0.8888888889,
                            "l2_leaf_reg": 1
                          }
                        ],
                        "learn": [
                          0.2089372283
                        ],
                        "iteration": 7,
                        "passed_time": 20.26855383,
                        "remaining_time": 435.7739074,
                        "test": [
                          0.8570493714,
                          0.3918578367
                        ]
                      },
                      {
                        "parameters": [
                          {
                            "depth": 4,
                            "learning_rate": 1,
                            "l2_leaf_reg": 1
                          }
                        ],
                        "learn": [
                          0.2030086757
                        ],
                        "iteration": 8,
                        "passed_time": 22.6683671,
                        "remaining_time": 430.6989749,
                        "test": [
                          0.8596430892,
                          0.3882978476
                        ]
                      },
                      {
                        "parameters": [
                          {
                            "depth": 4,
                            "learning_rate": 0.1111111111,
                            "l2_leaf_reg": 5
                          }
                        ],
                        "learn": [
                          0.3712535249
                        ],
                        "iteration": 9,
                        "passed_time": 25.77623205,
                        "remaining_time": 438.1959448,
                        "test": [
                          0.8723871757,
                          0.3766756671
                        ]
                      },
                      {
                        "parameters": [
                          {
                            "depth": 4,
                            "learning_rate": 0.2222222222,
                            "l2_leaf_reg": 5
                          }
                        ],
                        "learn": [
                          0.3393571773
                        ],
                        "iteration": 10,
                        "passed_time": 27.90570834,
                        "remaining_time": 428.7331555,
                        "test": [
                          0.8710927051,
                          0.3788962815
                        ]
                      },
                      {
                        "parameters": [
                          {
                            "depth": 4,
                            "learning_rate": 0.3333333333,
                            "l2_leaf_reg": 5
                          }
                        ],
                        "learn": [
                          0.3119907201
                        ],
                        "iteration": 11,
                        "passed_time": 30.04218421,
                        "remaining_time": 420.5905789,
                        "test": [
                          0.8689742634,
                          0.3809678171
                        ]
                      },
                      {
                        "parameters": [
                          {
                            "depth": 4,
                            "learning_rate": 0.4444444444,
                            "l2_leaf_reg": 5
                          }
                        ],
                        "learn": [
                          0.2908379989
                        ],
                        "iteration": 12,
                        "passed_time": 32.2925336,
                        "remaining_time": 414.8348547,
                        "test": [
                          0.8666528144,
                          0.3831853784
                        ]
                      },
                      {
                        "parameters": [
                          {
                            "depth": 4,
                            "learning_rate": 0.5555555556,
                            "l2_leaf_reg": 5
                          }
                        ],
                        "learn": [
                          0.2699703551
                        ],
                        "iteration": 13,
                        "passed_time": 34.50828749,
                        "remaining_time": 409.1696945,
                        "test": [
                          0.8653583438,
                          0.3835512054
                        ]
                      },
                      {
                        "parameters": [
                          {
                            "depth": 4,
                            "learning_rate": 0.6666666667,
                            "l2_leaf_reg": 5
                          }
                        ],
                        "learn": [
                          0.2569224128
                        ],
                        "iteration": 14,
                        "passed_time": 37.92131859,
                        "remaining_time": 417.1345045,
                        "test": [
                          0.8630297298,
                          0.3848372376
                        ]
                      },
                      {
                        "parameters": [
                          {
                            "depth": 4,
                            "learning_rate": 0.7777777778,
                            "l2_leaf_reg": 5
                          }
                        ],
                        "learn": [
                          0.2371845528
                        ],
                        "iteration": 15,
                        "passed_time": 40.11435754,
                        "remaining_time": 411.1721648,
                        "test": [
                          0.8632470671,
                          0.3838321125
                        ]
                      },
                      {
                        "parameters": [
                          {
                            "depth": 4,
                            "learning_rate": 0.8888888889,
                            "l2_leaf_reg": 5
                          }
                        ],
                        "learn": [
                          0.2229032985
                        ],
                        "iteration": 16,
                        "passed_time": 42.31041978,
                        "remaining_time": 405.6822602,
                        "test": [
                          0.8613387978,
                          0.3879519802
                        ]
                      },
                      {
                        "parameters": [
                          {
                            "depth": 4,
                            "learning_rate": 1,
                            "l2_leaf_reg": 5
                          }
                        ],
                        "learn": [
                          0.2180831543
                        ],
                        "iteration": 17,
                        "passed_time": 44.46894022,
                        "remaining_time": 400.220462,
                        "test": [
                          0.8596383125,
                          0.3915265992
                        ]
                      },
                      {
                        "parameters": [
                          {
                            "depth": 4,
                            "learning_rate": 0.1111111111,
                            "l2_leaf_reg": 10
                          }
                        ],
                        "learn": [
                          0.3790367867
                        ],
                        "iteration": 18,
                        "passed_time": 46.50752835,
                        "remaining_time": 394.0901086,
                        "test": [
                          0.8719381711,
                          0.3774291459
                        ]
                      },
                      {
                        "parameters": [
                          {
                            "depth": 4,
                            "learning_rate": 0.2222222222,
                            "l2_leaf_reg": 10
                          }
                        ],
                        "learn": [
                          0.3484473566
                        ],
                        "iteration": 19,
                        "passed_time": 49.22379577,
                        "remaining_time": 393.7903662,
                        "test": [
                          0.8713673621,
                          0.3777089358
                        ]
                      },
                      {
                        "parameters": [
                          {
                            "depth": 4,
                            "learning_rate": 0.3333333333,
                            "l2_leaf_reg": 10
                          }
                        ],
                        "learn": [
                          0.328852757
                        ],
                        "iteration": 20,
                        "passed_time": 51.98600241,
                        "remaining_time": 393.608304,
                        "test": [
                          0.8704359165,
                          0.3805042042
                        ]
                      },
                      {
                        "parameters": [
                          {
                            "depth": 4,
                            "learning_rate": 0.4444444444,
                            "l2_leaf_reg": 10
                          }
                        ],
                        "learn": [
                          0.3041506986
                        ],
                        "iteration": 21,
                        "passed_time": 54.12971796,
                        "remaining_time": 388.7497926,
                        "test": [
                          0.8661345485,
                          0.3828978894
                        ]
                      },
                      {
                        "parameters": [
                          {
                            "depth": 4,
                            "learning_rate": 0.5555555556,
                            "l2_leaf_reg": 10
                          }
                        ],
                        "learn": [
                          0.2829065193
                        ],
                        "iteration": 22,
                        "passed_time": 56.26061048,
                        "remaining_time": 384.0398194,
                        "test": [
                          0.8645773625,
                          0.3835861045
                        ]
                      },
                      {
                        "parameters": [
                          {
                            "depth": 4,
                            "learning_rate": 0.6666666667,
                            "l2_leaf_reg": 10
                          }
                        ],
                        "learn": [
                          0.2682114777
                        ],
                        "iteration": 23,
                        "passed_time": 58.44562688,
                        "remaining_time": 379.8965747,
                        "test": [
                          0.8610904123,
                          0.3858030494
                        ]
                      },
                      {
                        "parameters": [
                          {
                            "depth": 4,
                            "learning_rate": 0.7777777778,
                            "l2_leaf_reg": 10
                          }
                        ],
                        "learn": [
                          0.2429021382
                        ],
                        "iteration": 24,
                        "passed_time": 60.64938642,
                        "remaining_time": 376.0261958,
                        "test": [
                          0.8593469372,
                          0.3884688018
                        ]
                      },
                      {
                        "parameters": [
                          {
                            "depth": 4,
                            "learning_rate": 0.8888888889,
                            "l2_leaf_reg": 10
                          }
                        ],
                        "learn": [
                          0.2479489839
                        ],
                        "iteration": 25,
                        "passed_time": 63.99112977,
                        "remaining_time": 379.024384,
                        "test": [
                          0.8613459628,
                          0.386080629
                        ]
                      },
                      {
                        "parameters": [
                          {
                            "depth": 4,
                            "learning_rate": 1,
                            "l2_leaf_reg": 10
                          }
                        ],
                        "learn": [
                          0.2345473204
                        ],
                        "iteration": 26,
                        "passed_time": 66.16800845,
                        "remaining_time": 374.9520479,
                        "test": [
                          0.8543362375,
                          0.3946502107
                        ]
                      },
                      {
                        "parameters": [
                          {
                            "depth": 4,
                            "learning_rate": 0.1111111111,
                            "l2_leaf_reg": 12
                          }
                        ],
                        "learn": [
                          0.3799761508
                        ],
                        "iteration": 27,
                        "passed_time": 68.20167059,
                        "remaining_time": 370.2376403,
                        "test": [
                          0.8726092896,
                          0.377266098
                        ]
                      },
                      {
                        "parameters": [
                          {
                            "depth": 4,
                            "learning_rate": 0.2222222222,
                            "l2_leaf_reg": 12
                          }
                        ],
                        "learn": [
                          0.3537011264
                        ],
                        "iteration": 28,
                        "passed_time": 70.29415023,
                        "remaining_time": 366.0143684,
                        "test": [
                          0.8701827544,
                          0.3801156889
                        ]
                      },
                      {
                        "parameters": [
                          {
                            "depth": 4,
                            "learning_rate": 0.3333333333,
                            "l2_leaf_reg": 12
                          }
                        ],
                        "learn": [
                          0.3222874474
                        ],
                        "iteration": 29,
                        "passed_time": 72.41624308,
                        "remaining_time": 362.0812154,
                        "test": [
                          0.8704789063,
                          0.3800245493
                        ]
                      },
                      {
                        "parameters": [
                          {
                            "depth": 4,
                            "learning_rate": 0.4444444444,
                            "l2_leaf_reg": 12
                          }
                        ],
                        "learn": [
                          0.3060316622
                        ],
                        "iteration": 30,
                        "passed_time": 75.35399234,
                        "remaining_time": 362.185318,
                        "test": [
                          0.8660724521,
                          0.3825887263
                        ]
                      },
                      {
                        "parameters": [
                          {
                            "depth": 4,
                            "learning_rate": 0.5555555556,
                            "l2_leaf_reg": 12
                          }
                        ],
                        "learn": [
                          0.2844645684
                        ],
                        "iteration": 31,
                        "passed_time": 77.98222359,
                        "remaining_time": 360.6677841,
                        "test": [
                          0.8637916046,
                          0.3837786473
                        ]
                      },
                      {
                        "parameters": [
                          {
                            "depth": 4,
                            "learning_rate": 0.6666666667,
                            "l2_leaf_reg": 12
                          }
                        ],
                        "learn": [
                          0.2666339815
                        ],
                        "iteration": 32,
                        "passed_time": 80.12218516,
                        "remaining_time": 356.9079157,
                        "test": [
                          0.8620552944,
                          0.3857193664
                        ]
                      },
                      {
                        "parameters": [
                          {
                            "depth": 4,
                            "learning_rate": 0.7777777778,
                            "l2_leaf_reg": 12
                          }
                        ],
                        "learn": [
                          0.2610677067
                        ],
                        "iteration": 33,
                        "passed_time": 82.26226226,
                        "remaining_time": 353.2438321,
                        "test": [
                          0.8621985938,
                          0.3860215893
                        ]
                      },
                      {
                        "parameters": [
                          {
                            "depth": 4,
                            "learning_rate": 0.8888888889,
                            "l2_leaf_reg": 12
                          }
                        ],
                        "learn": [
                          0.2486362839
                        ],
                        "iteration": 34,
                        "passed_time": 84.4510754,
                        "remaining_time": 349.868741,
                        "test": [
                          0.8547541939,
                          0.3945452937
                        ]
                      },
                      {
                        "parameters": [
                          {
                            "depth": 4,
                            "learning_rate": 1,
                            "l2_leaf_reg": 12
                          }
                        ],
                        "learn": [
                          0.2379409473
                        ],
                        "iteration": 35,
                        "passed_time": 86.76411727,
                        "remaining_time": 347.0564691,
                        "test": [
                          0.85522947,
                          0.39264883
                        ]
                      },
                      {
                        "parameters": [
                          {
                            "depth": 4,
                            "learning_rate": 0.1111111111,
                            "l2_leaf_reg": 30
                          }
                        ],
                        "learn": [
                          0.3872999798
                        ],
                        "iteration": 36,
                        "passed_time": 89.91313491,
                        "remaining_time": 347.502116,
                        "test": [
                          0.8705816042,
                          0.3787853833
                        ]
                      },
                      {
                        "parameters": [
                          {
                            "depth": 4,
                            "learning_rate": 0.2222222222,
                            "l2_leaf_reg": 30
                          }
                        ],
                        "learn": [
                          0.3656613198
                        ],
                        "iteration": 37,
                        "passed_time": 92.03253157,
                        "remaining_time": 343.911039,
                        "test": [
                          0.8708896977,
                          0.3776328327
                        ]
                      },
                      {
                        "parameters": [
                          {
                            "depth": 4,
                            "learning_rate": 0.3333333333,
                            "l2_leaf_reg": 30
                          }
                        ],
                        "learn": [
                          0.3505604912
                        ],
                        "iteration": 38,
                        "passed_time": 94.20027592,
                        "remaining_time": 340.5702283,
                        "test": [
                          0.8693707249,
                          0.3798744203
                        ]
                      },
                      {
                        "parameters": [
                          {
                            "depth": 4,
                            "learning_rate": 0.4444444444,
                            "l2_leaf_reg": 30
                          }
                        ],
                        "learn": [
                          0.3271521044
                        ],
                        "iteration": 39,
                        "passed_time": 96.43283302,
                        "remaining_time": 337.5149156,
                        "test": [
                          0.8670373343,
                          0.3803764787
                        ]
                      },
                      {
                        "parameters": [
                          {
                            "depth": 4,
                            "learning_rate": 0.5555555556,
                            "l2_leaf_reg": 30
                          }
                        ],
                        "learn": [
                          0.3145081286
                        ],
                        "iteration": 40,
                        "passed_time": 98.57565143,
                        "remaining_time": 334.1955012,
                        "test": [
                          0.8656306126,
                          0.3835926317
                        ]
                      },
                      {
                        "parameters": [
                          {
                            "depth": 4,
                            "learning_rate": 0.6666666667,
                            "l2_leaf_reg": 30
                          }
                        ],
                        "learn": [
                          0.2974944707
                        ],
                        "iteration": 41,
                        "passed_time": 102.6257189,
                        "remaining_time": 337.1987907,
                        "test": [
                          0.8625019107,
                          0.3846767662
                        ]
                      },
                      {
                        "parameters": [
                          {
                            "depth": 4,
                            "learning_rate": 0.7777777778,
                            "l2_leaf_reg": 30
                          }
                        ],
                        "learn": [
                          0.2836016836
                        ],
                        "iteration": 42,
                        "passed_time": 104.765599,
                        "remaining_time": 333.7880713,
                        "test": [
                          0.8587880699,
                          0.3903318878
                        ]
                      },
                      {
                        "parameters": [
                          {
                            "depth": 4,
                            "learning_rate": 0.8888888889,
                            "l2_leaf_reg": 30
                          }
                        ],
                        "learn": [
                          0.2663964904
                        ],
                        "iteration": 43,
                        "passed_time": 106.953275,
                        "remaining_time": 330.5828501,
                        "test": [
                          0.8644651114,
                          0.3831096624
                        ]
                      },
                      {
                        "parameters": [
                          {
                            "depth": 4,
                            "learning_rate": 1,
                            "l2_leaf_reg": 30
                          }
                        ],
                        "learn": [
                          0.2633964898
                        ],
                        "iteration": 44,
                        "passed_time": 109.1616815,
                        "remaining_time": 327.4850446,
                        "test": [
                          0.8510570713,
                          0.3974191479
                        ]
                      },
                      {
                        "parameters": [
                          {
                            "depth": 4,
                            "learning_rate": 0.1111111111,
                            "l2_leaf_reg": 50
                          }
                        ],
                        "learn": [
                          0.3917891535
                        ],
                        "iteration": 45,
                        "passed_time": 111.1859814,
                        "remaining_time": 323.889598,
                        "test": [
                          0.8715393213,
                          0.378224254
                        ]
                      },
                      {
                        "parameters": [
                          {
                            "depth": 4,
                            "learning_rate": 0.2222222222,
                            "l2_leaf_reg": 50
                          }
                        ],
                        "learn": [
                          0.3732733612
                        ],
                        "iteration": 46,
                        "passed_time": 113.9424909,
                        "remaining_time": 322.4330061,
                        "test": [
                          0.8710067255,
                          0.3785644967
                        ]
                      },
                      {
                        "parameters": [
                          {
                            "depth": 4,
                            "learning_rate": 0.3333333333,
                            "l2_leaf_reg": 50
                          }
                        ],
                        "learn": [
                          0.359340862
                        ],
                        "iteration": 47,
                        "passed_time": 116.5154986,
                        "remaining_time": 320.4176213,
                        "test": [
                          0.8688811189,
                          0.3797532243
                        ]
                      },
                      {
                        "parameters": [
                          {
                            "depth": 4,
                            "learning_rate": 0.4444444444,
                            "l2_leaf_reg": 50
                          }
                        ],
                        "learn": [
                          0.3479376099
                        ],
                        "iteration": 48,
                        "passed_time": 118.5657406,
                        "remaining_time": 316.981878,
                        "test": [
                          0.8690817379,
                          0.3796423431
                        ]
                      },
                      {
                        "parameters": [
                          {
                            "depth": 4,
                            "learning_rate": 0.5555555556,
                            "l2_leaf_reg": 50
                          }
                        ],
                        "learn": [
                          0.3281018429
                        ],
                        "iteration": 49,
                        "passed_time": 120.6772615,
                        "remaining_time": 313.76088,
                        "test": [
                          0.8664307004,
                          0.3816617181
                        ]
                      },
                      {
                        "parameters": [
                          {
                            "depth": 4,
                            "learning_rate": 0.6666666667,
                            "l2_leaf_reg": 50
                          }
                        ],
                        "learn": [
                          0.3144360764
                        ],
                        "iteration": 50,
                        "passed_time": 122.7584683,
                        "remaining_time": 310.5067141,
                        "test": [
                          0.866234858,
                          0.3813189488
                        ]
                      },
                      {
                        "parameters": [
                          {
                            "depth": 4,
                            "learning_rate": 0.7777777778,
                            "l2_leaf_reg": 50
                          }
                        ],
                        "learn": [
                          0.3017262243
                        ],
                        "iteration": 51,
                        "passed_time": 124.880608,
                        "remaining_time": 307.3984198,
                        "test": [
                          0.8630798846,
                          0.3851721251
                        ]
                      },
                      {
                        "parameters": [
                          {
                            "depth": 4,
                            "learning_rate": 0.8888888889,
                            "l2_leaf_reg": 50
                          }
                        ],
                        "learn": [
                          0.2980301125
                        ],
                        "iteration": 52,
                        "passed_time": 128.2101843,
                        "remaining_time": 307.2206304,
                        "test": [
                          0.8554993504,
                          0.3942509683
                        ]
                      },
                      {
                        "parameters": [
                          {
                            "depth": 4,
                            "learning_rate": 1,
                            "l2_leaf_reg": 50
                          }
                        ],
                        "learn": [
                          0.2834812878
                        ],
                        "iteration": 53,
                        "passed_time": 130.3453488,
                        "remaining_time": 304.1391472,
                        "test": [
                          0.863141981,
                          0.3845703387
                        ]
                      },
                      {
                        "parameters": [
                          {
                            "depth": 6,
                            "learning_rate": 0.1111111111,
                            "l2_leaf_reg": 1
                          }
                        ],
                        "learn": [
                          0.2900730867
                        ],
                        "iteration": 54,
                        "passed_time": 133.5834231,
                        "remaining_time": 303.5986888,
                        "test": [
                          0.8701421529,
                          0.3799718887
                        ]
                      },
                      {
                        "parameters": [
                          {
                            "depth": 6,
                            "learning_rate": 0.2222222222,
                            "l2_leaf_reg": 1
                          }
                        ],
                        "learn": [
                          0.2167312426
                        ],
                        "iteration": 55,
                        "passed_time": 136.9793354,
                        "remaining_time": 303.3113856,
                        "test": [
                          0.8697433031,
                          0.3798802442
                        ]
                      },
                      {
                        "parameters": [
                          {
                            "depth": 6,
                            "learning_rate": 0.3333333333,
                            "l2_leaf_reg": 1
                          }
                        ],
                        "learn": [
                          0.1612460467
                        ],
                        "iteration": 56,
                        "passed_time": 142.29424,
                        "remaining_time": 307.0559917,
                        "test": [
                          0.8667268524,
                          0.3823271521
                        ]
                      },
                      {
                        "parameters": [
                          {
                            "depth": 6,
                            "learning_rate": 0.4444444444,
                            "l2_leaf_reg": 1
                          }
                        ],
                        "learn": [
                          0.1228421796
                        ],
                        "iteration": 57,
                        "passed_time": 146.3323621,
                        "remaining_time": 307.8025548,
                        "test": [
                          0.8679496733,
                          0.3806218706
                        ]
                      },
                      {
                        "parameters": [
                          {
                            "depth": 6,
                            "learning_rate": 0.5555555556,
                            "l2_leaf_reg": 1
                          }
                        ],
                        "learn": [
                          0.1073563554
                        ],
                        "iteration": 58,
                        "passed_time": 149.6738872,
                        "remaining_time": 306.958311,
                        "test": [
                          0.8660891704,
                          0.3821924456
                        ]
                      },
                      {
                        "parameters": [
                          {
                            "depth": 6,
                            "learning_rate": 0.6666666667,
                            "l2_leaf_reg": 1
                          }
                        ],
                        "learn": [
                          0.08558374619
                        ],
                        "iteration": 59,
                        "passed_time": 153.8789702,
                        "remaining_time": 307.7579403,
                        "test": [
                          0.8553417211,
                          0.3937848445
                        ]
                      },
                      {
                        "parameters": [
                          {
                            "depth": 6,
                            "learning_rate": 0.7777777778,
                            "l2_leaf_reg": 1
                          }
                        ],
                        "learn": [
                          0.07492531037
                        ],
                        "iteration": 60,
                        "passed_time": 157.6797053,
                        "remaining_time": 307.6046711,
                        "test": [
                          0.8551267721,
                          0.3950152852
                        ]
                      },
                      {
                        "parameters": [
                          {
                            "depth": 6,
                            "learning_rate": 0.8888888889,
                            "l2_leaf_reg": 1
                          }
                        ],
                        "learn": [
                          0.05723967529
                        ],
                        "iteration": 61,
                        "passed_time": 161.8244092,
                        "remaining_time": 307.9883918,
                        "test": [
                          0.8531349115,
                          0.3960788604
                        ]
                      },
                      {
                        "parameters": [
                          {
                            "depth": 6,
                            "learning_rate": 1,
                            "l2_leaf_reg": 1
                          }
                        ],
                        "learn": [
                          0.04978089939
                        ],
                        "iteration": 62,
                        "passed_time": 165.4931099,
                        "remaining_time": 307.344347,
                        "test": [
                          0.8542932477,
                          0.3984951635
                        ]
                      },
                      {
                        "parameters": [
                          {
                            "depth": 6,
                            "learning_rate": 0.1111111111,
                            "l2_leaf_reg": 5
                          }
                        ],
                        "learn": [
                          0.3175005486
                        ],
                        "iteration": 63,
                        "passed_time": 169.8046161,
                        "remaining_time": 307.7708667,
                        "test": [
                          0.8699773587,
                          0.3807328068
                        ]
                      },
                      {
                        "parameters": [
                          {
                            "depth": 6,
                            "learning_rate": 0.2222222222,
                            "l2_leaf_reg": 5
                          }
                        ],
                        "learn": [
                          0.2504204158
                        ],
                        "iteration": 64,
                        "passed_time": 173.1390508,
                        "remaining_time": 306.322936,
                        "test": [
                          0.8638990791,
                          0.3850508207
                        ]
                      },
                      {
                        "parameters": [
                          {
                            "depth": 6,
                            "learning_rate": 0.3333333333,
                            "l2_leaf_reg": 5
                          }
                        ],
                        "learn": [
                          0.2053448961
                        ],
                        "iteration": 65,
                        "passed_time": 176.4721948,
                        "remaining_time": 304.8156092,
                        "test": [
                          0.8668032787,
                          0.3823032627
                        ]
                      },
                      {
                        "parameters": [
                          {
                            "depth": 6,
                            "learning_rate": 0.4444444444,
                            "l2_leaf_reg": 5
                          }
                        ],
                        "learn": [
                          0.1751498835
                        ],
                        "iteration": 66,
                        "passed_time": 181.0607451,
                        "remaining_time": 305.3711073,
                        "test": [
                          0.8671973518,
                          0.3828675251
                        ]
                      },
                      {
                        "parameters": [
                          {
                            "depth": 6,
                            "learning_rate": 0.5555555556,
                            "l2_leaf_reg": 5
                          }
                        ],
                        "learn": [
                          0.1453801373
                        ],
                        "iteration": 67,
                        "passed_time": 184.4007537,
                        "remaining_time": 303.7188885,
                        "test": [
                          0.8624875807,
                          0.3858618566
                        ]
                      },
                      {
                        "parameters": [
                          {
                            "depth": 6,
                            "learning_rate": 0.6666666667,
                            "l2_leaf_reg": 5
                          }
                        ],
                        "learn": [
                          0.1240314377
                        ],
                        "iteration": 68,
                        "passed_time": 187.8188321,
                        "remaining_time": 302.1433386,
                        "test": [
                          0.8556259314,
                          0.3940935122
                        ]
                      },
                      {
                        "parameters": [
                          {
                            "depth": 6,
                            "learning_rate": 0.7777777778,
                            "l2_leaf_reg": 5
                          }
                        ],
                        "learn": [
                          0.1025542646
                        ],
                        "iteration": 69,
                        "passed_time": 191.7409329,
                        "remaining_time": 301.3071802,
                        "test": [
                          0.8549691429,
                          0.3932836622
                        ]
                      },
                      {
                        "parameters": [
                          {
                            "depth": 6,
                            "learning_rate": 0.8888888889,
                            "l2_leaf_reg": 5
                          }
                        ],
                        "learn": [
                          0.09528746803
                        ],
                        "iteration": 70,
                        "passed_time": 195.8285541,
                        "remaining_time": 300.6382027,
                        "test": [
                          0.8539636593,
                          0.3938152089
                        ]
                      },
                      {
                        "parameters": [
                          {
                            "depth": 6,
                            "learning_rate": 1,
                            "l2_leaf_reg": 5
                          }
                        ],
                        "learn": [
                          0.08854469457
                        ],
                        "iteration": 71,
                        "passed_time": 199.2717459,
                        "remaining_time": 298.9076189,
                        "test": [
                          0.8550192976,
                          0.3930710551
                        ]
                      },
                      {
                        "parameters": [
                          {
                            "depth": 6,
                            "learning_rate": 0.1111111111,
                            "l2_leaf_reg": 10
                          }
                        ],
                        "learn": [
                          0.3362889367
                        ],
                        "iteration": 72,
                        "passed_time": 202.4748569,
                        "remaining_time": 296.7782149,
                        "test": [
                          0.870328442,
                          0.3790850949
                        ]
                      },
                      {
                        "parameters": [
                          {
                            "depth": 6,
                            "learning_rate": 0.2222222222,
                            "l2_leaf_reg": 10
                          }
                        ],
                        "learn": [
                          0.2778293437
                        ],
                        "iteration": 73,
                        "passed_time": 206.9384779,
                        "remaining_time": 296.4253872,
                        "test": [
                          0.8692775803,
                          0.378892284
                        ]
                      },
                      {
                        "parameters": [
                          {
                            "depth": 6,
                            "learning_rate": 0.3333333333,
                            "l2_leaf_reg": 10
                          }
                        ],
                        "learn": [
                          0.2350286979
                        ],
                        "iteration": 74,
                        "passed_time": 210.2254388,
                        "remaining_time": 294.3156143,
                        "test": [
                          0.8681168558,
                          0.3822328861
                        ]
                      },
                      {
                        "parameters": [
                          {
                            "depth": 6,
                            "learning_rate": 0.4444444444,
                            "l2_leaf_reg": 10
                          }
                        ],
                        "learn": [
                          0.20425585
                        ],
                        "iteration": 75,
                        "passed_time": 213.5044669,
                        "remaining_time": 292.1640074,
                        "test": [
                          0.8677896557,
                          0.3814797942
                        ]
                      },
                      {
                        "parameters": [
                          {
                            "depth": 6,
                            "learning_rate": 0.5555555556,
                            "l2_leaf_reg": 10
                          }
                        ],
                        "learn": [
                          0.1751525376
                        ],
                        "iteration": 76,
                        "passed_time": 217.2273018,
                        "remaining_time": 290.5767804,
                        "test": [
                          0.862497134,
                          0.3866176431
                        ]
                      },
                      {
                        "parameters": [
                          {
                            "depth": 6,
                            "learning_rate": 0.6666666667,
                            "l2_leaf_reg": 10
                          }
                        ],
                        "learn": [
                          0.1478830069
                        ],
                        "iteration": 77,
                        "passed_time": 221.3947042,
                        "remaining_time": 289.5161517,
                        "test": [
                          0.8599153579,
                          0.3872375737
                        ]
                      },
                      {
                        "parameters": [
                          {
                            "depth": 6,
                            "learning_rate": 0.7777777778,
                            "l2_leaf_reg": 10
                          }
                        ],
                        "learn": [
                          0.1293822932
                        ],
                        "iteration": 78,
                        "passed_time": 224.7990648,
                        "remaining_time": 287.401336,
                        "test": [
                          0.855370381,
                          0.39306804
                        ]
                      },
                      {
                        "parameters": [
                          {
                            "depth": 6,
                            "learning_rate": 0.8888888889,
                            "l2_leaf_reg": 10
                          }
                        ],
                        "learn": [
                          0.1227560359
                        ],
                        "iteration": 79,
                        "passed_time": 228.2064002,
                        "remaining_time": 285.2580002,
                        "test": [
                          0.8566338034,
                          0.3904517617
                        ]
                      },
                      {
                        "parameters": [
                          {
                            "depth": 6,
                            "learning_rate": 1,
                            "l2_leaf_reg": 10
                          }
                        ],
                        "learn": [
                          0.1056731189
                        ],
                        "iteration": 80,
                        "passed_time": 232.8808457,
                        "remaining_time": 284.6321448,
                        "test": [
                          0.8555542818,
                          0.3930338652
                        ]
                      },
                      {
                        "parameters": [
                          {
                            "depth": 6,
                            "learning_rate": 0.1111111111,
                            "l2_leaf_reg": 12
                          }
                        ],
                        "learn": [
                          0.3422158988
                        ],
                        "iteration": 81,
                        "passed_time": 235.9887121,
                        "remaining_time": 282.03529,
                        "test": [
                          0.8711906263,
                          0.3801389471
                        ]
                      },
                      {
                        "parameters": [
                          {
                            "depth": 6,
                            "learning_rate": 0.2222222222,
                            "l2_leaf_reg": 12
                          }
                        ],
                        "learn": [
                          0.2803358686
                        ],
                        "iteration": 82,
                        "passed_time": 239.2535893,
                        "remaining_time": 279.6096165,
                        "test": [
                          0.869638217,
                          0.3798831538
                        ]
                      },
                      {
                        "parameters": [
                          {
                            "depth": 6,
                            "learning_rate": 0.3333333333,
                            "l2_leaf_reg": 12
                          }
                        ],
                        "learn": [
                          0.2372002242
                        ],
                        "iteration": 83,
                        "passed_time": 243.0015031,
                        "remaining_time": 277.7160035,
                        "test": [
                          0.8684153961,
                          0.3809760543
                        ]
                      },
                      {
                        "parameters": [
                          {
                            "depth": 6,
                            "learning_rate": 0.4444444444,
                            "l2_leaf_reg": 12
                          }
                        ],
                        "learn": [
                          0.216140646
                        ],
                        "iteration": 84,
                        "passed_time": 247.0215102,
                        "remaining_time": 276.0828644,
                        "test": [
                          0.870194696,
                          0.3801087215
                        ]
                      },
                      {
                        "parameters": [
                          {
                            "depth": 6,
                            "learning_rate": 0.5555555556,
                            "l2_leaf_reg": 12
                          }
                        ],
                        "learn": [
                          0.1814767486
                        ],
                        "iteration": 85,
                        "passed_time": 250.326723,
                        "remaining_time": 273.6129298,
                        "test": [
                          0.8622200887,
                          0.3856623218
                        ]
                      },
                      {
                        "parameters": [
                          {
                            "depth": 6,
                            "learning_rate": 0.6666666667,
                            "l2_leaf_reg": 12
                          }
                        ],
                        "learn": [
                          0.1620769911
                        ],
                        "iteration": 86,
                        "passed_time": 253.6622873,
                        "remaining_time": 271.1562382,
                        "test": [
                          0.8641904544,
                          0.3856638549
                        ]
                      },
                      {
                        "parameters": [
                          {
                            "depth": 6,
                            "learning_rate": 0.7777777778,
                            "l2_leaf_reg": 12
                          }
                        ],
                        "learn": [
                          0.1415150914
                        ],
                        "iteration": 87,
                        "passed_time": 258.3210271,
                        "remaining_time": 270.062892,
                        "test": [
                          0.8552987313,
                          0.3944509674
                        ]
                      },
                      {
                        "parameters": [
                          {
                            "depth": 6,
                            "learning_rate": 0.8888888889,
                            "l2_leaf_reg": 12
                          }
                        ],
                        "learn": [
                          0.1239528208
                        ],
                        "iteration": 88,
                        "passed_time": 261.6802393,
                        "remaining_time": 267.5606941,
                        "test": [
                          0.8564140777,
                          0.3905958254
                        ]
                      },
                      {
                        "parameters": [
                          {
                            "depth": 6,
                            "learning_rate": 1,
                            "l2_leaf_reg": 12
                          }
                        ],
                        "learn": [
                          0.1084511117
                        ],
                        "iteration": 89,
                        "passed_time": 265.073751,
                        "remaining_time": 265.073751,
                        "test": [
                          0.8572595437,
                          0.3921756653
                        ]
                      },
                      {
                        "parameters": [
                          {
                            "depth": 6,
                            "learning_rate": 0.1111111111,
                            "l2_leaf_reg": 30
                          }
                        ],
                        "learn": [
                          0.3612744423
                        ],
                        "iteration": 90,
                        "passed_time": 268.4320309,
                        "remaining_time": 262.5324259,
                        "test": [
                          0.871536933,
                          0.3788475926
                        ]
                      },
                      {
                        "parameters": [
                          {
                            "depth": 6,
                            "learning_rate": 0.2222222222,
                            "l2_leaf_reg": 30
                          }
                        ],
                        "learn": [
                          0.3269023969
                        ],
                        "iteration": 91,
                        "passed_time": 272.3638973,
                        "remaining_time": 260.5219887,
                        "test": [
                          0.8682649318,
                          0.3806477802
                        ]
                      },
                      {
                        "parameters": [
                          {
                            "depth": 6,
                            "learning_rate": 0.3333333333,
                            "l2_leaf_reg": 30
                          }
                        ],
                        "learn": [
                          0.294865939
                        ],
                        "iteration": 92,
                        "passed_time": 275.5584196,
                        "remaining_time": 257.7804571,
                        "test": [
                          0.8677705491,
                          0.3808747192
                        ]
                      },
                      {
                        "parameters": [
                          {
                            "depth": 6,
                            "learning_rate": 0.4444444444,
                            "l2_leaf_reg": 30
                          }
                        ],
                        "learn": [
                          0.2585752125
                        ],
                        "iteration": 93,
                        "passed_time": 278.7039493,
                        "remaining_time": 254.9844642,
                        "test": [
                          0.8654658183,
                          0.3841784392
                        ]
                      },
                      {
                        "parameters": [
                          {
                            "depth": 6,
                            "learning_rate": 0.5555555556,
                            "l2_leaf_reg": 30
                          }
                        ],
                        "learn": [
                          0.2332301919
                        ],
                        "iteration": 94,
                        "passed_time": 283.1916244,
                        "remaining_time": 253.3819797,
                        "test": [
                          0.8642931522,
                          0.3868656915
                        ]
                      },
                      {
                        "parameters": [
                          {
                            "depth": 6,
                            "learning_rate": 0.6666666667,
                            "l2_leaf_reg": 30
                          }
                        ],
                        "learn": [
                          0.2201111016
                        ],
                        "iteration": 95,
                        "passed_time": 286.4714749,
                        "remaining_time": 250.6625406,
                        "test": [
                          0.8594568,
                          0.3895845294
                        ]
                      },
                      {
                        "parameters": [
                          {
                            "depth": 6,
                            "learning_rate": 0.7777777778,
                            "l2_leaf_reg": 30
                          }
                        ],
                        "learn": [
                          0.1929725928
                        ],
                        "iteration": 96,
                        "passed_time": 289.8993801,
                        "remaining_time": 248.0582324,
                        "test": [
                          0.8602759945,
                          0.3883717687
                        ]
                      },
                      {
                        "parameters": [
                          {
                            "depth": 6,
                            "learning_rate": 0.8888888889,
                            "l2_leaf_reg": 30
                          }
                        ],
                        "learn": [
                          0.1753832836
                        ],
                        "iteration": 97,
                        "passed_time": 293.3579316,
                        "remaining_time": 245.4627591,
                        "test": [
                          0.8497052811,
                          0.4007562419
                        ]
                      },
                      {
                        "parameters": [
                          {
                            "depth": 6,
                            "learning_rate": 1,
                            "l2_leaf_reg": 30
                          }
                        ],
                        "learn": [
                          0.1607046946
                        ],
                        "iteration": 98,
                        "passed_time": 297.9200929,
                        "remaining_time": 243.7528033,
                        "test": [
                          0.8600658222,
                          0.3887430836
                        ]
                      },
                      {
                        "parameters": [
                          {
                            "depth": 6,
                            "learning_rate": 0.1111111111,
                            "l2_leaf_reg": 50
                          }
                        ],
                        "learn": [
                          0.3739647171
                        ],
                        "iteration": 99,
                        "passed_time": 300.8288723,
                        "remaining_time": 240.6630979,
                        "test": [
                          0.8731657687,
                          0.3770301161
                        ]
                      },
                      {
                        "parameters": [
                          {
                            "depth": 6,
                            "learning_rate": 0.2222222222,
                            "l2_leaf_reg": 50
                          }
                        ],
                        "learn": [
                          0.3492413307
                        ],
                        "iteration": 100,
                        "passed_time": 303.8882085,
                        "remaining_time": 237.6947373,
                        "test": [
                          0.8700442317,
                          0.3791315569
                        ]
                      },
                      {
                        "parameters": [
                          {
                            "depth": 6,
                            "learning_rate": 0.3333333333,
                            "l2_leaf_reg": 50
                          }
                        ],
                        "learn": [
                          0.3205495291
                        ],
                        "iteration": 101,
                        "passed_time": 307.837786,
                        "remaining_time": 235.4053657,
                        "test": [
                          0.8674696205,
                          0.383333367
                        ]
                      },
                      {
                        "parameters": [
                          {
                            "depth": 6,
                            "learning_rate": 0.4444444444,
                            "l2_leaf_reg": 50
                          }
                        ],
                        "learn": [
                          0.2898901072
                        ],
                        "iteration": 102,
                        "passed_time": 311.4060993,
                        "remaining_time": 232.7987344,
                        "test": [
                          0.8658145134,
                          0.3848421512
                        ]
                      },
                      {
                        "parameters": [
                          {
                            "depth": 6,
                            "learning_rate": 0.5555555556,
                            "l2_leaf_reg": 50
                          }
                        ],
                        "learn": [
                          0.2770292613
                        ],
                        "iteration": 103,
                        "passed_time": 314.5391964,
                        "remaining_time": 229.8555666,
                        "test": [
                          0.8645415377,
                          0.3836448349
                        ]
                      },
                      {
                        "parameters": [
                          {
                            "depth": 6,
                            "learning_rate": 0.6666666667,
                            "l2_leaf_reg": 50
                          }
                        ],
                        "learn": [
                          0.2558554814
                        ],
                        "iteration": 104,
                        "passed_time": 317.8823758,
                        "remaining_time": 227.0588399,
                        "test": [
                          0.8599798426,
                          0.3870223831
                        ]
                      },
                      {
                        "parameters": [
                          {
                            "depth": 6,
                            "learning_rate": 0.7777777778,
                            "l2_leaf_reg": 50
                          }
                        ],
                        "learn": [
                          0.2217457568
                        ],
                        "iteration": 105,
                        "passed_time": 322.4959416,
                        "remaining_time": 225.1386762,
                        "test": [
                          0.8628362757,
                          0.3871659123
                        ]
                      },
                      {
                        "parameters": [
                          {
                            "depth": 6,
                            "learning_rate": 0.8888888889,
                            "l2_leaf_reg": 50
                          }
                        ],
                        "learn": [
                          0.1965594178
                        ],
                        "iteration": 106,
                        "passed_time": 325.8012528,
                        "remaining_time": 222.2756211,
                        "test": [
                          0.8530560969,
                          0.3972995753
                        ]
                      },
                      {
                        "parameters": [
                          {
                            "depth": 6,
                            "learning_rate": 1,
                            "l2_leaf_reg": 50
                          }
                        ],
                        "learn": [
                          0.1889198831
                        ],
                        "iteration": 107,
                        "passed_time": 329.0936008,
                        "remaining_time": 219.3957339,
                        "test": [
                          0.8578136345,
                          0.3887939979
                        ]
                      },
                      {
                        "parameters": [
                          {
                            "depth": 10,
                            "learning_rate": 0.1111111111,
                            "l2_leaf_reg": 1
                          }
                        ],
                        "learn": [
                          0.0881774698
                        ],
                        "iteration": 108,
                        "passed_time": 340.8730593,
                        "remaining_time": 222.0365799,
                        "test": [
                          0.86899337,
                          0.3853212476
                        ]
                      },
                      {
                        "parameters": [
                          {
                            "depth": 10,
                            "learning_rate": 0.2222222222,
                            "l2_leaf_reg": 1
                          }
                        ],
                        "learn": [
                          0.02998944793
                        ],
                        "iteration": 109,
                        "passed_time": 353.6931832,
                        "remaining_time": 225.0774802,
                        "test": [
                          0.862000363,
                          0.392385353
                        ]
                      },
                      {
                        "parameters": [
                          {
                            "depth": 10,
                            "learning_rate": 0.3333333333,
                            "l2_leaf_reg": 1
                          }
                        ],
                        "learn": [
                          0.01603405783
                        ],
                        "iteration": 110,
                        "passed_time": 366.5733697,
                        "remaining_time": 227.8699325,
                        "test": [
                          0.856913237,
                          0.3947528442
                        ]
                      },
                      {
                        "parameters": [
                          {
                            "depth": 10,
                            "learning_rate": 0.4444444444,
                            "l2_leaf_reg": 1
                          }
                        ],
                        "learn": [
                          0.00904055473
                        ],
                        "iteration": 111,
                        "passed_time": 379.2754936,
                        "remaining_time": 230.2744068,
                        "test": [
                          0.8466888303,
                          0.4050986656
                        ]
                      },
                      {
                        "parameters": [
                          {
                            "depth": 10,
                            "learning_rate": 0.5555555556,
                            "l2_leaf_reg": 1
                          }
                        ],
                        "learn": [
                          0.005804481249
                        ],
                        "iteration": 112,
                        "passed_time": 392.1655702,
                        "remaining_time": 232.5229487,
                        "test": [
                          0.8428842333,
                          0.4113804201
                        ]
                      },
                      {
                        "parameters": [
                          {
                            "depth": 10,
                            "learning_rate": 0.6666666667,
                            "l2_leaf_reg": 1
                          }
                        ],
                        "learn": [
                          0.004160047512
                        ],
                        "iteration": 113,
                        "passed_time": 405.1220264,
                        "remaining_time": 234.544331,
                        "test": [
                          0.8447901143,
                          0.405921173
                        ]
                      },
                      {
                        "parameters": [
                          {
                            "depth": 10,
                            "learning_rate": 0.7777777778,
                            "l2_leaf_reg": 1
                          }
                        ],
                        "learn": [
                          0.003873299949
                        ],
                        "iteration": 114,
                        "passed_time": 417.9484163,
                        "remaining_time": 236.2317136,
                        "test": [
                          0.8523491536,
                          0.4010121724
                        ]
                      },
                      {
                        "parameters": [
                          {
                            "depth": 10,
                            "learning_rate": 0.8888888889,
                            "l2_leaf_reg": 1
                          }
                        ],
                        "learn": [
                          0.003003761624
                        ],
                        "iteration": 115,
                        "passed_time": 430.8509733,
                        "remaining_time": 237.7108818,
                        "test": [
                          0.8509185487,
                          0.4011402578
                        ]
                      },
                      {
                        "parameters": [
                          {
                            "depth": 10,
                            "learning_rate": 1,
                            "l2_leaf_reg": 1
                          }
                        ],
                        "learn": [
                          0.002853712493
                        ],
                        "iteration": 116,
                        "passed_time": 443.8024679,
                        "remaining_time": 238.9705596,
                        "test": [
                          0.8423277542,
                          0.4106970174
                        ]
                      },
                      {
                        "parameters": [
                          {
                            "depth": 10,
                            "learning_rate": 0.1111111111,
                            "l2_leaf_reg": 5
                          }
                        ],
                        "learn": [
                          0.1605490575
                        ],
                        "iteration": 117,
                        "passed_time": 457.1311998,
                        "remaining_time": 240.1875795,
                        "test": [
                          0.865389392,
                          0.3875492024
                        ]
                      },
                      {
                        "parameters": [
                          {
                            "depth": 10,
                            "learning_rate": 0.2222222222,
                            "l2_leaf_reg": 5
                          }
                        ],
                        "learn": [
                          0.07824183178
                        ],
                        "iteration": 118,
                        "passed_time": 469.7344572,
                        "remaining_time": 240.7882512,
                        "test": [
                          0.8662826245,
                          0.389305428
                        ]
                      },
                      {
                        "parameters": [
                          {
                            "depth": 10,
                            "learning_rate": 0.3333333333,
                            "l2_leaf_reg": 5
                          }
                        ],
                        "learn": [
                          0.04630331794
                        ],
                        "iteration": 119,
                        "passed_time": 482.3119902,
                        "remaining_time": 241.1559951,
                        "test": [
                          0.8628816539,
                          0.3886587329
                        ]
                      },
                      {
                        "parameters": [
                          {
                            "depth": 10,
                            "learning_rate": 0.4444444444,
                            "l2_leaf_reg": 5
                          }
                        ],
                        "learn": [
                          0.03466728392
                        ],
                        "iteration": 120,
                        "passed_time": 495.1899972,
                        "remaining_time": 241.4562796,
                        "test": [
                          0.8551100539,
                          0.3935948277
                        ]
                      },
                      {
                        "parameters": [
                          {
                            "depth": 10,
                            "learning_rate": 0.5555555556,
                            "l2_leaf_reg": 5
                          }
                        ],
                        "learn": [
                          0.02448974986
                        ],
                        "iteration": 121,
                        "passed_time": 508.298685,
                        "remaining_time": 241.6501945,
                        "test": [
                          0.8436007299,
                          0.4075533962
                        ]
                      },
                      {
                        "parameters": [
                          {
                            "depth": 10,
                            "learning_rate": 0.6666666667,
                            "l2_leaf_reg": 5
                          }
                        ],
                        "learn": [
                          0.01721134604
                        ],
                        "iteration": 122,
                        "passed_time": 521.288971,
                        "remaining_time": 241.5729378,
                        "test": [
                          0.8548879399,
                          0.3963406938
                        ]
                      },
                      {
                        "parameters": [
                          {
                            "depth": 10,
                            "learning_rate": 0.7777777778,
                            "l2_leaf_reg": 5
                          }
                        ],
                        "learn": [
                          0.01417836815
                        ],
                        "iteration": 123,
                        "passed_time": 534.324496,
                        "remaining_time": 241.3078369,
                        "test": [
                          0.852544996,
                          0.400744509
                        ]
                      },
                      {
                        "parameters": [
                          {
                            "depth": 10,
                            "learning_rate": 0.8888888889,
                            "l2_leaf_reg": 5
                          }
                        ],
                        "learn": [
                          0.01129023459
                        ],
                        "iteration": 124,
                        "passed_time": 547.076669,
                        "remaining_time": 240.7137344,
                        "test": [
                          0.8511764874,
                          0.4014944081
                        ]
                      },
                      {
                        "parameters": [
                          {
                            "depth": 10,
                            "learning_rate": 1,
                            "l2_leaf_reg": 5
                          }
                        ],
                        "learn": [
                          0.01065798727
                        ],
                        "iteration": 125,
                        "passed_time": 559.9685054,
                        "remaining_time": 239.9865023,
                        "test": [
                          0.8394952042,
                          0.4169250953
                        ]
                      },
                      {
                        "parameters": [
                          {
                            "depth": 10,
                            "learning_rate": 0.1111111111,
                            "l2_leaf_reg": 10
                          }
                        ],
                        "learn": [
                          0.202413795
                        ],
                        "iteration": 126,
                        "passed_time": 571.7258834,
                        "remaining_time": 238.5942663,
                        "test": [
                          0.8635742673,
                          0.3889567119
                        ]
                      },
                      {
                        "parameters": [
                          {
                            "depth": 10,
                            "learning_rate": 0.2222222222,
                            "l2_leaf_reg": 10
                          }
                        ],
                        "learn": [
                          0.1148555533
                        ],
                        "iteration": 127,
                        "passed_time": 584.2059326,
                        "remaining_time": 237.3336601,
                        "test": [
                          0.8660820054,
                          0.390188116
                        ]
                      },
                      {
                        "parameters": [
                          {
                            "depth": 10,
                            "learning_rate": 0.3333333333,
                            "l2_leaf_reg": 10
                          }
                        ],
                        "learn": [
                          0.07269653595
                        ],
                        "iteration": 128,
                        "passed_time": 597.0313142,
                        "remaining_time": 236.0356359,
                        "test": [
                          0.8639325156,
                          0.3906671508
                        ]
                      },
                      {
                        "parameters": [
                          {
                            "depth": 10,
                            "learning_rate": 0.4444444444,
                            "l2_leaf_reg": 10
                          }
                        ],
                        "learn": [
                          0.05298706856
                        ],
                        "iteration": 129,
                        "passed_time": 609.6251202,
                        "remaining_time": 234.4712001,
                        "test": [
                          0.8579043907,
                          0.3913459454
                        ]
                      },
                      {
                        "parameters": [
                          {
                            "depth": 10,
                            "learning_rate": 0.5555555556,
                            "l2_leaf_reg": 10
                          }
                        ],
                        "learn": [
                          0.04478235472
                        ],
                        "iteration": 130,
                        "passed_time": 622.5970997,
                        "remaining_time": 232.8798312,
                        "test": [
                          0.8513794948,
                          0.3999574411
                        ]
                      },
                      {
                        "parameters": [
                          {
                            "depth": 10,
                            "learning_rate": 0.6666666667,
                            "l2_leaf_reg": 10
                          }
                        ],
                        "learn": [
                          0.03274536079
                        ],
                        "iteration": 131,
                        "passed_time": 635.6543092,
                        "remaining_time": 231.1470215,
                        "test": [
                          0.8553536627,
                          0.3946853658
                        ]
                      },
                      {
                        "parameters": [
                          {
                            "depth": 10,
                            "learning_rate": 0.7777777778,
                            "l2_leaf_reg": 10
                          }
                        ],
                        "learn": [
                          0.02560026776
                        ],
                        "iteration": 132,
                        "passed_time": 648.5610151,
                        "remaining_time": 229.1907347,
                        "test": [
                          0.8548425618,
                          0.3947050811
                        ]
                      },
                      {
                        "parameters": [
                          {
                            "depth": 10,
                            "learning_rate": 0.8888888889,
                            "l2_leaf_reg": 10
                          }
                        ],
                        "learn": [
                          0.02128790932
                        ],
                        "iteration": 133,
                        "passed_time": 661.4801888,
                        "remaining_time": 227.0752887,
                        "test": [
                          0.8527050136,
                          0.3978617483
                        ]
                      },
                      {
                        "parameters": [
                          {
                            "depth": 10,
                            "learning_rate": 1,
                            "l2_leaf_reg": 10
                          }
                        ],
                        "learn": [
                          0.01777811493
                        ],
                        "iteration": 134,
                        "passed_time": 674.2953062,
                        "remaining_time": 224.7651021,
                        "test": [
                          0.8436652146,
                          0.4102867867
                        ]
                      },
                      {
                        "parameters": [
                          {
                            "depth": 10,
                            "learning_rate": 0.1111111111,
                            "l2_leaf_reg": 12
                          }
                        ],
                        "learn": [
                          0.2152145647
                        ],
                        "iteration": 135,
                        "passed_time": 686.1627783,
                        "remaining_time": 221.99384,
                        "test": [
                          0.8701923077,
                          0.385568289
                        ]
                      },
                      {
                        "parameters": [
                          {
                            "depth": 10,
                            "learning_rate": 0.2222222222,
                            "l2_leaf_reg": 12
                          }
                        ],
                        "learn": [
                          0.1323464815
                        ],
                        "iteration": 136,
                        "passed_time": 698.5846156,
                        "remaining_time": 219.2637845,
                        "test": [
                          0.8667292407,
                          0.3860376721
                        ]
                      },
                      {
                        "parameters": [
                          {
                            "depth": 10,
                            "learning_rate": 0.3333333333,
                            "l2_leaf_reg": 12
                          }
                        ],
                        "learn": [
                          0.0820223978
                        ],
                        "iteration": 137,
                        "passed_time": 711.8375867,
                        "remaining_time": 216.646222,
                        "test": [
                          0.8618379571,
                          0.3885461873
                        ]
                      },
                      {
                        "parameters": [
                          {
                            "depth": 10,
                            "learning_rate": 0.4444444444,
                            "l2_leaf_reg": 12
                          }
                        ],
                        "learn": [
                          0.06242234944
                        ],
                        "iteration": 138,
                        "passed_time": 724.8335574,
                        "remaining_time": 213.7998263,
                        "test": [
                          0.8641450762,
                          0.386000054
                        ]
                      },
                      {
                        "parameters": [
                          {
                            "depth": 10,
                            "learning_rate": 0.5555555556,
                            "l2_leaf_reg": 12
                          }
                        ],
                        "learn": [
                          0.04762605012
                        ],
                        "iteration": 139,
                        "passed_time": 738.9944643,
                        "remaining_time": 211.1412755,
                        "test": [
                          0.848592323,
                          0.4034757954
                        ]
                      },
                      {
                        "parameters": [
                          {
                            "depth": 10,
                            "learning_rate": 0.6666666667,
                            "l2_leaf_reg": 12
                          }
                        ],
                        "learn": [
                          0.03802066293
                        ],
                        "iteration": 140,
                        "passed_time": 752.2906143,
                        "remaining_time": 208.0803827,
                        "test": [
                          0.8538155833,
                          0.3976727279
                        ]
                      },
                      {
                        "parameters": [
                          {
                            "depth": 10,
                            "learning_rate": 0.7777777778,
                            "l2_leaf_reg": 12
                          }
                        ],
                        "learn": [
                          0.03089462518
                        ],
                        "iteration": 141,
                        "passed_time": 765.1511761,
                        "remaining_time": 204.7587654,
                        "test": [
                          0.8523037755,
                          0.3984540416
                        ]
                      },
                      {
                        "parameters": [
                          {
                            "depth": 10,
                            "learning_rate": 0.8888888889,
                            "l2_leaf_reg": 12
                          }
                        ],
                        "learn": [
                          0.02432957957
                        ],
                        "iteration": 142,
                        "passed_time": 778.074092,
                        "remaining_time": 201.31987,
                        "test": [
                          0.8525903741,
                          0.3979239576
                        ]
                      },
                      {
                        "parameters": [
                          {
                            "depth": 10,
                            "learning_rate": 1,
                            "l2_leaf_reg": 12
                          }
                        ],
                        "learn": [
                          0.02076618586
                        ],
                        "iteration": 143,
                        "passed_time": 790.9873636,
                        "remaining_time": 197.7468409,
                        "test": [
                          0.8448163858,
                          0.4088629414
                        ]
                      },
                      {
                        "parameters": [
                          {
                            "depth": 10,
                            "learning_rate": 0.1111111111,
                            "l2_leaf_reg": 30
                          }
                        ],
                        "learn": [
                          0.2809384925
                        ],
                        "iteration": 144,
                        "passed_time": 802.57105,
                        "remaining_time": 193.7240465,
                        "test": [
                          0.8692130956,
                          0.3820908664
                        ]
                      },
                      {
                        "parameters": [
                          {
                            "depth": 10,
                            "learning_rate": 0.2222222222,
                            "l2_leaf_reg": 30
                          }
                        ],
                        "learn": [
                          0.2061170958
                        ],
                        "iteration": 145,
                        "passed_time": 815.341565,
                        "remaining_time": 189.8740631,
                        "test": [
                          0.8679305667,
                          0.3845085409
                        ]
                      },
                      {
                        "parameters": [
                          {
                            "depth": 10,
                            "learning_rate": 0.3333333333,
                            "l2_leaf_reg": 30
                          }
                        ],
                        "learn": [
                          0.1432684202
                        ],
                        "iteration": 146,
                        "passed_time": 828.0692629,
                        "remaining_time": 185.8930998,
                        "test": [
                          0.8639181856,
                          0.3859395562
                        ]
                      },
                      {
                        "parameters": [
                          {
                            "depth": 10,
                            "learning_rate": 0.4444444444,
                            "l2_leaf_reg": 30
                          }
                        ],
                        "learn": [
                          0.1243395312
                        ],
                        "iteration": 147,
                        "passed_time": 840.9634559,
                        "remaining_time": 181.8299364,
                        "test": [
                          0.8573574649,
                          0.3966232916
                        ]
                      },
                      {
                        "parameters": [
                          {
                            "depth": 10,
                            "learning_rate": 0.5555555556,
                            "l2_leaf_reg": 30
                          }
                        ],
                        "learn": [
                          0.09982657295
                        ],
                        "iteration": 148,
                        "passed_time": 854.0413022,
                        "remaining_time": 177.6864454,
                        "test": [
                          0.8539015629,
                          0.3972991557
                        ]
                      },
                      {
                        "parameters": [
                          {
                            "depth": 10,
                            "learning_rate": 0.6666666667,
                            "l2_leaf_reg": 30
                          }
                        ],
                        "learn": [
                          0.08021931059
                        ],
                        "iteration": 149,
                        "passed_time": 866.9845771,
                        "remaining_time": 173.3969154,
                        "test": [
                          0.8572499904,
                          0.3958624552
                        ]
                      },
                      {
                        "parameters": [
                          {
                            "depth": 10,
                            "learning_rate": 0.7777777778,
                            "l2_leaf_reg": 30
                          }
                        ],
                        "learn": [
                          0.06976821153
                        ],
                        "iteration": 150,
                        "passed_time": 879.9181282,
                        "remaining_time": 168.9908988,
                        "test": [
                          0.8538466315,
                          0.3965034245
                        ]
                      },
                      {
                        "parameters": [
                          {
                            "depth": 10,
                            "learning_rate": 0.8888888889,
                            "l2_leaf_reg": 30
                          }
                        ],
                        "learn": [
                          0.05723405816
                        ],
                        "iteration": 151,
                        "passed_time": 892.8794837,
                        "remaining_time": 164.4777996,
                        "test": [
                          0.8588955443,
                          0.3913057214
                        ]
                      },
                      {
                        "parameters": [
                          {
                            "depth": 10,
                            "learning_rate": 1,
                            "l2_leaf_reg": 30
                          }
                        ],
                        "learn": [
                          0.05267616358
                        ],
                        "iteration": 152,
                        "passed_time": 905.861347,
                        "remaining_time": 159.8578848,
                        "test": [
                          0.843720146,
                          0.4099236716
                        ]
                      },
                      {
                        "parameters": [
                          {
                            "depth": 10,
                            "learning_rate": 0.1111111111,
                            "l2_leaf_reg": 50
                          }
                        ],
                        "learn": [
                          0.3232071378
                        ],
                        "iteration": 153,
                        "passed_time": 917.0650783,
                        "remaining_time": 154.8291691,
                        "test": [
                          0.8684153961,
                          0.382995135
                        ]
                      },
                      {
                        "parameters": [
                          {
                            "depth": 10,
                            "learning_rate": 0.2222222222,
                            "l2_leaf_reg": 50
                          }
                        ],
                        "learn": [
                          0.2680341708
                        ],
                        "iteration": 154,
                        "passed_time": 929.364152,
                        "remaining_time": 149.8974439,
                        "test": [
                          0.8685539188,
                          0.3827108882
                        ]
                      },
                      {
                        "parameters": [
                          {
                            "depth": 10,
                            "learning_rate": 0.3333333333,
                            "l2_leaf_reg": 50
                          }
                        ],
                        "learn": [
                          0.2009450196
                        ],
                        "iteration": 155,
                        "passed_time": 942.3240786,
                        "remaining_time": 144.9729352,
                        "test": [
                          0.8678971302,
                          0.3814152791
                        ]
                      },
                      {
                        "parameters": [
                          {
                            "depth": 10,
                            "learning_rate": 0.4444444444,
                            "l2_leaf_reg": 50
                          }
                        ],
                        "learn": [
                          0.1605635549
                        ],
                        "iteration": 156,
                        "passed_time": 955.2860886,
                        "remaining_time": 139.9463697,
                        "test": [
                          0.8619621499,
                          0.3881728642
                        ]
                      },
                      {
                        "parameters": [
                          {
                            "depth": 10,
                            "learning_rate": 0.5555555556,
                            "l2_leaf_reg": 50
                          }
                        ],
                        "learn": [
                          0.1414097801
                        ],
                        "iteration": 157,
                        "passed_time": 968.2804187,
                        "remaining_time": 134.8238558,
                        "test": [
                          0.8649308342,
                          0.3845479088
                        ]
                      },
                      {
                        "parameters": [
                          {
                            "depth": 10,
                            "learning_rate": 0.6666666667,
                            "l2_leaf_reg": 50
                          }
                        ],
                        "learn": [
                          0.1126947713
                        ],
                        "iteration": 158,
                        "passed_time": 981.4121249,
                        "remaining_time": 129.6204693,
                        "test": [
                          0.8610928006,
                          0.3899513203
                        ]
                      },
                      {
                        "parameters": [
                          {
                            "depth": 10,
                            "learning_rate": 0.7777777778,
                            "l2_leaf_reg": 50
                          }
                        ],
                        "learn": [
                          0.09925711076
                        ],
                        "iteration": 159,
                        "passed_time": 994.5699683,
                        "remaining_time": 124.321246,
                        "test": [
                          0.8519240323,
                          0.4003745749
                        ]
                      },
                      {
                        "parameters": [
                          {
                            "depth": 10,
                            "learning_rate": 0.8888888889,
                            "l2_leaf_reg": 50
                          }
                        ],
                        "learn": [
                          0.09023997282
                        ],
                        "iteration": 160,
                        "passed_time": 1007.461273,
                        "remaining_time": 118.8929453,
                        "test": [
                          0.857558084,
                          0.3922244377
                        ]
                      },
                      {
                        "parameters": [
                          {
                            "depth": 10,
                            "learning_rate": 1,
                            "l2_leaf_reg": 50
                          }
                        ],
                        "learn": [
                          0.07479370882
                        ],
                        "iteration": 161,
                        "passed_time": 1022.558902,
                        "remaining_time": 113.6176558,
                        "test": [
                          0.8512003707,
                          0.3976828348
                        ]
                      }
                    ],
                    "meta": {
                      "test_sets": [
                        "test"
                      ],
                      "test_metrics": [
                        {
                          "best_value": "Max",
                          "name": "AUC"
                        },
                        {
                          "best_value": "Min",
                          "name": "Logloss"
                        }
                      ],
                      "learn_metrics": [
                        {
                          "best_value": "Min",
                          "name": "Logloss"
                        }
                      ],
                      "launch_mode": "Train",
                      "parameters": "parameters",
                      "iteration_count": 180,
                      "learn_sets": [
                        "learn"
                      ],
                      "name": "experiment"
                    }
                  }
                }
              }
            },
            "layout": "IPY_MODEL_1ca5b45e5da14c8bb8d5b5757038b4a0"
          }
        }
      }
    }
  },
  "cells": [
    {
      "cell_type": "markdown",
      "metadata": {
        "id": "TK7oX5qdEEYr"
      },
      "source": [
        "# Домашнее задание. Решение конкурса на kaggle.com\n",
        "\n",
        "Это домашнее задание посвящено полноценному решению задачи машинного обучения."
      ]
    },
    {
      "cell_type": "markdown",
      "metadata": {
        "id": "zlB-owfaEEYs"
      },
      "source": [
        "Есть две части этого домашнего задания:\n",
        "\n",
        "### Отправить ваши предсказания в Stepik.\n",
        "За прохождение определенных порогов будут начисляться баллы. Эта часть оценивается из 5 баллов.\n",
        "\n",
        "1) $1.00 \\geqslant score \\geqslant 0.84$ --- 5 баллов\n",
        "\n",
        "2) $0.84 > score \\geqslant 0.77$ --- 4 балла\n",
        "\n",
        "3) $0.77 > score \\geqslant 0.70$ --- 3 балла\n",
        "\n",
        "4) $0.70 > score \\geqslant 0.65$ --- 2 балла\n",
        "\n",
        "5) $0.65 > score \\geqslant 0.6$ --- 1 балл\n",
        "\n",
        "6) $0.60 > score$ --- 0 баллов\n",
        "\n",
        "Для этого мы предварительно разделили данные в задании на две части.\n",
        "* `train.csv`. На этом наборе данных вам необходимо создать и обучить модель. Подробное описание файла есть в ноутбуке.\n",
        "* `test.csv`. В каждой строчке файла `test.csv` указаны признаки тестовых объектов. Предсказания для этого набора необходимо записать в файл submission.csv и сдать в соответствующий шаг на Stepik. Количество попыток ограничено 100 штук.\n",
        "\n",
        "Отправлять в Stepik вы будете файл с ответами `my_submission.csv`. В этом файле вам необходимо для каждого объекта из датасета предсказать вероятность класса 1. Мы подготовили для вас файл с примером посылки `submission.csv`. Ваш файл должен быть оформлен таким же образом. В ноутбуке есть пример оформления файла посылки. Для отправки файла с предсказаниями на Stepik есть отдельный шаг.\n",
        "\n",
        "### Сделать полноценный отчет о вашей работе.\n",
        "Опишите, как вы обработали данные, какие модели попробовали и какие результаты получились (максимум 10 баллов). За каждую выполненную часть будет начислено определенное количество баллов. В этом пункте вам необходимо отправить файл в формате .ipynb на Stepik --- для этого в домашнем задании есть отдельный шаг. Этот пункт оценивается из 10 баллов.\n",
        "\n",
        "**Вторая часть будет проверяться в формате peer-review. Т.е. вашу посылку на Stepik будут проверять 3 других студента, и медианное значение их оценок будет выставлено. Чтобы получить баллы, вам также нужно будет проверить трех других учеников. Это станет доступно после того, как вы сдадите задание сами.**\n",
        "\n",
        "### Контест на Kaggle\n",
        "Для вашего удобства мы подготовили [контест на Kaggle](https://www.kaggle.com/c/advanced-dls-spring-2021/). Тестирующая система на Kaggle выдает те же баллы, что и Stepik. Мы рекомендуем в качестве основной тестирующей системы использовать именно Kaggle, а затем сдать лучшую посылку на Stepik. Так вы привыкните работать с Kaggle.\n",
        "\n",
        "Проблема для российских пользователей Kaggle заключается в том, что подтверждение аккаунта по номеру телефона работает с перебоями или не работает вообще. Без подтвержденного номера телефона вы не сможете совершать посылки в kaggle. Если у вас возникла такая проблема, мы советуем следующие шаги:\n",
        "* Попробовать зарегистрировать аккаунт с аутентификацией через gmail. В таком случае, аккаунт должен работать без подтверждения номера телефона.\n",
        "* Если у вас есть не российский номер, используйте его для верификации аккаунта.\n",
        "* Если на номер телефона не приходит смс для верификации аккаунта, обратитесь в службу поддержки kaggle. Они с переменным успехом умеют подтверждать аккаунты вручную.\n",
        "* Если все же подтвердить аккаунт и получить доступ к сдаче заданий не удалось, используйте только сдачу в Stepik.\n",
        "\n",
        "### Несколько замечаний по выполнению работы\n",
        "* Во всех пунктах указания это минимальный набор вещей, которые стоит сделать. Если вы можете сделать какой-то шаг лучше или добавить что-то свое --- дерзайте!\n",
        "* Пожалуйста, перед сдачей ноутбука убедитесь, что работа чистая и понятная. Это значительно облегчит проверку и повысит ваши ожидаемые баллы.\n",
        "* Если у вас будут проблемы с решением или хочется совета, то пишите в наш чат в телеграме.\n",
        "\n",
        "\n",
        "Данные: [train.csv](https://drive.google.com/file/d/1ERwQ5odiK1Zvi1LtjpkzCMUswYsAX8_K/view?usp=share_link),\n",
        "[test.csv](https://drive.google.com/file/d/1fGw_-RFwvn_LEdt91Jq-7A-wzG6mmH8r/view?usp=share_link), [submission.csv](https://drive.google.com/file/d/199Mt4OYZNaelT83U-HGDsEYs2YcUGQ6y/view?usp=share_link).\n",
        "\n",
        "Если ссылки на данные не работают, их можно скачать [на Kaggle](https://www.kaggle.com/competitions/advanced-dls-spring-2021/data)."
      ]
    },
    {
      "cell_type": "markdown",
      "metadata": {
        "id": "Tu_JvqcBEN8Y"
      },
      "source": [
        "# Как проверять?\n",
        "\n",
        "Ставьте полный балл, если выполнены все рекомендации или сделано что-то более интересное и сложное. За каждый отсустствующий пункт из рекомендации снижайте 1 балл.\n",
        "\n",
        "**Если решение верное, но не удовлетворяет вашим эстетическим предпочтениям, за это баллы снижать не нужно.**"
      ]
    },
    {
      "cell_type": "markdown",
      "metadata": {
        "id": "ninJ63mJEEYt"
      },
      "source": [
        "# Метрика\n",
        "\n",
        "Перед решением любой задачи важно понимать, как будет оцениваться ваше решение. В данном случае мы используем стандартную для задачи классификации метрику ROC-AUC. Ее можно вычислить, используя только предсказанные вероятности и истинные классы без конкретного порога классификации + она раотает даже если классы в данных сильно несбалансированны (примеров одного класса в десятки раз больше примеров длугого). Именно поэтому она очень удобна для соревнований.\n",
        "\n",
        "Посчитать ее легко:\n"
      ]
    },
    {
      "cell_type": "code",
      "metadata": {
        "id": "SQIrka7yEEYu",
        "outputId": "ef45a9f2-7571-47b1-e697-b474b65cb0fb"
      },
      "source": [
        "from sklearn.metrics import roc_auc_score\n",
        "\n",
        "y_true = [\n",
        "    0,\n",
        "    1,\n",
        "    1,\n",
        "    0,\n",
        "    1\n",
        "]\n",
        "\n",
        "y_predictions = [\n",
        "    0.1,\n",
        "    0.9,\n",
        "    0.4,\n",
        "    0.6,\n",
        "    0.61\n",
        "]\n",
        "\n",
        "roc_auc_score(y_true, y_predictions)"
      ],
      "execution_count": null,
      "outputs": [
        {
          "output_type": "execute_result",
          "data": {
            "text/plain": [
              "0.8333333333333333"
            ]
          },
          "metadata": {
            "tags": []
          },
          "execution_count": 11
        }
      ]
    },
    {
      "cell_type": "markdown",
      "metadata": {
        "id": "IrDNNkNTEEYz"
      },
      "source": [
        "# Первая часть. Исследование"
      ]
    },
    {
      "cell_type": "code",
      "metadata": {
        "id": "lzLqEeZKEEYz"
      },
      "source": [
        "import pandas as pd\n",
        "import numpy as np\n",
        "from matplotlib import pyplot as plt"
      ],
      "execution_count": 1,
      "outputs": []
    },
    {
      "cell_type": "markdown",
      "metadata": {
        "id": "LOlxdURSEEY3"
      },
      "source": [
        "## Загрузка данных (2 балла)\n",
        "\n",
        "1) Посмотрите на случайные строчки.\n",
        "\n",
        "2) Посмотрите, есть ли в датасете незаполненные значения (nan'ы) с помощью data.isna() или data.info() и, если нужно, замените их на что-то. Будет хорошо, если вы построите табличку с количеством nan в каждой колонке."
      ]
    },
    {
      "cell_type": "code",
      "source": [
        "!gdown 1ERwQ5odiK1Zvi1LtjpkzCMUswYsAX8_K  # train.csv\n",
        "!gdown 1fGw_-RFwvn_LEdt91Jq-7A-wzG6mmH8r  # test.csv\n",
        "!gdown 199Mt4OYZNaelT83U-HGDsEYs2YcUGQ6y  # submission.csv"
      ],
      "metadata": {
        "id": "XULA1f3ch6RL",
        "outputId": "142af561-e64c-4a29-ce4b-e5557f2be369",
        "colab": {
          "base_uri": "https://localhost:8080/"
        }
      },
      "execution_count": 2,
      "outputs": [
        {
          "output_type": "stream",
          "name": "stdout",
          "text": [
            "Downloading...\n",
            "From: https://drive.google.com/uc?id=1ERwQ5odiK1Zvi1LtjpkzCMUswYsAX8_K\n",
            "To: /content/train.csv\n",
            "100% 664k/664k [00:00<00:00, 109MB/s]\n",
            "Downloading...\n",
            "From: https://drive.google.com/uc?id=1fGw_-RFwvn_LEdt91Jq-7A-wzG6mmH8r\n",
            "To: /content/test.csv\n",
            "100% 218k/218k [00:00<00:00, 89.8MB/s]\n",
            "Downloading...\n",
            "From: https://drive.google.com/uc?id=199Mt4OYZNaelT83U-HGDsEYs2YcUGQ6y\n",
            "To: /content/submission.csv\n",
            "100% 14.7k/14.7k [00:00<00:00, 29.0MB/s]\n"
          ]
        }
      ]
    },
    {
      "cell_type": "code",
      "metadata": {
        "id": "pw-Brue9EEY3"
      },
      "source": [
        "data = pd.read_csv('./train.csv')"
      ],
      "execution_count": 3,
      "outputs": []
    },
    {
      "cell_type": "code",
      "metadata": {
        "id": "KgnkkF5bEEY9"
      },
      "source": [
        "# Для вашего удобства списки с именами разных колонок\n",
        "\n",
        "# Числовые признаки\n",
        "num_cols = [\n",
        "    'ClientPeriod',\n",
        "    'MonthlySpending',\n",
        "    'TotalSpent'\n",
        "]\n",
        "\n",
        "# Категориальные признаки\n",
        "cat_cols = [\n",
        "    'Sex',\n",
        "    'IsSeniorCitizen',\n",
        "    'HasPartner',\n",
        "    'HasChild',\n",
        "    'HasPhoneService',\n",
        "    'HasMultiplePhoneNumbers',\n",
        "    'HasInternetService',\n",
        "    'HasOnlineSecurityService',\n",
        "    'HasOnlineBackup',\n",
        "    'HasDeviceProtection',\n",
        "    'HasTechSupportAccess',\n",
        "    'HasOnlineTV',\n",
        "    'HasMovieSubscription',\n",
        "    'HasContractPhone',\n",
        "    'IsBillingPaperless',\n",
        "    'PaymentMethod'\n",
        "]\n",
        "\n",
        "feature_cols = num_cols + cat_cols\n",
        "target_col = 'Churn'"
      ],
      "execution_count": 4,
      "outputs": []
    },
    {
      "cell_type": "code",
      "metadata": {
        "id": "tHC6gWabEEZA",
        "outputId": "49591722-1744-4e39-bd92-d6f413e510db",
        "colab": {
          "base_uri": "https://localhost:8080/",
          "height": 261
        }
      },
      "source": [
        "data.sample(5)"
      ],
      "execution_count": 6,
      "outputs": [
        {
          "output_type": "execute_result",
          "data": {
            "text/plain": [
              "      ClientPeriod  MonthlySpending TotalSpent     Sex  IsSeniorCitizen  \\\n",
              "2016            70            89.75     6367.2  Female                0   \n",
              "2786             1            29.70       29.7    Male                0   \n",
              "4194            69           116.00    8182.85  Female                0   \n",
              "3967            50           103.95     5231.3    Male                0   \n",
              "996             25            94.70     2362.1    Male                0   \n",
              "\n",
              "     HasPartner HasChild HasPhoneService HasMultiplePhoneNumbers  \\\n",
              "2016         No       No             Yes                     Yes   \n",
              "2786         No       No              No        No phone service   \n",
              "4194        Yes       No             Yes                     Yes   \n",
              "3967        Yes       No             Yes                     Yes   \n",
              "996          No       No             Yes                     Yes   \n",
              "\n",
              "     HasInternetService HasOnlineSecurityService HasOnlineBackup  \\\n",
              "2016                DSL                      Yes             Yes   \n",
              "2786                DSL                      Yes              No   \n",
              "4194        Fiber optic                      Yes             Yes   \n",
              "3967        Fiber optic                      Yes              No   \n",
              "996         Fiber optic                       No              No   \n",
              "\n",
              "     HasDeviceProtection HasTechSupportAccess HasOnlineTV  \\\n",
              "2016                 Yes                  Yes         Yes   \n",
              "2786                  No                   No          No   \n",
              "4194                 Yes                  Yes         Yes   \n",
              "3967                 Yes                   No         Yes   \n",
              "996                   No                   No         Yes   \n",
              "\n",
              "     HasMovieSubscription HasContractPhone IsBillingPaperless  \\\n",
              "2016                  Yes         Two year                 No   \n",
              "2786                   No   Month-to-month                 No   \n",
              "4194                  Yes         Two year                Yes   \n",
              "3967                  Yes         One year                Yes   \n",
              "996                   Yes   Month-to-month                Yes   \n",
              "\n",
              "                  PaymentMethod  Churn  \n",
              "2016    Credit card (automatic)      0  \n",
              "2786               Mailed check      1  \n",
              "4194           Electronic check      0  \n",
              "3967           Electronic check      0  \n",
              "996   Bank transfer (automatic)      1  "
            ],
            "text/html": [
              "\n",
              "  <div id=\"df-2f16411d-a223-46c4-824e-d8ef27e4acfd\" class=\"colab-df-container\">\n",
              "    <div>\n",
              "<style scoped>\n",
              "    .dataframe tbody tr th:only-of-type {\n",
              "        vertical-align: middle;\n",
              "    }\n",
              "\n",
              "    .dataframe tbody tr th {\n",
              "        vertical-align: top;\n",
              "    }\n",
              "\n",
              "    .dataframe thead th {\n",
              "        text-align: right;\n",
              "    }\n",
              "</style>\n",
              "<table border=\"1\" class=\"dataframe\">\n",
              "  <thead>\n",
              "    <tr style=\"text-align: right;\">\n",
              "      <th></th>\n",
              "      <th>ClientPeriod</th>\n",
              "      <th>MonthlySpending</th>\n",
              "      <th>TotalSpent</th>\n",
              "      <th>Sex</th>\n",
              "      <th>IsSeniorCitizen</th>\n",
              "      <th>HasPartner</th>\n",
              "      <th>HasChild</th>\n",
              "      <th>HasPhoneService</th>\n",
              "      <th>HasMultiplePhoneNumbers</th>\n",
              "      <th>HasInternetService</th>\n",
              "      <th>HasOnlineSecurityService</th>\n",
              "      <th>HasOnlineBackup</th>\n",
              "      <th>HasDeviceProtection</th>\n",
              "      <th>HasTechSupportAccess</th>\n",
              "      <th>HasOnlineTV</th>\n",
              "      <th>HasMovieSubscription</th>\n",
              "      <th>HasContractPhone</th>\n",
              "      <th>IsBillingPaperless</th>\n",
              "      <th>PaymentMethod</th>\n",
              "      <th>Churn</th>\n",
              "    </tr>\n",
              "  </thead>\n",
              "  <tbody>\n",
              "    <tr>\n",
              "      <th>2016</th>\n",
              "      <td>70</td>\n",
              "      <td>89.75</td>\n",
              "      <td>6367.2</td>\n",
              "      <td>Female</td>\n",
              "      <td>0</td>\n",
              "      <td>No</td>\n",
              "      <td>No</td>\n",
              "      <td>Yes</td>\n",
              "      <td>Yes</td>\n",
              "      <td>DSL</td>\n",
              "      <td>Yes</td>\n",
              "      <td>Yes</td>\n",
              "      <td>Yes</td>\n",
              "      <td>Yes</td>\n",
              "      <td>Yes</td>\n",
              "      <td>Yes</td>\n",
              "      <td>Two year</td>\n",
              "      <td>No</td>\n",
              "      <td>Credit card (automatic)</td>\n",
              "      <td>0</td>\n",
              "    </tr>\n",
              "    <tr>\n",
              "      <th>2786</th>\n",
              "      <td>1</td>\n",
              "      <td>29.70</td>\n",
              "      <td>29.7</td>\n",
              "      <td>Male</td>\n",
              "      <td>0</td>\n",
              "      <td>No</td>\n",
              "      <td>No</td>\n",
              "      <td>No</td>\n",
              "      <td>No phone service</td>\n",
              "      <td>DSL</td>\n",
              "      <td>Yes</td>\n",
              "      <td>No</td>\n",
              "      <td>No</td>\n",
              "      <td>No</td>\n",
              "      <td>No</td>\n",
              "      <td>No</td>\n",
              "      <td>Month-to-month</td>\n",
              "      <td>No</td>\n",
              "      <td>Mailed check</td>\n",
              "      <td>1</td>\n",
              "    </tr>\n",
              "    <tr>\n",
              "      <th>4194</th>\n",
              "      <td>69</td>\n",
              "      <td>116.00</td>\n",
              "      <td>8182.85</td>\n",
              "      <td>Female</td>\n",
              "      <td>0</td>\n",
              "      <td>Yes</td>\n",
              "      <td>No</td>\n",
              "      <td>Yes</td>\n",
              "      <td>Yes</td>\n",
              "      <td>Fiber optic</td>\n",
              "      <td>Yes</td>\n",
              "      <td>Yes</td>\n",
              "      <td>Yes</td>\n",
              "      <td>Yes</td>\n",
              "      <td>Yes</td>\n",
              "      <td>Yes</td>\n",
              "      <td>Two year</td>\n",
              "      <td>Yes</td>\n",
              "      <td>Electronic check</td>\n",
              "      <td>0</td>\n",
              "    </tr>\n",
              "    <tr>\n",
              "      <th>3967</th>\n",
              "      <td>50</td>\n",
              "      <td>103.95</td>\n",
              "      <td>5231.3</td>\n",
              "      <td>Male</td>\n",
              "      <td>0</td>\n",
              "      <td>Yes</td>\n",
              "      <td>No</td>\n",
              "      <td>Yes</td>\n",
              "      <td>Yes</td>\n",
              "      <td>Fiber optic</td>\n",
              "      <td>Yes</td>\n",
              "      <td>No</td>\n",
              "      <td>Yes</td>\n",
              "      <td>No</td>\n",
              "      <td>Yes</td>\n",
              "      <td>Yes</td>\n",
              "      <td>One year</td>\n",
              "      <td>Yes</td>\n",
              "      <td>Electronic check</td>\n",
              "      <td>0</td>\n",
              "    </tr>\n",
              "    <tr>\n",
              "      <th>996</th>\n",
              "      <td>25</td>\n",
              "      <td>94.70</td>\n",
              "      <td>2362.1</td>\n",
              "      <td>Male</td>\n",
              "      <td>0</td>\n",
              "      <td>No</td>\n",
              "      <td>No</td>\n",
              "      <td>Yes</td>\n",
              "      <td>Yes</td>\n",
              "      <td>Fiber optic</td>\n",
              "      <td>No</td>\n",
              "      <td>No</td>\n",
              "      <td>No</td>\n",
              "      <td>No</td>\n",
              "      <td>Yes</td>\n",
              "      <td>Yes</td>\n",
              "      <td>Month-to-month</td>\n",
              "      <td>Yes</td>\n",
              "      <td>Bank transfer (automatic)</td>\n",
              "      <td>1</td>\n",
              "    </tr>\n",
              "  </tbody>\n",
              "</table>\n",
              "</div>\n",
              "    <div class=\"colab-df-buttons\">\n",
              "\n",
              "  <div class=\"colab-df-container\">\n",
              "    <button class=\"colab-df-convert\" onclick=\"convertToInteractive('df-2f16411d-a223-46c4-824e-d8ef27e4acfd')\"\n",
              "            title=\"Convert this dataframe to an interactive table.\"\n",
              "            style=\"display:none;\">\n",
              "\n",
              "  <svg xmlns=\"http://www.w3.org/2000/svg\" height=\"24px\" viewBox=\"0 -960 960 960\">\n",
              "    <path d=\"M120-120v-720h720v720H120Zm60-500h600v-160H180v160Zm220 220h160v-160H400v160Zm0 220h160v-160H400v160ZM180-400h160v-160H180v160Zm440 0h160v-160H620v160ZM180-180h160v-160H180v160Zm440 0h160v-160H620v160Z\"/>\n",
              "  </svg>\n",
              "    </button>\n",
              "\n",
              "  <style>\n",
              "    .colab-df-container {\n",
              "      display:flex;\n",
              "      gap: 12px;\n",
              "    }\n",
              "\n",
              "    .colab-df-convert {\n",
              "      background-color: #E8F0FE;\n",
              "      border: none;\n",
              "      border-radius: 50%;\n",
              "      cursor: pointer;\n",
              "      display: none;\n",
              "      fill: #1967D2;\n",
              "      height: 32px;\n",
              "      padding: 0 0 0 0;\n",
              "      width: 32px;\n",
              "    }\n",
              "\n",
              "    .colab-df-convert:hover {\n",
              "      background-color: #E2EBFA;\n",
              "      box-shadow: 0px 1px 2px rgba(60, 64, 67, 0.3), 0px 1px 3px 1px rgba(60, 64, 67, 0.15);\n",
              "      fill: #174EA6;\n",
              "    }\n",
              "\n",
              "    .colab-df-buttons div {\n",
              "      margin-bottom: 4px;\n",
              "    }\n",
              "\n",
              "    [theme=dark] .colab-df-convert {\n",
              "      background-color: #3B4455;\n",
              "      fill: #D2E3FC;\n",
              "    }\n",
              "\n",
              "    [theme=dark] .colab-df-convert:hover {\n",
              "      background-color: #434B5C;\n",
              "      box-shadow: 0px 1px 3px 1px rgba(0, 0, 0, 0.15);\n",
              "      filter: drop-shadow(0px 1px 2px rgba(0, 0, 0, 0.3));\n",
              "      fill: #FFFFFF;\n",
              "    }\n",
              "  </style>\n",
              "\n",
              "    <script>\n",
              "      const buttonEl =\n",
              "        document.querySelector('#df-2f16411d-a223-46c4-824e-d8ef27e4acfd button.colab-df-convert');\n",
              "      buttonEl.style.display =\n",
              "        google.colab.kernel.accessAllowed ? 'block' : 'none';\n",
              "\n",
              "      async function convertToInteractive(key) {\n",
              "        const element = document.querySelector('#df-2f16411d-a223-46c4-824e-d8ef27e4acfd');\n",
              "        const dataTable =\n",
              "          await google.colab.kernel.invokeFunction('convertToInteractive',\n",
              "                                                    [key], {});\n",
              "        if (!dataTable) return;\n",
              "\n",
              "        const docLinkHtml = 'Like what you see? Visit the ' +\n",
              "          '<a target=\"_blank\" href=https://colab.research.google.com/notebooks/data_table.ipynb>data table notebook</a>'\n",
              "          + ' to learn more about interactive tables.';\n",
              "        element.innerHTML = '';\n",
              "        dataTable['output_type'] = 'display_data';\n",
              "        await google.colab.output.renderOutput(dataTable, element);\n",
              "        const docLink = document.createElement('div');\n",
              "        docLink.innerHTML = docLinkHtml;\n",
              "        element.appendChild(docLink);\n",
              "      }\n",
              "    </script>\n",
              "  </div>\n",
              "\n",
              "\n",
              "<div id=\"df-872dcc87-f47a-4282-ac5d-3a174114c22f\">\n",
              "  <button class=\"colab-df-quickchart\" onclick=\"quickchart('df-872dcc87-f47a-4282-ac5d-3a174114c22f')\"\n",
              "            title=\"Suggest charts.\"\n",
              "            style=\"display:none;\">\n",
              "\n",
              "<svg xmlns=\"http://www.w3.org/2000/svg\" height=\"24px\"viewBox=\"0 0 24 24\"\n",
              "     width=\"24px\">\n",
              "    <g>\n",
              "        <path d=\"M19 3H5c-1.1 0-2 .9-2 2v14c0 1.1.9 2 2 2h14c1.1 0 2-.9 2-2V5c0-1.1-.9-2-2-2zM9 17H7v-7h2v7zm4 0h-2V7h2v10zm4 0h-2v-4h2v4z\"/>\n",
              "    </g>\n",
              "</svg>\n",
              "  </button>\n",
              "\n",
              "<style>\n",
              "  .colab-df-quickchart {\n",
              "      --bg-color: #E8F0FE;\n",
              "      --fill-color: #1967D2;\n",
              "      --hover-bg-color: #E2EBFA;\n",
              "      --hover-fill-color: #174EA6;\n",
              "      --disabled-fill-color: #AAA;\n",
              "      --disabled-bg-color: #DDD;\n",
              "  }\n",
              "\n",
              "  [theme=dark] .colab-df-quickchart {\n",
              "      --bg-color: #3B4455;\n",
              "      --fill-color: #D2E3FC;\n",
              "      --hover-bg-color: #434B5C;\n",
              "      --hover-fill-color: #FFFFFF;\n",
              "      --disabled-bg-color: #3B4455;\n",
              "      --disabled-fill-color: #666;\n",
              "  }\n",
              "\n",
              "  .colab-df-quickchart {\n",
              "    background-color: var(--bg-color);\n",
              "    border: none;\n",
              "    border-radius: 50%;\n",
              "    cursor: pointer;\n",
              "    display: none;\n",
              "    fill: var(--fill-color);\n",
              "    height: 32px;\n",
              "    padding: 0;\n",
              "    width: 32px;\n",
              "  }\n",
              "\n",
              "  .colab-df-quickchart:hover {\n",
              "    background-color: var(--hover-bg-color);\n",
              "    box-shadow: 0 1px 2px rgba(60, 64, 67, 0.3), 0 1px 3px 1px rgba(60, 64, 67, 0.15);\n",
              "    fill: var(--button-hover-fill-color);\n",
              "  }\n",
              "\n",
              "  .colab-df-quickchart-complete:disabled,\n",
              "  .colab-df-quickchart-complete:disabled:hover {\n",
              "    background-color: var(--disabled-bg-color);\n",
              "    fill: var(--disabled-fill-color);\n",
              "    box-shadow: none;\n",
              "  }\n",
              "\n",
              "  .colab-df-spinner {\n",
              "    border: 2px solid var(--fill-color);\n",
              "    border-color: transparent;\n",
              "    border-bottom-color: var(--fill-color);\n",
              "    animation:\n",
              "      spin 1s steps(1) infinite;\n",
              "  }\n",
              "\n",
              "  @keyframes spin {\n",
              "    0% {\n",
              "      border-color: transparent;\n",
              "      border-bottom-color: var(--fill-color);\n",
              "      border-left-color: var(--fill-color);\n",
              "    }\n",
              "    20% {\n",
              "      border-color: transparent;\n",
              "      border-left-color: var(--fill-color);\n",
              "      border-top-color: var(--fill-color);\n",
              "    }\n",
              "    30% {\n",
              "      border-color: transparent;\n",
              "      border-left-color: var(--fill-color);\n",
              "      border-top-color: var(--fill-color);\n",
              "      border-right-color: var(--fill-color);\n",
              "    }\n",
              "    40% {\n",
              "      border-color: transparent;\n",
              "      border-right-color: var(--fill-color);\n",
              "      border-top-color: var(--fill-color);\n",
              "    }\n",
              "    60% {\n",
              "      border-color: transparent;\n",
              "      border-right-color: var(--fill-color);\n",
              "    }\n",
              "    80% {\n",
              "      border-color: transparent;\n",
              "      border-right-color: var(--fill-color);\n",
              "      border-bottom-color: var(--fill-color);\n",
              "    }\n",
              "    90% {\n",
              "      border-color: transparent;\n",
              "      border-bottom-color: var(--fill-color);\n",
              "    }\n",
              "  }\n",
              "</style>\n",
              "\n",
              "  <script>\n",
              "    async function quickchart(key) {\n",
              "      const quickchartButtonEl =\n",
              "        document.querySelector('#' + key + ' button');\n",
              "      quickchartButtonEl.disabled = true;  // To prevent multiple clicks.\n",
              "      quickchartButtonEl.classList.add('colab-df-spinner');\n",
              "      try {\n",
              "        const charts = await google.colab.kernel.invokeFunction(\n",
              "            'suggestCharts', [key], {});\n",
              "      } catch (error) {\n",
              "        console.error('Error during call to suggestCharts:', error);\n",
              "      }\n",
              "      quickchartButtonEl.classList.remove('colab-df-spinner');\n",
              "      quickchartButtonEl.classList.add('colab-df-quickchart-complete');\n",
              "    }\n",
              "    (() => {\n",
              "      let quickchartButtonEl =\n",
              "        document.querySelector('#df-872dcc87-f47a-4282-ac5d-3a174114c22f button');\n",
              "      quickchartButtonEl.style.display =\n",
              "        google.colab.kernel.accessAllowed ? 'block' : 'none';\n",
              "    })();\n",
              "  </script>\n",
              "</div>\n",
              "    </div>\n",
              "  </div>\n"
            ]
          },
          "metadata": {},
          "execution_count": 6
        }
      ]
    },
    {
      "cell_type": "markdown",
      "source": [
        "Заметим, что TotalSpent примерно равно ClientPeriod * MonthlySpending"
      ],
      "metadata": {
        "id": "4dFd0XBxUNRL"
      }
    },
    {
      "cell_type": "code",
      "source": [
        "data.info()"
      ],
      "metadata": {
        "id": "hTTs0Nm4N6ps",
        "outputId": "41db4ccd-3b18-4059-dd95-8e040c10b1af",
        "colab": {
          "base_uri": "https://localhost:8080/"
        }
      },
      "execution_count": 7,
      "outputs": [
        {
          "output_type": "stream",
          "name": "stdout",
          "text": [
            "<class 'pandas.core.frame.DataFrame'>\n",
            "RangeIndex: 5282 entries, 0 to 5281\n",
            "Data columns (total 20 columns):\n",
            " #   Column                    Non-Null Count  Dtype  \n",
            "---  ------                    --------------  -----  \n",
            " 0   ClientPeriod              5282 non-null   int64  \n",
            " 1   MonthlySpending           5282 non-null   float64\n",
            " 2   TotalSpent                5282 non-null   object \n",
            " 3   Sex                       5282 non-null   object \n",
            " 4   IsSeniorCitizen           5282 non-null   int64  \n",
            " 5   HasPartner                5282 non-null   object \n",
            " 6   HasChild                  5282 non-null   object \n",
            " 7   HasPhoneService           5282 non-null   object \n",
            " 8   HasMultiplePhoneNumbers   5282 non-null   object \n",
            " 9   HasInternetService        5282 non-null   object \n",
            " 10  HasOnlineSecurityService  5282 non-null   object \n",
            " 11  HasOnlineBackup           5282 non-null   object \n",
            " 12  HasDeviceProtection       5282 non-null   object \n",
            " 13  HasTechSupportAccess      5282 non-null   object \n",
            " 14  HasOnlineTV               5282 non-null   object \n",
            " 15  HasMovieSubscription      5282 non-null   object \n",
            " 16  HasContractPhone          5282 non-null   object \n",
            " 17  IsBillingPaperless        5282 non-null   object \n",
            " 18  PaymentMethod             5282 non-null   object \n",
            " 19  Churn                     5282 non-null   int64  \n",
            "dtypes: float64(1), int64(3), object(16)\n",
            "memory usage: 825.4+ KB\n"
          ]
        }
      ]
    },
    {
      "cell_type": "markdown",
      "source": [
        "Возможно в каких-то столбцах вместо NaN находится пустая строка или пробел, посмотрим на это"
      ],
      "metadata": {
        "id": "p80Grf2eTIrH"
      }
    },
    {
      "cell_type": "code",
      "source": [
        "series = data[data[feature_cols] == ''].any(axis=1)\n",
        "series[series == True]"
      ],
      "metadata": {
        "id": "KZktiqpsRfUz",
        "outputId": "a4281106-a3de-4616-bbb7-9c5f8536de66",
        "colab": {
          "base_uri": "https://localhost:8080/"
        }
      },
      "execution_count": 39,
      "outputs": [
        {
          "output_type": "execute_result",
          "data": {
            "text/plain": [
              "Series([], dtype: bool)"
            ]
          },
          "metadata": {},
          "execution_count": 39
        }
      ]
    },
    {
      "cell_type": "code",
      "source": [
        "series = data[data[feature_cols] == ' '].any(axis=1)\n",
        "series[series == True]"
      ],
      "metadata": {
        "id": "KfX-7-GAS8CI",
        "outputId": "b4e4eb4d-f2f6-4f49-bf6f-20ac05f0b3bb",
        "colab": {
          "base_uri": "https://localhost:8080/"
        }
      },
      "execution_count": 40,
      "outputs": [
        {
          "output_type": "execute_result",
          "data": {
            "text/plain": [
              "1048    True\n",
              "1707    True\n",
              "2543    True\n",
              "3078    True\n",
              "3697    True\n",
              "4002    True\n",
              "4326    True\n",
              "4551    True\n",
              "4598    True\n",
              "dtype: bool"
            ]
          },
          "metadata": {},
          "execution_count": 40
        }
      ]
    },
    {
      "cell_type": "markdown",
      "source": [
        "Посмотрим на эти строки"
      ],
      "metadata": {
        "id": "MNGdBderTW1R"
      }
    },
    {
      "cell_type": "code",
      "source": [
        "inds = series[series == True].index"
      ],
      "metadata": {
        "id": "6AuXwPN8TWji"
      },
      "execution_count": 44,
      "outputs": []
    },
    {
      "cell_type": "code",
      "source": [
        "data.loc[inds]"
      ],
      "metadata": {
        "id": "JR_83wTKTjJl",
        "outputId": "f50e20de-3fa6-468f-8868-95cf9205136b",
        "colab": {
          "base_uri": "https://localhost:8080/",
          "height": 473
        }
      },
      "execution_count": 45,
      "outputs": [
        {
          "output_type": "execute_result",
          "data": {
            "text/plain": [
              "      ClientPeriod  MonthlySpending TotalSpent     Sex  IsSeniorCitizen  \\\n",
              "1048             0            25.75               Male                0   \n",
              "1707             0            73.35             Female                0   \n",
              "2543             0            19.70               Male                0   \n",
              "3078             0            80.85             Female                0   \n",
              "3697             0            20.00             Female                0   \n",
              "4002             0            61.90               Male                0   \n",
              "4326             0            25.35               Male                0   \n",
              "4551             0            52.55             Female                0   \n",
              "4598             0            56.05             Female                0   \n",
              "\n",
              "     HasPartner HasChild HasPhoneService HasMultiplePhoneNumbers  \\\n",
              "1048        Yes      Yes             Yes                     Yes   \n",
              "1707        Yes      Yes             Yes                     Yes   \n",
              "2543        Yes      Yes             Yes                      No   \n",
              "3078        Yes      Yes             Yes                      No   \n",
              "3697        Yes      Yes             Yes                      No   \n",
              "4002         No      Yes             Yes                     Yes   \n",
              "4326        Yes      Yes             Yes                     Yes   \n",
              "4551        Yes      Yes              No        No phone service   \n",
              "4598        Yes      Yes              No        No phone service   \n",
              "\n",
              "     HasInternetService HasOnlineSecurityService      HasOnlineBackup  \\\n",
              "1048                 No      No internet service  No internet service   \n",
              "1707                DSL                       No                  Yes   \n",
              "2543                 No      No internet service  No internet service   \n",
              "3078                DSL                      Yes                  Yes   \n",
              "3697                 No      No internet service  No internet service   \n",
              "4002                DSL                      Yes                  Yes   \n",
              "4326                 No      No internet service  No internet service   \n",
              "4551                DSL                      Yes                   No   \n",
              "4598                DSL                      Yes                  Yes   \n",
              "\n",
              "      HasDeviceProtection HasTechSupportAccess          HasOnlineTV  \\\n",
              "1048  No internet service  No internet service  No internet service   \n",
              "1707                  Yes                  Yes                  Yes   \n",
              "2543  No internet service  No internet service  No internet service   \n",
              "3078                  Yes                   No                  Yes   \n",
              "3697  No internet service  No internet service  No internet service   \n",
              "4002                   No                  Yes                   No   \n",
              "4326  No internet service  No internet service  No internet service   \n",
              "4551                  Yes                  Yes                  Yes   \n",
              "4598                  Yes                  Yes                  Yes   \n",
              "\n",
              "     HasMovieSubscription HasContractPhone IsBillingPaperless  \\\n",
              "1048  No internet service         Two year                 No   \n",
              "1707                   No         Two year                 No   \n",
              "2543  No internet service         One year                Yes   \n",
              "3078                  Yes         Two year                 No   \n",
              "3697  No internet service         Two year                 No   \n",
              "4002                   No         Two year                Yes   \n",
              "4326  No internet service         Two year                 No   \n",
              "4551                   No         Two year                Yes   \n",
              "4598                   No         Two year                 No   \n",
              "\n",
              "                  PaymentMethod  Churn  \n",
              "1048               Mailed check      0  \n",
              "1707               Mailed check      0  \n",
              "2543               Mailed check      0  \n",
              "3078               Mailed check      0  \n",
              "3697               Mailed check      0  \n",
              "4002  Bank transfer (automatic)      0  \n",
              "4326               Mailed check      0  \n",
              "4551  Bank transfer (automatic)      0  \n",
              "4598    Credit card (automatic)      0  "
            ],
            "text/html": [
              "\n",
              "  <div id=\"df-5ffdc1d0-575f-471e-9b92-02e31da6acc6\" class=\"colab-df-container\">\n",
              "    <div>\n",
              "<style scoped>\n",
              "    .dataframe tbody tr th:only-of-type {\n",
              "        vertical-align: middle;\n",
              "    }\n",
              "\n",
              "    .dataframe tbody tr th {\n",
              "        vertical-align: top;\n",
              "    }\n",
              "\n",
              "    .dataframe thead th {\n",
              "        text-align: right;\n",
              "    }\n",
              "</style>\n",
              "<table border=\"1\" class=\"dataframe\">\n",
              "  <thead>\n",
              "    <tr style=\"text-align: right;\">\n",
              "      <th></th>\n",
              "      <th>ClientPeriod</th>\n",
              "      <th>MonthlySpending</th>\n",
              "      <th>TotalSpent</th>\n",
              "      <th>Sex</th>\n",
              "      <th>IsSeniorCitizen</th>\n",
              "      <th>HasPartner</th>\n",
              "      <th>HasChild</th>\n",
              "      <th>HasPhoneService</th>\n",
              "      <th>HasMultiplePhoneNumbers</th>\n",
              "      <th>HasInternetService</th>\n",
              "      <th>HasOnlineSecurityService</th>\n",
              "      <th>HasOnlineBackup</th>\n",
              "      <th>HasDeviceProtection</th>\n",
              "      <th>HasTechSupportAccess</th>\n",
              "      <th>HasOnlineTV</th>\n",
              "      <th>HasMovieSubscription</th>\n",
              "      <th>HasContractPhone</th>\n",
              "      <th>IsBillingPaperless</th>\n",
              "      <th>PaymentMethod</th>\n",
              "      <th>Churn</th>\n",
              "    </tr>\n",
              "  </thead>\n",
              "  <tbody>\n",
              "    <tr>\n",
              "      <th>1048</th>\n",
              "      <td>0</td>\n",
              "      <td>25.75</td>\n",
              "      <td></td>\n",
              "      <td>Male</td>\n",
              "      <td>0</td>\n",
              "      <td>Yes</td>\n",
              "      <td>Yes</td>\n",
              "      <td>Yes</td>\n",
              "      <td>Yes</td>\n",
              "      <td>No</td>\n",
              "      <td>No internet service</td>\n",
              "      <td>No internet service</td>\n",
              "      <td>No internet service</td>\n",
              "      <td>No internet service</td>\n",
              "      <td>No internet service</td>\n",
              "      <td>No internet service</td>\n",
              "      <td>Two year</td>\n",
              "      <td>No</td>\n",
              "      <td>Mailed check</td>\n",
              "      <td>0</td>\n",
              "    </tr>\n",
              "    <tr>\n",
              "      <th>1707</th>\n",
              "      <td>0</td>\n",
              "      <td>73.35</td>\n",
              "      <td></td>\n",
              "      <td>Female</td>\n",
              "      <td>0</td>\n",
              "      <td>Yes</td>\n",
              "      <td>Yes</td>\n",
              "      <td>Yes</td>\n",
              "      <td>Yes</td>\n",
              "      <td>DSL</td>\n",
              "      <td>No</td>\n",
              "      <td>Yes</td>\n",
              "      <td>Yes</td>\n",
              "      <td>Yes</td>\n",
              "      <td>Yes</td>\n",
              "      <td>No</td>\n",
              "      <td>Two year</td>\n",
              "      <td>No</td>\n",
              "      <td>Mailed check</td>\n",
              "      <td>0</td>\n",
              "    </tr>\n",
              "    <tr>\n",
              "      <th>2543</th>\n",
              "      <td>0</td>\n",
              "      <td>19.70</td>\n",
              "      <td></td>\n",
              "      <td>Male</td>\n",
              "      <td>0</td>\n",
              "      <td>Yes</td>\n",
              "      <td>Yes</td>\n",
              "      <td>Yes</td>\n",
              "      <td>No</td>\n",
              "      <td>No</td>\n",
              "      <td>No internet service</td>\n",
              "      <td>No internet service</td>\n",
              "      <td>No internet service</td>\n",
              "      <td>No internet service</td>\n",
              "      <td>No internet service</td>\n",
              "      <td>No internet service</td>\n",
              "      <td>One year</td>\n",
              "      <td>Yes</td>\n",
              "      <td>Mailed check</td>\n",
              "      <td>0</td>\n",
              "    </tr>\n",
              "    <tr>\n",
              "      <th>3078</th>\n",
              "      <td>0</td>\n",
              "      <td>80.85</td>\n",
              "      <td></td>\n",
              "      <td>Female</td>\n",
              "      <td>0</td>\n",
              "      <td>Yes</td>\n",
              "      <td>Yes</td>\n",
              "      <td>Yes</td>\n",
              "      <td>No</td>\n",
              "      <td>DSL</td>\n",
              "      <td>Yes</td>\n",
              "      <td>Yes</td>\n",
              "      <td>Yes</td>\n",
              "      <td>No</td>\n",
              "      <td>Yes</td>\n",
              "      <td>Yes</td>\n",
              "      <td>Two year</td>\n",
              "      <td>No</td>\n",
              "      <td>Mailed check</td>\n",
              "      <td>0</td>\n",
              "    </tr>\n",
              "    <tr>\n",
              "      <th>3697</th>\n",
              "      <td>0</td>\n",
              "      <td>20.00</td>\n",
              "      <td></td>\n",
              "      <td>Female</td>\n",
              "      <td>0</td>\n",
              "      <td>Yes</td>\n",
              "      <td>Yes</td>\n",
              "      <td>Yes</td>\n",
              "      <td>No</td>\n",
              "      <td>No</td>\n",
              "      <td>No internet service</td>\n",
              "      <td>No internet service</td>\n",
              "      <td>No internet service</td>\n",
              "      <td>No internet service</td>\n",
              "      <td>No internet service</td>\n",
              "      <td>No internet service</td>\n",
              "      <td>Two year</td>\n",
              "      <td>No</td>\n",
              "      <td>Mailed check</td>\n",
              "      <td>0</td>\n",
              "    </tr>\n",
              "    <tr>\n",
              "      <th>4002</th>\n",
              "      <td>0</td>\n",
              "      <td>61.90</td>\n",
              "      <td></td>\n",
              "      <td>Male</td>\n",
              "      <td>0</td>\n",
              "      <td>No</td>\n",
              "      <td>Yes</td>\n",
              "      <td>Yes</td>\n",
              "      <td>Yes</td>\n",
              "      <td>DSL</td>\n",
              "      <td>Yes</td>\n",
              "      <td>Yes</td>\n",
              "      <td>No</td>\n",
              "      <td>Yes</td>\n",
              "      <td>No</td>\n",
              "      <td>No</td>\n",
              "      <td>Two year</td>\n",
              "      <td>Yes</td>\n",
              "      <td>Bank transfer (automatic)</td>\n",
              "      <td>0</td>\n",
              "    </tr>\n",
              "    <tr>\n",
              "      <th>4326</th>\n",
              "      <td>0</td>\n",
              "      <td>25.35</td>\n",
              "      <td></td>\n",
              "      <td>Male</td>\n",
              "      <td>0</td>\n",
              "      <td>Yes</td>\n",
              "      <td>Yes</td>\n",
              "      <td>Yes</td>\n",
              "      <td>Yes</td>\n",
              "      <td>No</td>\n",
              "      <td>No internet service</td>\n",
              "      <td>No internet service</td>\n",
              "      <td>No internet service</td>\n",
              "      <td>No internet service</td>\n",
              "      <td>No internet service</td>\n",
              "      <td>No internet service</td>\n",
              "      <td>Two year</td>\n",
              "      <td>No</td>\n",
              "      <td>Mailed check</td>\n",
              "      <td>0</td>\n",
              "    </tr>\n",
              "    <tr>\n",
              "      <th>4551</th>\n",
              "      <td>0</td>\n",
              "      <td>52.55</td>\n",
              "      <td></td>\n",
              "      <td>Female</td>\n",
              "      <td>0</td>\n",
              "      <td>Yes</td>\n",
              "      <td>Yes</td>\n",
              "      <td>No</td>\n",
              "      <td>No phone service</td>\n",
              "      <td>DSL</td>\n",
              "      <td>Yes</td>\n",
              "      <td>No</td>\n",
              "      <td>Yes</td>\n",
              "      <td>Yes</td>\n",
              "      <td>Yes</td>\n",
              "      <td>No</td>\n",
              "      <td>Two year</td>\n",
              "      <td>Yes</td>\n",
              "      <td>Bank transfer (automatic)</td>\n",
              "      <td>0</td>\n",
              "    </tr>\n",
              "    <tr>\n",
              "      <th>4598</th>\n",
              "      <td>0</td>\n",
              "      <td>56.05</td>\n",
              "      <td></td>\n",
              "      <td>Female</td>\n",
              "      <td>0</td>\n",
              "      <td>Yes</td>\n",
              "      <td>Yes</td>\n",
              "      <td>No</td>\n",
              "      <td>No phone service</td>\n",
              "      <td>DSL</td>\n",
              "      <td>Yes</td>\n",
              "      <td>Yes</td>\n",
              "      <td>Yes</td>\n",
              "      <td>Yes</td>\n",
              "      <td>Yes</td>\n",
              "      <td>No</td>\n",
              "      <td>Two year</td>\n",
              "      <td>No</td>\n",
              "      <td>Credit card (automatic)</td>\n",
              "      <td>0</td>\n",
              "    </tr>\n",
              "  </tbody>\n",
              "</table>\n",
              "</div>\n",
              "    <div class=\"colab-df-buttons\">\n",
              "\n",
              "  <div class=\"colab-df-container\">\n",
              "    <button class=\"colab-df-convert\" onclick=\"convertToInteractive('df-5ffdc1d0-575f-471e-9b92-02e31da6acc6')\"\n",
              "            title=\"Convert this dataframe to an interactive table.\"\n",
              "            style=\"display:none;\">\n",
              "\n",
              "  <svg xmlns=\"http://www.w3.org/2000/svg\" height=\"24px\" viewBox=\"0 -960 960 960\">\n",
              "    <path d=\"M120-120v-720h720v720H120Zm60-500h600v-160H180v160Zm220 220h160v-160H400v160Zm0 220h160v-160H400v160ZM180-400h160v-160H180v160Zm440 0h160v-160H620v160ZM180-180h160v-160H180v160Zm440 0h160v-160H620v160Z\"/>\n",
              "  </svg>\n",
              "    </button>\n",
              "\n",
              "  <style>\n",
              "    .colab-df-container {\n",
              "      display:flex;\n",
              "      gap: 12px;\n",
              "    }\n",
              "\n",
              "    .colab-df-convert {\n",
              "      background-color: #E8F0FE;\n",
              "      border: none;\n",
              "      border-radius: 50%;\n",
              "      cursor: pointer;\n",
              "      display: none;\n",
              "      fill: #1967D2;\n",
              "      height: 32px;\n",
              "      padding: 0 0 0 0;\n",
              "      width: 32px;\n",
              "    }\n",
              "\n",
              "    .colab-df-convert:hover {\n",
              "      background-color: #E2EBFA;\n",
              "      box-shadow: 0px 1px 2px rgba(60, 64, 67, 0.3), 0px 1px 3px 1px rgba(60, 64, 67, 0.15);\n",
              "      fill: #174EA6;\n",
              "    }\n",
              "\n",
              "    .colab-df-buttons div {\n",
              "      margin-bottom: 4px;\n",
              "    }\n",
              "\n",
              "    [theme=dark] .colab-df-convert {\n",
              "      background-color: #3B4455;\n",
              "      fill: #D2E3FC;\n",
              "    }\n",
              "\n",
              "    [theme=dark] .colab-df-convert:hover {\n",
              "      background-color: #434B5C;\n",
              "      box-shadow: 0px 1px 3px 1px rgba(0, 0, 0, 0.15);\n",
              "      filter: drop-shadow(0px 1px 2px rgba(0, 0, 0, 0.3));\n",
              "      fill: #FFFFFF;\n",
              "    }\n",
              "  </style>\n",
              "\n",
              "    <script>\n",
              "      const buttonEl =\n",
              "        document.querySelector('#df-5ffdc1d0-575f-471e-9b92-02e31da6acc6 button.colab-df-convert');\n",
              "      buttonEl.style.display =\n",
              "        google.colab.kernel.accessAllowed ? 'block' : 'none';\n",
              "\n",
              "      async function convertToInteractive(key) {\n",
              "        const element = document.querySelector('#df-5ffdc1d0-575f-471e-9b92-02e31da6acc6');\n",
              "        const dataTable =\n",
              "          await google.colab.kernel.invokeFunction('convertToInteractive',\n",
              "                                                    [key], {});\n",
              "        if (!dataTable) return;\n",
              "\n",
              "        const docLinkHtml = 'Like what you see? Visit the ' +\n",
              "          '<a target=\"_blank\" href=https://colab.research.google.com/notebooks/data_table.ipynb>data table notebook</a>'\n",
              "          + ' to learn more about interactive tables.';\n",
              "        element.innerHTML = '';\n",
              "        dataTable['output_type'] = 'display_data';\n",
              "        await google.colab.output.renderOutput(dataTable, element);\n",
              "        const docLink = document.createElement('div');\n",
              "        docLink.innerHTML = docLinkHtml;\n",
              "        element.appendChild(docLink);\n",
              "      }\n",
              "    </script>\n",
              "  </div>\n",
              "\n",
              "\n",
              "<div id=\"df-d1c7789b-014f-4c5a-b3b5-41fe6fd5f073\">\n",
              "  <button class=\"colab-df-quickchart\" onclick=\"quickchart('df-d1c7789b-014f-4c5a-b3b5-41fe6fd5f073')\"\n",
              "            title=\"Suggest charts.\"\n",
              "            style=\"display:none;\">\n",
              "\n",
              "<svg xmlns=\"http://www.w3.org/2000/svg\" height=\"24px\"viewBox=\"0 0 24 24\"\n",
              "     width=\"24px\">\n",
              "    <g>\n",
              "        <path d=\"M19 3H5c-1.1 0-2 .9-2 2v14c0 1.1.9 2 2 2h14c1.1 0 2-.9 2-2V5c0-1.1-.9-2-2-2zM9 17H7v-7h2v7zm4 0h-2V7h2v10zm4 0h-2v-4h2v4z\"/>\n",
              "    </g>\n",
              "</svg>\n",
              "  </button>\n",
              "\n",
              "<style>\n",
              "  .colab-df-quickchart {\n",
              "      --bg-color: #E8F0FE;\n",
              "      --fill-color: #1967D2;\n",
              "      --hover-bg-color: #E2EBFA;\n",
              "      --hover-fill-color: #174EA6;\n",
              "      --disabled-fill-color: #AAA;\n",
              "      --disabled-bg-color: #DDD;\n",
              "  }\n",
              "\n",
              "  [theme=dark] .colab-df-quickchart {\n",
              "      --bg-color: #3B4455;\n",
              "      --fill-color: #D2E3FC;\n",
              "      --hover-bg-color: #434B5C;\n",
              "      --hover-fill-color: #FFFFFF;\n",
              "      --disabled-bg-color: #3B4455;\n",
              "      --disabled-fill-color: #666;\n",
              "  }\n",
              "\n",
              "  .colab-df-quickchart {\n",
              "    background-color: var(--bg-color);\n",
              "    border: none;\n",
              "    border-radius: 50%;\n",
              "    cursor: pointer;\n",
              "    display: none;\n",
              "    fill: var(--fill-color);\n",
              "    height: 32px;\n",
              "    padding: 0;\n",
              "    width: 32px;\n",
              "  }\n",
              "\n",
              "  .colab-df-quickchart:hover {\n",
              "    background-color: var(--hover-bg-color);\n",
              "    box-shadow: 0 1px 2px rgba(60, 64, 67, 0.3), 0 1px 3px 1px rgba(60, 64, 67, 0.15);\n",
              "    fill: var(--button-hover-fill-color);\n",
              "  }\n",
              "\n",
              "  .colab-df-quickchart-complete:disabled,\n",
              "  .colab-df-quickchart-complete:disabled:hover {\n",
              "    background-color: var(--disabled-bg-color);\n",
              "    fill: var(--disabled-fill-color);\n",
              "    box-shadow: none;\n",
              "  }\n",
              "\n",
              "  .colab-df-spinner {\n",
              "    border: 2px solid var(--fill-color);\n",
              "    border-color: transparent;\n",
              "    border-bottom-color: var(--fill-color);\n",
              "    animation:\n",
              "      spin 1s steps(1) infinite;\n",
              "  }\n",
              "\n",
              "  @keyframes spin {\n",
              "    0% {\n",
              "      border-color: transparent;\n",
              "      border-bottom-color: var(--fill-color);\n",
              "      border-left-color: var(--fill-color);\n",
              "    }\n",
              "    20% {\n",
              "      border-color: transparent;\n",
              "      border-left-color: var(--fill-color);\n",
              "      border-top-color: var(--fill-color);\n",
              "    }\n",
              "    30% {\n",
              "      border-color: transparent;\n",
              "      border-left-color: var(--fill-color);\n",
              "      border-top-color: var(--fill-color);\n",
              "      border-right-color: var(--fill-color);\n",
              "    }\n",
              "    40% {\n",
              "      border-color: transparent;\n",
              "      border-right-color: var(--fill-color);\n",
              "      border-top-color: var(--fill-color);\n",
              "    }\n",
              "    60% {\n",
              "      border-color: transparent;\n",
              "      border-right-color: var(--fill-color);\n",
              "    }\n",
              "    80% {\n",
              "      border-color: transparent;\n",
              "      border-right-color: var(--fill-color);\n",
              "      border-bottom-color: var(--fill-color);\n",
              "    }\n",
              "    90% {\n",
              "      border-color: transparent;\n",
              "      border-bottom-color: var(--fill-color);\n",
              "    }\n",
              "  }\n",
              "</style>\n",
              "\n",
              "  <script>\n",
              "    async function quickchart(key) {\n",
              "      const quickchartButtonEl =\n",
              "        document.querySelector('#' + key + ' button');\n",
              "      quickchartButtonEl.disabled = true;  // To prevent multiple clicks.\n",
              "      quickchartButtonEl.classList.add('colab-df-spinner');\n",
              "      try {\n",
              "        const charts = await google.colab.kernel.invokeFunction(\n",
              "            'suggestCharts', [key], {});\n",
              "      } catch (error) {\n",
              "        console.error('Error during call to suggestCharts:', error);\n",
              "      }\n",
              "      quickchartButtonEl.classList.remove('colab-df-spinner');\n",
              "      quickchartButtonEl.classList.add('colab-df-quickchart-complete');\n",
              "    }\n",
              "    (() => {\n",
              "      let quickchartButtonEl =\n",
              "        document.querySelector('#df-d1c7789b-014f-4c5a-b3b5-41fe6fd5f073 button');\n",
              "      quickchartButtonEl.style.display =\n",
              "        google.colab.kernel.accessAllowed ? 'block' : 'none';\n",
              "    })();\n",
              "  </script>\n",
              "</div>\n",
              "    </div>\n",
              "  </div>\n"
            ]
          },
          "metadata": {},
          "execution_count": 45
        }
      ]
    },
    {
      "cell_type": "markdown",
      "source": [
        "Заметим, что пропуски есть только у тех, клиентов, у которых ClientPeriod = 0, что может означать, что клиент пользовался услугами компании меньше месяца.\n",
        "\n",
        "Поэтому вместо пропусков поставим значения MonthlySpending"
      ],
      "metadata": {
        "id": "l3ld-W9rOWyM"
      }
    },
    {
      "cell_type": "code",
      "source": [
        "data[data['ClientPeriod'] == 0].index  # индексы те же самые"
      ],
      "metadata": {
        "id": "AddOiYSxTwfu",
        "outputId": "f9b22682-9704-4654-bd27-42c59850f6b5",
        "colab": {
          "base_uri": "https://localhost:8080/"
        }
      },
      "execution_count": 47,
      "outputs": [
        {
          "output_type": "execute_result",
          "data": {
            "text/plain": [
              "Int64Index([1048, 1707, 2543, 3078, 3697, 4002, 4326, 4551, 4598], dtype='int64')"
            ]
          },
          "metadata": {},
          "execution_count": 47
        }
      ]
    },
    {
      "cell_type": "markdown",
      "source": [
        "Таким образом, пропуски есть только в столце TotalSpent. Заменим их и поменяем тип данных этого столбца"
      ],
      "metadata": {
        "id": "RDk52LWPTpXv"
      }
    },
    {
      "cell_type": "code",
      "source": [
        "data.loc[inds, 'TotalSpent'] = data.loc[inds, 'MonthlySpending']\n",
        "data['TotalSpent'] = data['TotalSpent'].astype(np.float64)"
      ],
      "metadata": {
        "id": "leThdREwU4OL"
      },
      "execution_count": 59,
      "outputs": []
    },
    {
      "cell_type": "markdown",
      "metadata": {
        "id": "dK370bPCEEZD"
      },
      "source": [
        "## Анализ данных (3 балла)\n",
        "\n",
        "1) Для численных призанков постройте гистограмму (*plt.hist(...)*) или boxplot (*plt.boxplot(...)*). Для категориальных посчитайте количество каждого значения для каждого признака. Для каждой колонки надо сделать *data.value_counts()* и построить bar диаграммы *plt.bar(...)* или круговые диаграммы *plt.pie(...)* (хорошо, елси вы сможете это сделать на одном гарфике с помощью *plt.subplots(...)*).\n",
        "\n",
        "2) Посмотрите на распределение целевой переменной и скажите, являются ли классы несбалансированными.\n",
        "\n",
        "3) (Если будет желание) Поиграйте с разными библиотеками для визуализации - *sns*, *pandas_visual_analysis*, etc.\n",
        "\n",
        "Второй пункт очень важен, потому что существуют задачи классификации с несбалансированными классами. Например, это может значить, что в датасете намного больше примеров 0 класса. В таких случаях нужно 1) не использовать accuracy как метрику 2) использовать методы борьбы с imbalanced dataset (обычно если датасет сильно несбалансирован, т.е. класса 1 в 20 раз меньше класса 0)."
      ]
    },
    {
      "cell_type": "code",
      "source": [
        "data[num_cols].describe()"
      ],
      "metadata": {
        "id": "H6aOrcOqQajL",
        "outputId": "2d6bd0d1-6c31-4255-e518-5d6388b532ec",
        "colab": {
          "base_uri": "https://localhost:8080/",
          "height": 300
        }
      },
      "execution_count": 62,
      "outputs": [
        {
          "output_type": "execute_result",
          "data": {
            "text/plain": [
              "       ClientPeriod  MonthlySpending   TotalSpent\n",
              "count   5282.000000      5282.000000  5282.000000\n",
              "mean      32.397009        64.924754  2287.564824\n",
              "std       24.550326        30.176464  2268.970866\n",
              "min        0.000000        18.250000    18.800000\n",
              "25%        9.000000        35.462500   395.725000\n",
              "50%       29.000000        70.400000  1405.650000\n",
              "75%       55.000000        90.050000  3795.212500\n",
              "max       72.000000       118.750000  8684.800000"
            ],
            "text/html": [
              "\n",
              "  <div id=\"df-6b2e0760-174e-4930-8999-c3dd2ece44c6\" class=\"colab-df-container\">\n",
              "    <div>\n",
              "<style scoped>\n",
              "    .dataframe tbody tr th:only-of-type {\n",
              "        vertical-align: middle;\n",
              "    }\n",
              "\n",
              "    .dataframe tbody tr th {\n",
              "        vertical-align: top;\n",
              "    }\n",
              "\n",
              "    .dataframe thead th {\n",
              "        text-align: right;\n",
              "    }\n",
              "</style>\n",
              "<table border=\"1\" class=\"dataframe\">\n",
              "  <thead>\n",
              "    <tr style=\"text-align: right;\">\n",
              "      <th></th>\n",
              "      <th>ClientPeriod</th>\n",
              "      <th>MonthlySpending</th>\n",
              "      <th>TotalSpent</th>\n",
              "    </tr>\n",
              "  </thead>\n",
              "  <tbody>\n",
              "    <tr>\n",
              "      <th>count</th>\n",
              "      <td>5282.000000</td>\n",
              "      <td>5282.000000</td>\n",
              "      <td>5282.000000</td>\n",
              "    </tr>\n",
              "    <tr>\n",
              "      <th>mean</th>\n",
              "      <td>32.397009</td>\n",
              "      <td>64.924754</td>\n",
              "      <td>2287.564824</td>\n",
              "    </tr>\n",
              "    <tr>\n",
              "      <th>std</th>\n",
              "      <td>24.550326</td>\n",
              "      <td>30.176464</td>\n",
              "      <td>2268.970866</td>\n",
              "    </tr>\n",
              "    <tr>\n",
              "      <th>min</th>\n",
              "      <td>0.000000</td>\n",
              "      <td>18.250000</td>\n",
              "      <td>18.800000</td>\n",
              "    </tr>\n",
              "    <tr>\n",
              "      <th>25%</th>\n",
              "      <td>9.000000</td>\n",
              "      <td>35.462500</td>\n",
              "      <td>395.725000</td>\n",
              "    </tr>\n",
              "    <tr>\n",
              "      <th>50%</th>\n",
              "      <td>29.000000</td>\n",
              "      <td>70.400000</td>\n",
              "      <td>1405.650000</td>\n",
              "    </tr>\n",
              "    <tr>\n",
              "      <th>75%</th>\n",
              "      <td>55.000000</td>\n",
              "      <td>90.050000</td>\n",
              "      <td>3795.212500</td>\n",
              "    </tr>\n",
              "    <tr>\n",
              "      <th>max</th>\n",
              "      <td>72.000000</td>\n",
              "      <td>118.750000</td>\n",
              "      <td>8684.800000</td>\n",
              "    </tr>\n",
              "  </tbody>\n",
              "</table>\n",
              "</div>\n",
              "    <div class=\"colab-df-buttons\">\n",
              "\n",
              "  <div class=\"colab-df-container\">\n",
              "    <button class=\"colab-df-convert\" onclick=\"convertToInteractive('df-6b2e0760-174e-4930-8999-c3dd2ece44c6')\"\n",
              "            title=\"Convert this dataframe to an interactive table.\"\n",
              "            style=\"display:none;\">\n",
              "\n",
              "  <svg xmlns=\"http://www.w3.org/2000/svg\" height=\"24px\" viewBox=\"0 -960 960 960\">\n",
              "    <path d=\"M120-120v-720h720v720H120Zm60-500h600v-160H180v160Zm220 220h160v-160H400v160Zm0 220h160v-160H400v160ZM180-400h160v-160H180v160Zm440 0h160v-160H620v160ZM180-180h160v-160H180v160Zm440 0h160v-160H620v160Z\"/>\n",
              "  </svg>\n",
              "    </button>\n",
              "\n",
              "  <style>\n",
              "    .colab-df-container {\n",
              "      display:flex;\n",
              "      gap: 12px;\n",
              "    }\n",
              "\n",
              "    .colab-df-convert {\n",
              "      background-color: #E8F0FE;\n",
              "      border: none;\n",
              "      border-radius: 50%;\n",
              "      cursor: pointer;\n",
              "      display: none;\n",
              "      fill: #1967D2;\n",
              "      height: 32px;\n",
              "      padding: 0 0 0 0;\n",
              "      width: 32px;\n",
              "    }\n",
              "\n",
              "    .colab-df-convert:hover {\n",
              "      background-color: #E2EBFA;\n",
              "      box-shadow: 0px 1px 2px rgba(60, 64, 67, 0.3), 0px 1px 3px 1px rgba(60, 64, 67, 0.15);\n",
              "      fill: #174EA6;\n",
              "    }\n",
              "\n",
              "    .colab-df-buttons div {\n",
              "      margin-bottom: 4px;\n",
              "    }\n",
              "\n",
              "    [theme=dark] .colab-df-convert {\n",
              "      background-color: #3B4455;\n",
              "      fill: #D2E3FC;\n",
              "    }\n",
              "\n",
              "    [theme=dark] .colab-df-convert:hover {\n",
              "      background-color: #434B5C;\n",
              "      box-shadow: 0px 1px 3px 1px rgba(0, 0, 0, 0.15);\n",
              "      filter: drop-shadow(0px 1px 2px rgba(0, 0, 0, 0.3));\n",
              "      fill: #FFFFFF;\n",
              "    }\n",
              "  </style>\n",
              "\n",
              "    <script>\n",
              "      const buttonEl =\n",
              "        document.querySelector('#df-6b2e0760-174e-4930-8999-c3dd2ece44c6 button.colab-df-convert');\n",
              "      buttonEl.style.display =\n",
              "        google.colab.kernel.accessAllowed ? 'block' : 'none';\n",
              "\n",
              "      async function convertToInteractive(key) {\n",
              "        const element = document.querySelector('#df-6b2e0760-174e-4930-8999-c3dd2ece44c6');\n",
              "        const dataTable =\n",
              "          await google.colab.kernel.invokeFunction('convertToInteractive',\n",
              "                                                    [key], {});\n",
              "        if (!dataTable) return;\n",
              "\n",
              "        const docLinkHtml = 'Like what you see? Visit the ' +\n",
              "          '<a target=\"_blank\" href=https://colab.research.google.com/notebooks/data_table.ipynb>data table notebook</a>'\n",
              "          + ' to learn more about interactive tables.';\n",
              "        element.innerHTML = '';\n",
              "        dataTable['output_type'] = 'display_data';\n",
              "        await google.colab.output.renderOutput(dataTable, element);\n",
              "        const docLink = document.createElement('div');\n",
              "        docLink.innerHTML = docLinkHtml;\n",
              "        element.appendChild(docLink);\n",
              "      }\n",
              "    </script>\n",
              "  </div>\n",
              "\n",
              "\n",
              "<div id=\"df-f0304aec-f015-42de-9fee-529be8f4b4d1\">\n",
              "  <button class=\"colab-df-quickchart\" onclick=\"quickchart('df-f0304aec-f015-42de-9fee-529be8f4b4d1')\"\n",
              "            title=\"Suggest charts.\"\n",
              "            style=\"display:none;\">\n",
              "\n",
              "<svg xmlns=\"http://www.w3.org/2000/svg\" height=\"24px\"viewBox=\"0 0 24 24\"\n",
              "     width=\"24px\">\n",
              "    <g>\n",
              "        <path d=\"M19 3H5c-1.1 0-2 .9-2 2v14c0 1.1.9 2 2 2h14c1.1 0 2-.9 2-2V5c0-1.1-.9-2-2-2zM9 17H7v-7h2v7zm4 0h-2V7h2v10zm4 0h-2v-4h2v4z\"/>\n",
              "    </g>\n",
              "</svg>\n",
              "  </button>\n",
              "\n",
              "<style>\n",
              "  .colab-df-quickchart {\n",
              "      --bg-color: #E8F0FE;\n",
              "      --fill-color: #1967D2;\n",
              "      --hover-bg-color: #E2EBFA;\n",
              "      --hover-fill-color: #174EA6;\n",
              "      --disabled-fill-color: #AAA;\n",
              "      --disabled-bg-color: #DDD;\n",
              "  }\n",
              "\n",
              "  [theme=dark] .colab-df-quickchart {\n",
              "      --bg-color: #3B4455;\n",
              "      --fill-color: #D2E3FC;\n",
              "      --hover-bg-color: #434B5C;\n",
              "      --hover-fill-color: #FFFFFF;\n",
              "      --disabled-bg-color: #3B4455;\n",
              "      --disabled-fill-color: #666;\n",
              "  }\n",
              "\n",
              "  .colab-df-quickchart {\n",
              "    background-color: var(--bg-color);\n",
              "    border: none;\n",
              "    border-radius: 50%;\n",
              "    cursor: pointer;\n",
              "    display: none;\n",
              "    fill: var(--fill-color);\n",
              "    height: 32px;\n",
              "    padding: 0;\n",
              "    width: 32px;\n",
              "  }\n",
              "\n",
              "  .colab-df-quickchart:hover {\n",
              "    background-color: var(--hover-bg-color);\n",
              "    box-shadow: 0 1px 2px rgba(60, 64, 67, 0.3), 0 1px 3px 1px rgba(60, 64, 67, 0.15);\n",
              "    fill: var(--button-hover-fill-color);\n",
              "  }\n",
              "\n",
              "  .colab-df-quickchart-complete:disabled,\n",
              "  .colab-df-quickchart-complete:disabled:hover {\n",
              "    background-color: var(--disabled-bg-color);\n",
              "    fill: var(--disabled-fill-color);\n",
              "    box-shadow: none;\n",
              "  }\n",
              "\n",
              "  .colab-df-spinner {\n",
              "    border: 2px solid var(--fill-color);\n",
              "    border-color: transparent;\n",
              "    border-bottom-color: var(--fill-color);\n",
              "    animation:\n",
              "      spin 1s steps(1) infinite;\n",
              "  }\n",
              "\n",
              "  @keyframes spin {\n",
              "    0% {\n",
              "      border-color: transparent;\n",
              "      border-bottom-color: var(--fill-color);\n",
              "      border-left-color: var(--fill-color);\n",
              "    }\n",
              "    20% {\n",
              "      border-color: transparent;\n",
              "      border-left-color: var(--fill-color);\n",
              "      border-top-color: var(--fill-color);\n",
              "    }\n",
              "    30% {\n",
              "      border-color: transparent;\n",
              "      border-left-color: var(--fill-color);\n",
              "      border-top-color: var(--fill-color);\n",
              "      border-right-color: var(--fill-color);\n",
              "    }\n",
              "    40% {\n",
              "      border-color: transparent;\n",
              "      border-right-color: var(--fill-color);\n",
              "      border-top-color: var(--fill-color);\n",
              "    }\n",
              "    60% {\n",
              "      border-color: transparent;\n",
              "      border-right-color: var(--fill-color);\n",
              "    }\n",
              "    80% {\n",
              "      border-color: transparent;\n",
              "      border-right-color: var(--fill-color);\n",
              "      border-bottom-color: var(--fill-color);\n",
              "    }\n",
              "    90% {\n",
              "      border-color: transparent;\n",
              "      border-bottom-color: var(--fill-color);\n",
              "    }\n",
              "  }\n",
              "</style>\n",
              "\n",
              "  <script>\n",
              "    async function quickchart(key) {\n",
              "      const quickchartButtonEl =\n",
              "        document.querySelector('#' + key + ' button');\n",
              "      quickchartButtonEl.disabled = true;  // To prevent multiple clicks.\n",
              "      quickchartButtonEl.classList.add('colab-df-spinner');\n",
              "      try {\n",
              "        const charts = await google.colab.kernel.invokeFunction(\n",
              "            'suggestCharts', [key], {});\n",
              "      } catch (error) {\n",
              "        console.error('Error during call to suggestCharts:', error);\n",
              "      }\n",
              "      quickchartButtonEl.classList.remove('colab-df-spinner');\n",
              "      quickchartButtonEl.classList.add('colab-df-quickchart-complete');\n",
              "    }\n",
              "    (() => {\n",
              "      let quickchartButtonEl =\n",
              "        document.querySelector('#df-f0304aec-f015-42de-9fee-529be8f4b4d1 button');\n",
              "      quickchartButtonEl.style.display =\n",
              "        google.colab.kernel.accessAllowed ? 'block' : 'none';\n",
              "    })();\n",
              "  </script>\n",
              "</div>\n",
              "    </div>\n",
              "  </div>\n"
            ]
          },
          "metadata": {},
          "execution_count": 62
        }
      ]
    },
    {
      "cell_type": "markdown",
      "source": [
        "Посмотрим на распределение числовых признаков"
      ],
      "metadata": {
        "id": "Fg5NHtHvdKNd"
      }
    },
    {
      "cell_type": "code",
      "metadata": {
        "id": "NZkbgFJZEEZE",
        "outputId": "544c7b1c-da0d-4022-c0e0-d6a97f270f70",
        "colab": {
          "base_uri": "https://localhost:8080/",
          "height": 506
        }
      },
      "source": [
        "data[num_cols].hist()"
      ],
      "execution_count": 65,
      "outputs": [
        {
          "output_type": "execute_result",
          "data": {
            "text/plain": [
              "array([[<Axes: title={'center': 'ClientPeriod'}>,\n",
              "        <Axes: title={'center': 'MonthlySpending'}>],\n",
              "       [<Axes: title={'center': 'TotalSpent'}>, <Axes: >]], dtype=object)"
            ]
          },
          "metadata": {},
          "execution_count": 65
        },
        {
          "output_type": "display_data",
          "data": {
            "text/plain": [
              "<Figure size 640x480 with 4 Axes>"
            ],
            "image/png": "[encoded data removed]"
          },
          "metadata": {}
        }
      ]
    },
    {
      "cell_type": "markdown",
      "source": [
        "Посмотрим на распределение категориальных признаков"
      ],
      "metadata": {
        "id": "ukr-yjIsdRl-"
      }
    },
    {
      "cell_type": "code",
      "source": [
        "fig, ax = plt.subplots(4, 4, figsize=(16, 10))\n",
        "\n",
        "i = 0\n",
        "j = 0\n",
        "for ind, feature in enumerate(cat_cols):\n",
        "    i = ind % 4\n",
        "    j = ind // 4\n",
        "    ax[i][j].pie(data[feature].value_counts(),\n",
        "                labels=data[feature].value_counts().index)\n",
        "    ax[i][j].title.set_text(feature)"
      ],
      "metadata": {
        "id": "BcYVx2vyaIb8",
        "outputId": "71fa3fb4-8cff-47a7-e616-d06be0125e54",
        "colab": {
          "base_uri": "https://localhost:8080/",
          "height": 829
        }
      },
      "execution_count": 92,
      "outputs": [
        {
          "output_type": "display_data",
          "data": {
            "text/plain": [
              "<Figure size 1600x1000 with 16 Axes>"
            ],
            "image/png": "[encoded data removed]"
          },
          "metadata": {}
        }
      ]
    },
    {
      "cell_type": "markdown",
      "source": [
        "Посмотрим на распределение целевой переменной"
      ],
      "metadata": {
        "id": "mg3fVgGGdZ23"
      }
    },
    {
      "cell_type": "code",
      "source": [
        "data['Churn'].value_counts()"
      ],
      "metadata": {
        "id": "CxLAp_APdZVu",
        "outputId": "e5430258-a941-4ec8-e2bb-4b75b4d87d36",
        "colab": {
          "base_uri": "https://localhost:8080/"
        }
      },
      "execution_count": 93,
      "outputs": [
        {
          "output_type": "execute_result",
          "data": {
            "text/plain": [
              "0    3898\n",
              "1    1384\n",
              "Name: Churn, dtype: int64"
            ]
          },
          "metadata": {},
          "execution_count": 93
        }
      ]
    },
    {
      "cell_type": "markdown",
      "metadata": {
        "id": "zg60u3QDEEZH"
      },
      "source": [
        "(Дополнительно) Если вы нашли какие-то ошибки в данных или выбросы, то можете их убрать. Тут можно поэксперементировать с обработкой данных как угодно, но не за баллы."
      ]
    },
    {
      "cell_type": "markdown",
      "source": [
        "Посмотрим на зависимость таргета от месячных трат и длительности пользования продуктом"
      ],
      "metadata": {
        "id": "kozIp8QGeNbZ"
      }
    },
    {
      "cell_type": "code",
      "metadata": {
        "id": "fwfksF1gEEZI",
        "outputId": "797b2b73-64e3-47c9-d729-e60804507d13",
        "colab": {
          "base_uri": "https://localhost:8080/",
          "height": 647
        }
      },
      "source": [
        "import seaborn as sns\n",
        "\n",
        "sns.relplot(data=data, x='ClientPeriod', y='MonthlySpending',\n",
        "            hue='Churn', height=6, aspect=1)\n",
        "plt.title('MonthlySpending, ClientPeriod - target relation')"
      ],
      "execution_count": 103,
      "outputs": [
        {
          "output_type": "execute_result",
          "data": {
            "text/plain": [
              "Text(0.5, 1.0, 'MonthlySpending, ClientPeriod - target relation')"
            ]
          },
          "metadata": {},
          "execution_count": 103
        },
        {
          "output_type": "display_data",
          "data": {
            "text/plain": [
              "<Figure size 658.875x600 with 1 Axes>"
            ],
            "image/png": "[encoded data removed]"
          },
          "metadata": {}
        }
      ]
    },
    {
      "cell_type": "markdown",
      "metadata": {
        "id": "DviiJd8REEZK"
      },
      "source": [
        "## Применение линейных моделей (3 балла)\n",
        "\n",
        "1) Обработайте данные для того, чтобы к ним можно было применить LogisticRegression. Т.е. отнормируйте числовые признаки, а категориальные закодируйте с помощью one-hot-encoding'а.\n",
        "\n",
        "2) С помощью кроссвалидации или разделения на train/valid выборку протестируйте разные значения гиперпараметра C и выберите лучший (можно тестировать С=100, 10, 1, 0.1, 0.01, 0.001) по метрике ROC-AUC.\n",
        "\n",
        "Если вы разделяете на train/valid, то используйте LogisticRegressionCV. Он сам при вызове .fit() подберет параметр С. (не забудьте передать scroing='roc_auc', чтобы при кроссвалидации сравнивались значения этой метрики, и refit=True, чтобы при потом модель обучилась на всем датасете с лучшим параметром C).\n",
        "\n",
        "\n",
        "(более сложный вариант) Если вы будете использовать кроссвалидацию, то преобразования данных и LogisticRegression нужно соединить в один Pipeline с помощью make_pipeline, как это делалось во втором семинаре. Потом pipeline надо передать в GridSearchCV. Для one-hot-encoding'a можно испльзовать комбинацию LabelEncoder + OneHotEncoder (сначала превращаем строчки в числа, а потом числа првращаем в one-hot вектора.)"
      ]
    },
    {
      "cell_type": "code",
      "metadata": {
        "id": "xHCLDmwqEEZL"
      },
      "source": [
        "from sklearn.linear_model import LogisticRegression, LogisticRegressionCV\n",
        "from sklearn.model_selection import train_test_split, GridSearchCV\n",
        "from sklearn.preprocessing import StandardScaler, RobustScaler, LabelEncoder, OneHotEncoder\n",
        "from sklearn.pipeline import make_pipeline, Pipeline\n",
        "from sklearn.compose import ColumnTransformer\n",
        "from sklearn.metrics import roc_auc_score"
      ],
      "execution_count": 115,
      "outputs": []
    },
    {
      "cell_type": "code",
      "source": [
        "X_train = data.drop('Churn', axis=1)\n",
        "y_train = data['Churn']"
      ],
      "metadata": {
        "id": "FMZQKa7hhE-j"
      },
      "execution_count": 126,
      "outputs": []
    },
    {
      "cell_type": "code",
      "metadata": {
        "id": "P2Yv3uYtEEZO"
      },
      "source": [
        "column_transformer = ColumnTransformer([\n",
        "    ('ohe', OneHotEncoder(), cat_cols),\n",
        "    ('scaling', StandardScaler(), num_cols)\n",
        "])\n",
        "\n",
        "pipeline = Pipeline(steps=[\n",
        "    ('encoding_and_scaling', column_transformer),\n",
        "    ('logreg', LogisticRegression(max_iter=10000))\n",
        "])\n",
        "\n",
        "lr = pipeline.fit(X_train, y_train)"
      ],
      "execution_count": 131,
      "outputs": []
    },
    {
      "cell_type": "code",
      "source": [
        "param_grid = {'logreg__C': [100, 10, 1, 0.1, 0.01, 0.001]}\n",
        "\n",
        "grid = GridSearchCV(pipeline,\n",
        "                    param_grid, cv=5, scoring='roc_auc')\n",
        "grid.fit(X_train, y_train)"
      ],
      "metadata": {
        "id": "GiK3Ze7vtW6H",
        "outputId": "82b1a697-f399-47f0-c48b-fff300e047cb",
        "colab": {
          "base_uri": "https://localhost:8080/",
          "height": 219
        }
      },
      "execution_count": 132,
      "outputs": [
        {
          "output_type": "execute_result",
          "data": {
            "text/plain": [
              "GridSearchCV(cv=5,\n",
              "             estimator=Pipeline(steps=[('encoding_and_scaling',\n",
              "                                        ColumnTransformer(transformers=[('ohe',\n",
              "                                                                         OneHotEncoder(),\n",
              "                                                                         ['Sex',\n",
              "                                                                          'IsSeniorCitizen',\n",
              "                                                                          'HasPartner',\n",
              "                                                                          'HasChild',\n",
              "                                                                          'HasPhoneService',\n",
              "                                                                          'HasMultiplePhoneNumbers',\n",
              "                                                                          'HasInternetService',\n",
              "                                                                          'HasOnlineSecurityService',\n",
              "                                                                          'HasOnlineBackup',\n",
              "                                                                          'HasDeviceProtection',\n",
              "                                                                          'HasTechSupportAccess',\n",
              "                                                                          'HasOnlineTV',\n",
              "                                                                          'HasMovieSubscription',\n",
              "                                                                          'HasContractPhone',\n",
              "                                                                          'IsBillingPaperless',\n",
              "                                                                          'PaymentMethod']),\n",
              "                                                                        ('scaling',\n",
              "                                                                         StandardScaler(),\n",
              "                                                                         ['ClientPeriod',\n",
              "                                                                          'MonthlySpending',\n",
              "                                                                          'TotalSpent'])])),\n",
              "                                       ('logreg',\n",
              "                                        LogisticRegression(max_iter=10000))]),\n",
              "             param_grid={'logreg__C': [100, 10, 1, 0.1, 0.01, 0.001]},\n",
              "             scoring='roc_auc')"
            ],
            "text/html": [
              "<style>#sk-container-id-1 {color: black;background-color: white;}#sk-container-id-1 pre{padding: 0;}#sk-container-id-1 div.sk-toggleable {background-color: white;}#sk-container-id-1 label.sk-toggleable__label {cursor: pointer;display: block;width: 100%;margin-bottom: 0;padding: 0.3em;box-sizing: border-box;text-align: center;}#sk-container-id-1 label.sk-toggleable__label-arrow:before {content: \"▸\";float: left;margin-right: 0.25em;color: #696969;}#sk-container-id-1 label.sk-toggleable__label-arrow:hover:before {color: black;}#sk-container-id-1 div.sk-estimator:hover label.sk-toggleable__label-arrow:before {color: black;}#sk-container-id-1 div.sk-toggleable__content {max-height: 0;max-width: 0;overflow: hidden;text-align: left;background-color: #f0f8ff;}#sk-container-id-1 div.sk-toggleable__content pre {margin: 0.2em;color: black;border-radius: 0.25em;background-color: #f0f8ff;}#sk-container-id-1 input.sk-toggleable__control:checked~div.sk-toggleable__content {max-height: 200px;max-width: 100%;overflow: auto;}#sk-container-id-1 input.sk-toggleable__control:checked~label.sk-toggleable__label-arrow:before {content: \"▾\";}#sk-container-id-1 div.sk-estimator input.sk-toggleable__control:checked~label.sk-toggleable__label {background-color: #d4ebff;}#sk-container-id-1 div.sk-label input.sk-toggleable__control:checked~label.sk-toggleable__label {background-color: #d4ebff;}#sk-container-id-1 input.sk-hidden--visually {border: 0;clip: rect(1px 1px 1px 1px);clip: rect(1px, 1px, 1px, 1px);height: 1px;margin: -1px;overflow: hidden;padding: 0;position: absolute;width: 1px;}#sk-container-id-1 div.sk-estimator {font-family: monospace;background-color: #f0f8ff;border: 1px dotted black;border-radius: 0.25em;box-sizing: border-box;margin-bottom: 0.5em;}#sk-container-id-1 div.sk-estimator:hover {background-color: #d4ebff;}#sk-container-id-1 div.sk-parallel-item::after {content: \"\";width: 100%;border-bottom: 1px solid gray;flex-grow: 1;}#sk-container-id-1 div.sk-label:hover label.sk-toggleable__label {background-color: #d4ebff;}#sk-container-id-1 div.sk-serial::before {content: \"\";position: absolute;border-left: 1px solid gray;box-sizing: border-box;top: 0;bottom: 0;left: 50%;z-index: 0;}#sk-container-id-1 div.sk-serial {display: flex;flex-direction: column;align-items: center;background-color: white;padding-right: 0.2em;padding-left: 0.2em;position: relative;}#sk-container-id-1 div.sk-item {position: relative;z-index: 1;}#sk-container-id-1 div.sk-parallel {display: flex;align-items: stretch;justify-content: center;background-color: white;position: relative;}#sk-container-id-1 div.sk-item::before, #sk-container-id-1 div.sk-parallel-item::before {content: \"\";position: absolute;border-left: 1px solid gray;box-sizing: border-box;top: 0;bottom: 0;left: 50%;z-index: -1;}#sk-container-id-1 div.sk-parallel-item {display: flex;flex-direction: column;z-index: 1;position: relative;background-color: white;}#sk-container-id-1 div.sk-parallel-item:first-child::after {align-self: flex-end;width: 50%;}#sk-container-id-1 div.sk-parallel-item:last-child::after {align-self: flex-start;width: 50%;}#sk-container-id-1 div.sk-parallel-item:only-child::after {width: 0;}#sk-container-id-1 div.sk-dashed-wrapped {border: 1px dashed gray;margin: 0 0.4em 0.5em 0.4em;box-sizing: border-box;padding-bottom: 0.4em;background-color: white;}#sk-container-id-1 div.sk-label label {font-family: monospace;font-weight: bold;display: inline-block;line-height: 1.2em;}#sk-container-id-1 div.sk-label-container {text-align: center;}#sk-container-id-1 div.sk-container {/* jupyter's `normalize.less` sets `[hidden] { display: none; }` but bootstrap.min.css set `[hidden] { display: none !important; }` so we also need the `!important` here to be able to override the default hidden behavior on the sphinx rendered scikit-learn.org. See: https://github.com/scikit-learn/scikit-learn/issues/21755 */display: inline-block !important;position: relative;}#sk-container-id-1 div.sk-text-repr-fallback {display: none;}</style><div id=\"sk-container-id-1\" class=\"sk-top-container\"><div class=\"sk-text-repr-fallback\"><pre>GridSearchCV(cv=5,\n",
              "             estimator=Pipeline(steps=[(&#x27;encoding_and_scaling&#x27;,\n",
              "                                        ColumnTransformer(transformers=[(&#x27;ohe&#x27;,\n",
              "                                                                         OneHotEncoder(),\n",
              "                                                                         [&#x27;Sex&#x27;,\n",
              "                                                                          &#x27;IsSeniorCitizen&#x27;,\n",
              "                                                                          &#x27;HasPartner&#x27;,\n",
              "                                                                          &#x27;HasChild&#x27;,\n",
              "                                                                          &#x27;HasPhoneService&#x27;,\n",
              "                                                                          &#x27;HasMultiplePhoneNumbers&#x27;,\n",
              "                                                                          &#x27;HasInternetService&#x27;,\n",
              "                                                                          &#x27;HasOnlineSecurityService&#x27;,\n",
              "                                                                          &#x27;HasOnlineBackup&#x27;,\n",
              "                                                                          &#x27;HasDeviceProtection&#x27;,\n",
              "                                                                          &#x27;HasTechSupportAccess&#x27;,\n",
              "                                                                          &#x27;HasOnlineTV&#x27;,\n",
              "                                                                          &#x27;HasMovieSubscription&#x27;,\n",
              "                                                                          &#x27;HasContractPhone&#x27;,\n",
              "                                                                          &#x27;IsBillingPaperless&#x27;,\n",
              "                                                                          &#x27;PaymentMethod&#x27;]),\n",
              "                                                                        (&#x27;scaling&#x27;,\n",
              "                                                                         StandardScaler(),\n",
              "                                                                         [&#x27;ClientPeriod&#x27;,\n",
              "                                                                          &#x27;MonthlySpending&#x27;,\n",
              "                                                                          &#x27;TotalSpent&#x27;])])),\n",
              "                                       (&#x27;logreg&#x27;,\n",
              "                                        LogisticRegression(max_iter=10000))]),\n",
              "             param_grid={&#x27;logreg__C&#x27;: [100, 10, 1, 0.1, 0.01, 0.001]},\n",
              "             scoring=&#x27;roc_auc&#x27;)</pre><b>In a Jupyter environment, please rerun this cell to show the HTML representation or trust the notebook. <br />On GitHub, the HTML representation is unable to render, please try loading this page with nbviewer.org.</b></div><div class=\"sk-container\" hidden><div class=\"sk-item sk-dashed-wrapped\"><div class=\"sk-label-container\"><div class=\"sk-label sk-toggleable\"><input class=\"sk-toggleable__control sk-hidden--visually\" id=\"sk-estimator-id-1\" type=\"checkbox\" ><label for=\"sk-estimator-id-1\" class=\"sk-toggleable__label sk-toggleable__label-arrow\">GridSearchCV</label><div class=\"sk-toggleable__content\"><pre>GridSearchCV(cv=5,\n",
              "             estimator=Pipeline(steps=[(&#x27;encoding_and_scaling&#x27;,\n",
              "                                        ColumnTransformer(transformers=[(&#x27;ohe&#x27;,\n",
              "                                                                         OneHotEncoder(),\n",
              "                                                                         [&#x27;Sex&#x27;,\n",
              "                                                                          &#x27;IsSeniorCitizen&#x27;,\n",
              "                                                                          &#x27;HasPartner&#x27;,\n",
              "                                                                          &#x27;HasChild&#x27;,\n",
              "                                                                          &#x27;HasPhoneService&#x27;,\n",
              "                                                                          &#x27;HasMultiplePhoneNumbers&#x27;,\n",
              "                                                                          &#x27;HasInternetService&#x27;,\n",
              "                                                                          &#x27;HasOnlineSecurityService&#x27;,\n",
              "                                                                          &#x27;HasOnlineBackup&#x27;,\n",
              "                                                                          &#x27;HasDeviceProtection&#x27;,\n",
              "                                                                          &#x27;HasTechSupportAccess&#x27;,\n",
              "                                                                          &#x27;HasOnlineTV&#x27;,\n",
              "                                                                          &#x27;HasMovieSubscription&#x27;,\n",
              "                                                                          &#x27;HasContractPhone&#x27;,\n",
              "                                                                          &#x27;IsBillingPaperless&#x27;,\n",
              "                                                                          &#x27;PaymentMethod&#x27;]),\n",
              "                                                                        (&#x27;scaling&#x27;,\n",
              "                                                                         StandardScaler(),\n",
              "                                                                         [&#x27;ClientPeriod&#x27;,\n",
              "                                                                          &#x27;MonthlySpending&#x27;,\n",
              "                                                                          &#x27;TotalSpent&#x27;])])),\n",
              "                                       (&#x27;logreg&#x27;,\n",
              "                                        LogisticRegression(max_iter=10000))]),\n",
              "             param_grid={&#x27;logreg__C&#x27;: [100, 10, 1, 0.1, 0.01, 0.001]},\n",
              "             scoring=&#x27;roc_auc&#x27;)</pre></div></div></div><div class=\"sk-parallel\"><div class=\"sk-parallel-item\"><div class=\"sk-item\"><div class=\"sk-label-container\"><div class=\"sk-label sk-toggleable\"><input class=\"sk-toggleable__control sk-hidden--visually\" id=\"sk-estimator-id-2\" type=\"checkbox\" ><label for=\"sk-estimator-id-2\" class=\"sk-toggleable__label sk-toggleable__label-arrow\">estimator: Pipeline</label><div class=\"sk-toggleable__content\"><pre>Pipeline(steps=[(&#x27;encoding_and_scaling&#x27;,\n",
              "                 ColumnTransformer(transformers=[(&#x27;ohe&#x27;, OneHotEncoder(),\n",
              "                                                  [&#x27;Sex&#x27;, &#x27;IsSeniorCitizen&#x27;,\n",
              "                                                   &#x27;HasPartner&#x27;, &#x27;HasChild&#x27;,\n",
              "                                                   &#x27;HasPhoneService&#x27;,\n",
              "                                                   &#x27;HasMultiplePhoneNumbers&#x27;,\n",
              "                                                   &#x27;HasInternetService&#x27;,\n",
              "                                                   &#x27;HasOnlineSecurityService&#x27;,\n",
              "                                                   &#x27;HasOnlineBackup&#x27;,\n",
              "                                                   &#x27;HasDeviceProtection&#x27;,\n",
              "                                                   &#x27;HasTechSupportAccess&#x27;,\n",
              "                                                   &#x27;HasOnlineTV&#x27;,\n",
              "                                                   &#x27;HasMovieSubscription&#x27;,\n",
              "                                                   &#x27;HasContractPhone&#x27;,\n",
              "                                                   &#x27;IsBillingPaperless&#x27;,\n",
              "                                                   &#x27;PaymentMethod&#x27;]),\n",
              "                                                 (&#x27;scaling&#x27;, StandardScaler(),\n",
              "                                                  [&#x27;ClientPeriod&#x27;,\n",
              "                                                   &#x27;MonthlySpending&#x27;,\n",
              "                                                   &#x27;TotalSpent&#x27;])])),\n",
              "                (&#x27;logreg&#x27;, LogisticRegression(max_iter=10000))])</pre></div></div></div><div class=\"sk-serial\"><div class=\"sk-item\"><div class=\"sk-serial\"><div class=\"sk-item sk-dashed-wrapped\"><div class=\"sk-label-container\"><div class=\"sk-label sk-toggleable\"><input class=\"sk-toggleable__control sk-hidden--visually\" id=\"sk-estimator-id-3\" type=\"checkbox\" ><label for=\"sk-estimator-id-3\" class=\"sk-toggleable__label sk-toggleable__label-arrow\">encoding_and_scaling: ColumnTransformer</label><div class=\"sk-toggleable__content\"><pre>ColumnTransformer(transformers=[(&#x27;ohe&#x27;, OneHotEncoder(),\n",
              "                                 [&#x27;Sex&#x27;, &#x27;IsSeniorCitizen&#x27;, &#x27;HasPartner&#x27;,\n",
              "                                  &#x27;HasChild&#x27;, &#x27;HasPhoneService&#x27;,\n",
              "                                  &#x27;HasMultiplePhoneNumbers&#x27;,\n",
              "                                  &#x27;HasInternetService&#x27;,\n",
              "                                  &#x27;HasOnlineSecurityService&#x27;, &#x27;HasOnlineBackup&#x27;,\n",
              "                                  &#x27;HasDeviceProtection&#x27;, &#x27;HasTechSupportAccess&#x27;,\n",
              "                                  &#x27;HasOnlineTV&#x27;, &#x27;HasMovieSubscription&#x27;,\n",
              "                                  &#x27;HasContractPhone&#x27;, &#x27;IsBillingPaperless&#x27;,\n",
              "                                  &#x27;PaymentMethod&#x27;]),\n",
              "                                (&#x27;scaling&#x27;, StandardScaler(),\n",
              "                                 [&#x27;ClientPeriod&#x27;, &#x27;MonthlySpending&#x27;,\n",
              "                                  &#x27;TotalSpent&#x27;])])</pre></div></div></div><div class=\"sk-parallel\"><div class=\"sk-parallel-item\"><div class=\"sk-item\"><div class=\"sk-label-container\"><div class=\"sk-label sk-toggleable\"><input class=\"sk-toggleable__control sk-hidden--visually\" id=\"sk-estimator-id-4\" type=\"checkbox\" ><label for=\"sk-estimator-id-4\" class=\"sk-toggleable__label sk-toggleable__label-arrow\">ohe</label><div class=\"sk-toggleable__content\"><pre>[&#x27;Sex&#x27;, &#x27;IsSeniorCitizen&#x27;, &#x27;HasPartner&#x27;, &#x27;HasChild&#x27;, &#x27;HasPhoneService&#x27;, &#x27;HasMultiplePhoneNumbers&#x27;, &#x27;HasInternetService&#x27;, &#x27;HasOnlineSecurityService&#x27;, &#x27;HasOnlineBackup&#x27;, &#x27;HasDeviceProtection&#x27;, &#x27;HasTechSupportAccess&#x27;, &#x27;HasOnlineTV&#x27;, &#x27;HasMovieSubscription&#x27;, &#x27;HasContractPhone&#x27;, &#x27;IsBillingPaperless&#x27;, &#x27;PaymentMethod&#x27;]</pre></div></div></div><div class=\"sk-serial\"><div class=\"sk-item\"><div class=\"sk-estimator sk-toggleable\"><input class=\"sk-toggleable__control sk-hidden--visually\" id=\"sk-estimator-id-5\" type=\"checkbox\" ><label for=\"sk-estimator-id-5\" class=\"sk-toggleable__label sk-toggleable__label-arrow\">OneHotEncoder</label><div class=\"sk-toggleable__content\"><pre>OneHotEncoder()</pre></div></div></div></div></div></div><div class=\"sk-parallel-item\"><div class=\"sk-item\"><div class=\"sk-label-container\"><div class=\"sk-label sk-toggleable\"><input class=\"sk-toggleable__control sk-hidden--visually\" id=\"sk-estimator-id-6\" type=\"checkbox\" ><label for=\"sk-estimator-id-6\" class=\"sk-toggleable__label sk-toggleable__label-arrow\">scaling</label><div class=\"sk-toggleable__content\"><pre>[&#x27;ClientPeriod&#x27;, &#x27;MonthlySpending&#x27;, &#x27;TotalSpent&#x27;]</pre></div></div></div><div class=\"sk-serial\"><div class=\"sk-item\"><div class=\"sk-estimator sk-toggleable\"><input class=\"sk-toggleable__control sk-hidden--visually\" id=\"sk-estimator-id-7\" type=\"checkbox\" ><label for=\"sk-estimator-id-7\" class=\"sk-toggleable__label sk-toggleable__label-arrow\">StandardScaler</label><div class=\"sk-toggleable__content\"><pre>StandardScaler()</pre></div></div></div></div></div></div></div></div><div class=\"sk-item\"><div class=\"sk-estimator sk-toggleable\"><input class=\"sk-toggleable__control sk-hidden--visually\" id=\"sk-estimator-id-8\" type=\"checkbox\" ><label for=\"sk-estimator-id-8\" class=\"sk-toggleable__label sk-toggleable__label-arrow\">LogisticRegression</label><div class=\"sk-toggleable__content\"><pre>LogisticRegression(max_iter=10000)</pre></div></div></div></div></div></div></div></div></div></div></div></div>"
            ]
          },
          "metadata": {},
          "execution_count": 132
        }
      ]
    },
    {
      "cell_type": "code",
      "source": [
        "print(f\"Best score: {grid.best_score_} with C = {grid.best_params_['logreg__C']}\")"
      ],
      "metadata": {
        "id": "SEtwBI-Ku1fs",
        "outputId": "eea5defe-f58f-4287-fbd8-1881c54e8fd1",
        "colab": {
          "base_uri": "https://localhost:8080/"
        }
      },
      "execution_count": 141,
      "outputs": [
        {
          "output_type": "stream",
          "name": "stdout",
          "text": [
            "Best score: 0.845110258849499 with C = 10\n"
          ]
        }
      ]
    },
    {
      "cell_type": "markdown",
      "metadata": {
        "id": "uVahy6JKEEZQ"
      },
      "source": [
        "Выпишите какое лучшее качество и с какими параметрами вам удалось получить"
      ]
    },
    {
      "cell_type": "markdown",
      "source": [
        "Лучшее качество: 0.845110258849499\n",
        "\n",
        "Соответствующий параметр C: 10"
      ],
      "metadata": {
        "id": "6HmKq_iku3xu"
      }
    },
    {
      "cell_type": "markdown",
      "metadata": {
        "id": "BlTeVy7fEEZR"
      },
      "source": [
        "## Применение градиентного бустинга (2 балла)\n",
        "\n",
        "Если вы хотите получить баллы за точный ответ, то стоит попробовать градиентный бустинг. Часто градиентный бустинг с параметрами по умолчанию даст вам 80% результата за 0% усилий.\n",
        "\n",
        "Мы будем использовать catboost, поэтому нам не надо кодировать категориальные признаки. Catboost сделает это сам (в .fit() надо передать cat_features=cat_cols). А численные признаки нормировать для моделей, основанных на деревьях не нужно.\n",
        "\n",
        "1) Разделите выборку на train/valid. Протестируйте catboost cо стандартными параметрами.\n",
        "\n",
        "2) Протестируйте разные занчения параметроа количества деревьев и learning_rate'а и выберите лучшую по метрике ROC-AUC комбинацию.\n",
        "\n",
        "(Дополнительно) Есть некоторые сложности с тем, чтобы использовать CatBoostClassifier вместе с GridSearchCV, поэтому мы не просим использовать кроссвалидацию. Но можете попробовать)"
      ]
    },
    {
      "cell_type": "code",
      "source": [
        "!pip install catboost"
      ],
      "metadata": {
        "id": "m2bq83t8yMlf",
        "outputId": "9fe948d3-9c5c-4624-ebce-c504293773c5",
        "colab": {
          "base_uri": "https://localhost:8080/"
        }
      },
      "execution_count": 142,
      "outputs": [
        {
          "output_type": "stream",
          "name": "stdout",
          "text": [
            "Collecting catboost\n",
            "  Downloading catboost-1.2.2-cp310-cp310-manylinux2014_x86_64.whl (98.7 MB)\n",
            "\u001b[2K     \u001b[90m━━━━━━━━━━━━━━━━━━━━━━━━━━━━━━━━━━━━━━━━\u001b[0m \u001b[32m98.7/98.7 MB\u001b[0m \u001b[31m2.5 MB/s\u001b[0m eta \u001b[36m0:00:00\u001b[0m\n",
            "\u001b[?25hRequirement already satisfied: graphviz in /usr/local/lib/python3.10/dist-packages (from catboost) (0.20.1)\n",
            "Requirement already satisfied: matplotlib in /usr/local/lib/python3.10/dist-packages (from catboost) (3.7.1)\n",
            "Requirement already satisfied: numpy>=1.16.0 in /usr/local/lib/python3.10/dist-packages (from catboost) (1.23.5)\n",
            "Requirement already satisfied: pandas>=0.24 in /usr/local/lib/python3.10/dist-packages (from catboost) (1.5.3)\n",
            "Requirement already satisfied: scipy in /usr/local/lib/python3.10/dist-packages (from catboost) (1.11.3)\n",
            "Requirement already satisfied: plotly in /usr/local/lib/python3.10/dist-packages (from catboost) (5.15.0)\n",
            "Requirement already satisfied: six in /usr/local/lib/python3.10/dist-packages (from catboost) (1.16.0)\n",
            "Requirement already satisfied: python-dateutil>=2.8.1 in /usr/local/lib/python3.10/dist-packages (from pandas>=0.24->catboost) (2.8.2)\n",
            "Requirement already satisfied: pytz>=2020.1 in /usr/local/lib/python3.10/dist-packages (from pandas>=0.24->catboost) (2023.3.post1)\n",
            "Requirement already satisfied: contourpy>=1.0.1 in /usr/local/lib/python3.10/dist-packages (from matplotlib->catboost) (1.1.1)\n",
            "Requirement already satisfied: cycler>=0.10 in /usr/local/lib/python3.10/dist-packages (from matplotlib->catboost) (0.12.1)\n",
            "Requirement already satisfied: fonttools>=4.22.0 in /usr/local/lib/python3.10/dist-packages (from matplotlib->catboost) (4.43.1)\n",
            "Requirement already satisfied: kiwisolver>=1.0.1 in /usr/local/lib/python3.10/dist-packages (from matplotlib->catboost) (1.4.5)\n",
            "Requirement already satisfied: packaging>=20.0 in /usr/local/lib/python3.10/dist-packages (from matplotlib->catboost) (23.2)\n",
            "Requirement already satisfied: pillow>=6.2.0 in /usr/local/lib/python3.10/dist-packages (from matplotlib->catboost) (9.4.0)\n",
            "Requirement already satisfied: pyparsing>=2.3.1 in /usr/local/lib/python3.10/dist-packages (from matplotlib->catboost) (3.1.1)\n",
            "Requirement already satisfied: tenacity>=6.2.0 in /usr/local/lib/python3.10/dist-packages (from plotly->catboost) (8.2.3)\n",
            "Installing collected packages: catboost\n",
            "Successfully installed catboost-1.2.2\n"
          ]
        }
      ]
    },
    {
      "cell_type": "code",
      "source": [
        "X = data.drop('Churn', axis=1)\n",
        "y = data['Churn']"
      ],
      "metadata": {
        "id": "HvDAEg7WyftI"
      },
      "execution_count": 143,
      "outputs": []
    },
    {
      "cell_type": "code",
      "metadata": {
        "id": "Fioxxlp-EEZS"
      },
      "source": [
        "X_train, X_val, y_train, y_val = train_test_split(X, y, test_size=0.2,\n",
        "                                                  random_state=43, stratify=y)"
      ],
      "execution_count": 146,
      "outputs": []
    },
    {
      "cell_type": "code",
      "source": [
        "import catboost\n",
        "\n",
        "boosting_model_1 = catboost.CatBoostClassifier(n_estimators=200,\n",
        "                                             cat_features=cat_cols)\n",
        "\n",
        "boosting_model_1.fit(X_train, y_train)"
      ],
      "metadata": {
        "id": "CD0gIFHRzAiB",
        "outputId": "f33e3eed-1a87-4e58-c363-93480b7cc0e2",
        "colab": {
          "base_uri": "https://localhost:8080/"
        }
      },
      "execution_count": 165,
      "outputs": [
        {
          "output_type": "stream",
          "name": "stdout",
          "text": [
            "Learning rate set to 0.083391\n",
            "0:\tlearn: 0.6414752\ttotal: 15.6ms\tremaining: 3.11s\n",
            "1:\tlearn: 0.6033916\ttotal: 33ms\tremaining: 3.27s\n",
            "2:\tlearn: 0.5685209\ttotal: 46.2ms\tremaining: 3.04s\n",
            "3:\tlearn: 0.5413710\ttotal: 59.5ms\tremaining: 2.91s\n",
            "4:\tlearn: 0.5195467\ttotal: 73.8ms\tremaining: 2.88s\n",
            "5:\tlearn: 0.5026680\ttotal: 86.9ms\tremaining: 2.81s\n",
            "6:\tlearn: 0.4907577\ttotal: 93.6ms\tremaining: 2.58s\n",
            "7:\tlearn: 0.4792036\ttotal: 105ms\tremaining: 2.52s\n",
            "8:\tlearn: 0.4696337\ttotal: 128ms\tremaining: 2.72s\n",
            "9:\tlearn: 0.4615578\ttotal: 142ms\tremaining: 2.69s\n",
            "10:\tlearn: 0.4526276\ttotal: 158ms\tremaining: 2.71s\n",
            "11:\tlearn: 0.4451065\ttotal: 175ms\tremaining: 2.75s\n",
            "12:\tlearn: 0.4406518\ttotal: 188ms\tremaining: 2.7s\n",
            "13:\tlearn: 0.4359785\ttotal: 204ms\tremaining: 2.71s\n",
            "14:\tlearn: 0.4314740\ttotal: 218ms\tremaining: 2.68s\n",
            "15:\tlearn: 0.4278390\ttotal: 232ms\tremaining: 2.67s\n",
            "16:\tlearn: 0.4249787\ttotal: 244ms\tremaining: 2.63s\n",
            "17:\tlearn: 0.4213559\ttotal: 263ms\tremaining: 2.66s\n",
            "18:\tlearn: 0.4182955\ttotal: 276ms\tremaining: 2.63s\n",
            "19:\tlearn: 0.4168291\ttotal: 283ms\tremaining: 2.55s\n",
            "20:\tlearn: 0.4160153\ttotal: 290ms\tremaining: 2.47s\n",
            "21:\tlearn: 0.4140351\ttotal: 303ms\tremaining: 2.45s\n",
            "22:\tlearn: 0.4119149\ttotal: 316ms\tremaining: 2.43s\n",
            "23:\tlearn: 0.4100875\ttotal: 332ms\tremaining: 2.44s\n",
            "24:\tlearn: 0.4097782\ttotal: 341ms\tremaining: 2.38s\n",
            "25:\tlearn: 0.4087530\ttotal: 357ms\tremaining: 2.39s\n",
            "26:\tlearn: 0.4077964\ttotal: 366ms\tremaining: 2.34s\n",
            "27:\tlearn: 0.4064777\ttotal: 380ms\tremaining: 2.33s\n",
            "28:\tlearn: 0.4051103\ttotal: 393ms\tremaining: 2.32s\n",
            "29:\tlearn: 0.4049760\ttotal: 398ms\tremaining: 2.26s\n",
            "30:\tlearn: 0.4042788\ttotal: 416ms\tremaining: 2.27s\n",
            "31:\tlearn: 0.4030143\ttotal: 429ms\tremaining: 2.25s\n",
            "32:\tlearn: 0.4021010\ttotal: 444ms\tremaining: 2.25s\n",
            "33:\tlearn: 0.4017280\ttotal: 453ms\tremaining: 2.21s\n",
            "34:\tlearn: 0.4011757\ttotal: 479ms\tremaining: 2.26s\n",
            "35:\tlearn: 0.4004460\ttotal: 489ms\tremaining: 2.23s\n",
            "36:\tlearn: 0.3992508\ttotal: 503ms\tremaining: 2.21s\n",
            "37:\tlearn: 0.3991149\ttotal: 508ms\tremaining: 2.16s\n",
            "38:\tlearn: 0.3990562\ttotal: 516ms\tremaining: 2.13s\n",
            "39:\tlearn: 0.3976439\ttotal: 529ms\tremaining: 2.12s\n",
            "40:\tlearn: 0.3969563\ttotal: 551ms\tremaining: 2.14s\n",
            "41:\tlearn: 0.3961447\ttotal: 565ms\tremaining: 2.13s\n",
            "42:\tlearn: 0.3955899\ttotal: 575ms\tremaining: 2.1s\n",
            "43:\tlearn: 0.3950885\ttotal: 588ms\tremaining: 2.08s\n",
            "44:\tlearn: 0.3945821\ttotal: 606ms\tremaining: 2.09s\n",
            "45:\tlearn: 0.3940458\ttotal: 625ms\tremaining: 2.09s\n",
            "46:\tlearn: 0.3938240\ttotal: 651ms\tremaining: 2.12s\n",
            "47:\tlearn: 0.3926420\ttotal: 666ms\tremaining: 2.11s\n",
            "48:\tlearn: 0.3917337\ttotal: 680ms\tremaining: 2.1s\n",
            "49:\tlearn: 0.3905949\ttotal: 699ms\tremaining: 2.1s\n",
            "50:\tlearn: 0.3902278\ttotal: 713ms\tremaining: 2.08s\n",
            "51:\tlearn: 0.3893910\ttotal: 727ms\tremaining: 2.07s\n",
            "52:\tlearn: 0.3890393\ttotal: 743ms\tremaining: 2.06s\n",
            "53:\tlearn: 0.3887272\ttotal: 757ms\tremaining: 2.05s\n",
            "54:\tlearn: 0.3880711\ttotal: 771ms\tremaining: 2.03s\n",
            "55:\tlearn: 0.3880442\ttotal: 779ms\tremaining: 2s\n",
            "56:\tlearn: 0.3877966\ttotal: 792ms\tremaining: 1.99s\n",
            "57:\tlearn: 0.3872133\ttotal: 805ms\tremaining: 1.97s\n",
            "58:\tlearn: 0.3864124\ttotal: 827ms\tremaining: 1.98s\n",
            "59:\tlearn: 0.3860106\ttotal: 848ms\tremaining: 1.98s\n",
            "60:\tlearn: 0.3852428\ttotal: 862ms\tremaining: 1.96s\n",
            "61:\tlearn: 0.3849822\ttotal: 881ms\tremaining: 1.96s\n",
            "62:\tlearn: 0.3848510\ttotal: 898ms\tremaining: 1.95s\n",
            "63:\tlearn: 0.3840929\ttotal: 912ms\tremaining: 1.94s\n",
            "64:\tlearn: 0.3836456\ttotal: 924ms\tremaining: 1.92s\n",
            "65:\tlearn: 0.3832950\ttotal: 939ms\tremaining: 1.91s\n",
            "66:\tlearn: 0.3829336\ttotal: 959ms\tremaining: 1.9s\n",
            "67:\tlearn: 0.3823614\ttotal: 976ms\tremaining: 1.89s\n",
            "68:\tlearn: 0.3820355\ttotal: 989ms\tremaining: 1.88s\n",
            "69:\tlearn: 0.3808668\ttotal: 1s\tremaining: 1.87s\n",
            "70:\tlearn: 0.3808302\ttotal: 1.02s\tremaining: 1.85s\n",
            "71:\tlearn: 0.3804482\ttotal: 1.04s\tremaining: 1.84s\n",
            "72:\tlearn: 0.3796952\ttotal: 1.05s\tremaining: 1.83s\n",
            "73:\tlearn: 0.3793177\ttotal: 1.07s\tremaining: 1.81s\n",
            "74:\tlearn: 0.3789686\ttotal: 1.08s\tremaining: 1.8s\n",
            "75:\tlearn: 0.3784087\ttotal: 1.1s\tremaining: 1.79s\n",
            "76:\tlearn: 0.3776961\ttotal: 1.11s\tremaining: 1.77s\n",
            "77:\tlearn: 0.3776960\ttotal: 1.11s\tremaining: 1.74s\n",
            "78:\tlearn: 0.3775259\ttotal: 1.13s\tremaining: 1.73s\n",
            "79:\tlearn: 0.3772390\ttotal: 1.15s\tremaining: 1.72s\n",
            "80:\tlearn: 0.3772390\ttotal: 1.15s\tremaining: 1.69s\n",
            "81:\tlearn: 0.3769691\ttotal: 1.17s\tremaining: 1.68s\n",
            "82:\tlearn: 0.3769690\ttotal: 1.17s\tremaining: 1.65s\n",
            "83:\tlearn: 0.3768803\ttotal: 1.18s\tremaining: 1.63s\n",
            "84:\tlearn: 0.3766417\ttotal: 1.2s\tremaining: 1.62s\n",
            "85:\tlearn: 0.3764204\ttotal: 1.21s\tremaining: 1.6s\n",
            "86:\tlearn: 0.3763680\ttotal: 1.22s\tremaining: 1.58s\n",
            "87:\tlearn: 0.3756038\ttotal: 1.23s\tremaining: 1.57s\n",
            "88:\tlearn: 0.3753016\ttotal: 1.25s\tremaining: 1.56s\n",
            "89:\tlearn: 0.3748231\ttotal: 1.27s\tremaining: 1.56s\n",
            "90:\tlearn: 0.3742949\ttotal: 1.3s\tremaining: 1.55s\n",
            "91:\tlearn: 0.3739652\ttotal: 1.32s\tremaining: 1.55s\n",
            "92:\tlearn: 0.3736178\ttotal: 1.33s\tremaining: 1.53s\n",
            "93:\tlearn: 0.3736151\ttotal: 1.34s\tremaining: 1.51s\n",
            "94:\tlearn: 0.3732801\ttotal: 1.36s\tremaining: 1.5s\n",
            "95:\tlearn: 0.3727473\ttotal: 1.38s\tremaining: 1.49s\n",
            "96:\tlearn: 0.3724105\ttotal: 1.39s\tremaining: 1.48s\n",
            "97:\tlearn: 0.3722798\ttotal: 1.41s\tremaining: 1.47s\n",
            "98:\tlearn: 0.3720394\ttotal: 1.43s\tremaining: 1.45s\n",
            "99:\tlearn: 0.3712271\ttotal: 1.44s\tremaining: 1.44s\n",
            "100:\tlearn: 0.3709356\ttotal: 1.46s\tremaining: 1.43s\n",
            "101:\tlearn: 0.3701423\ttotal: 1.48s\tremaining: 1.42s\n",
            "102:\tlearn: 0.3697822\ttotal: 1.49s\tremaining: 1.41s\n",
            "103:\tlearn: 0.3696315\ttotal: 1.51s\tremaining: 1.39s\n",
            "104:\tlearn: 0.3693101\ttotal: 1.53s\tremaining: 1.39s\n",
            "105:\tlearn: 0.3691881\ttotal: 1.54s\tremaining: 1.37s\n",
            "106:\tlearn: 0.3691402\ttotal: 1.56s\tremaining: 1.35s\n",
            "107:\tlearn: 0.3689288\ttotal: 1.57s\tremaining: 1.34s\n",
            "108:\tlearn: 0.3686183\ttotal: 1.58s\tremaining: 1.32s\n",
            "109:\tlearn: 0.3682103\ttotal: 1.6s\tremaining: 1.31s\n",
            "110:\tlearn: 0.3675706\ttotal: 1.61s\tremaining: 1.29s\n",
            "111:\tlearn: 0.3669374\ttotal: 1.65s\tremaining: 1.29s\n",
            "112:\tlearn: 0.3669246\ttotal: 1.66s\tremaining: 1.28s\n",
            "113:\tlearn: 0.3665495\ttotal: 1.68s\tremaining: 1.27s\n",
            "114:\tlearn: 0.3657305\ttotal: 1.69s\tremaining: 1.25s\n",
            "115:\tlearn: 0.3653680\ttotal: 1.71s\tremaining: 1.24s\n",
            "116:\tlearn: 0.3652256\ttotal: 1.72s\tremaining: 1.22s\n",
            "117:\tlearn: 0.3651882\ttotal: 1.74s\tremaining: 1.21s\n",
            "118:\tlearn: 0.3648643\ttotal: 1.75s\tremaining: 1.19s\n",
            "119:\tlearn: 0.3647447\ttotal: 1.76s\tremaining: 1.18s\n",
            "120:\tlearn: 0.3639014\ttotal: 1.78s\tremaining: 1.16s\n",
            "121:\tlearn: 0.3635744\ttotal: 1.79s\tremaining: 1.15s\n",
            "122:\tlearn: 0.3628681\ttotal: 1.81s\tremaining: 1.13s\n",
            "123:\tlearn: 0.3625276\ttotal: 1.82s\tremaining: 1.12s\n",
            "124:\tlearn: 0.3624876\ttotal: 1.83s\tremaining: 1.1s\n",
            "125:\tlearn: 0.3623779\ttotal: 1.85s\tremaining: 1.09s\n",
            "126:\tlearn: 0.3620630\ttotal: 1.87s\tremaining: 1.08s\n",
            "127:\tlearn: 0.3616510\ttotal: 1.89s\tremaining: 1.06s\n",
            "128:\tlearn: 0.3613296\ttotal: 1.9s\tremaining: 1.05s\n",
            "129:\tlearn: 0.3608455\ttotal: 1.92s\tremaining: 1.03s\n",
            "130:\tlearn: 0.3605533\ttotal: 1.93s\tremaining: 1.02s\n",
            "131:\tlearn: 0.3595116\ttotal: 1.95s\tremaining: 1s\n",
            "132:\tlearn: 0.3589116\ttotal: 1.96s\tremaining: 988ms\n",
            "133:\tlearn: 0.3588295\ttotal: 1.98s\tremaining: 974ms\n",
            "134:\tlearn: 0.3587856\ttotal: 1.99s\tremaining: 958ms\n",
            "135:\tlearn: 0.3586088\ttotal: 2.01s\tremaining: 948ms\n",
            "136:\tlearn: 0.3584716\ttotal: 2.03s\tremaining: 935ms\n",
            "137:\tlearn: 0.3578239\ttotal: 2.05s\tremaining: 923ms\n",
            "138:\tlearn: 0.3576286\ttotal: 2.07s\tremaining: 909ms\n",
            "139:\tlearn: 0.3566691\ttotal: 2.09s\tremaining: 895ms\n",
            "140:\tlearn: 0.3558992\ttotal: 2.1s\tremaining: 880ms\n",
            "141:\tlearn: 0.3557712\ttotal: 2.12s\tremaining: 864ms\n",
            "142:\tlearn: 0.3551802\ttotal: 2.13s\tremaining: 849ms\n",
            "143:\tlearn: 0.3549086\ttotal: 2.15s\tremaining: 834ms\n",
            "144:\tlearn: 0.3545544\ttotal: 2.16s\tremaining: 819ms\n",
            "145:\tlearn: 0.3541040\ttotal: 2.17s\tremaining: 805ms\n",
            "146:\tlearn: 0.3539151\ttotal: 2.19s\tremaining: 790ms\n",
            "147:\tlearn: 0.3536796\ttotal: 2.21s\tremaining: 775ms\n",
            "148:\tlearn: 0.3535455\ttotal: 2.22s\tremaining: 759ms\n",
            "149:\tlearn: 0.3533294\ttotal: 2.23s\tremaining: 744ms\n",
            "150:\tlearn: 0.3526288\ttotal: 2.25s\tremaining: 729ms\n",
            "151:\tlearn: 0.3522690\ttotal: 2.26s\tremaining: 714ms\n",
            "152:\tlearn: 0.3521846\ttotal: 2.28s\tremaining: 701ms\n",
            "153:\tlearn: 0.3520645\ttotal: 2.29s\tremaining: 685ms\n",
            "154:\tlearn: 0.3519985\ttotal: 2.31s\tremaining: 670ms\n",
            "155:\tlearn: 0.3515303\ttotal: 2.32s\tremaining: 656ms\n",
            "156:\tlearn: 0.3513123\ttotal: 2.34s\tremaining: 640ms\n",
            "157:\tlearn: 0.3512242\ttotal: 2.35s\tremaining: 626ms\n",
            "158:\tlearn: 0.3508504\ttotal: 2.38s\tremaining: 613ms\n",
            "159:\tlearn: 0.3507229\ttotal: 2.4s\tremaining: 601ms\n",
            "160:\tlearn: 0.3502283\ttotal: 2.42s\tremaining: 586ms\n",
            "161:\tlearn: 0.3495720\ttotal: 2.44s\tremaining: 571ms\n",
            "162:\tlearn: 0.3494150\ttotal: 2.45s\tremaining: 556ms\n",
            "163:\tlearn: 0.3491258\ttotal: 2.47s\tremaining: 542ms\n",
            "164:\tlearn: 0.3488066\ttotal: 2.49s\tremaining: 529ms\n",
            "165:\tlearn: 0.3485308\ttotal: 2.51s\tremaining: 514ms\n",
            "166:\tlearn: 0.3479697\ttotal: 2.52s\tremaining: 498ms\n",
            "167:\tlearn: 0.3476811\ttotal: 2.53s\tremaining: 483ms\n",
            "168:\tlearn: 0.3471474\ttotal: 2.55s\tremaining: 468ms\n",
            "169:\tlearn: 0.3468055\ttotal: 2.57s\tremaining: 453ms\n",
            "170:\tlearn: 0.3466978\ttotal: 2.58s\tremaining: 438ms\n",
            "171:\tlearn: 0.3460493\ttotal: 2.6s\tremaining: 423ms\n",
            "172:\tlearn: 0.3459027\ttotal: 2.61s\tremaining: 408ms\n",
            "173:\tlearn: 0.3449943\ttotal: 2.64s\tremaining: 394ms\n",
            "174:\tlearn: 0.3445347\ttotal: 2.65s\tremaining: 379ms\n",
            "175:\tlearn: 0.3439742\ttotal: 2.67s\tremaining: 364ms\n",
            "176:\tlearn: 0.3437634\ttotal: 2.69s\tremaining: 349ms\n",
            "177:\tlearn: 0.3437027\ttotal: 2.71s\tremaining: 334ms\n",
            "178:\tlearn: 0.3436517\ttotal: 2.72s\tremaining: 319ms\n",
            "179:\tlearn: 0.3433833\ttotal: 2.73s\tremaining: 304ms\n",
            "180:\tlearn: 0.3431679\ttotal: 2.75s\tremaining: 289ms\n",
            "181:\tlearn: 0.3424815\ttotal: 2.77s\tremaining: 274ms\n",
            "182:\tlearn: 0.3423920\ttotal: 2.79s\tremaining: 259ms\n",
            "183:\tlearn: 0.3423269\ttotal: 2.8s\tremaining: 243ms\n",
            "184:\tlearn: 0.3421187\ttotal: 2.81s\tremaining: 228ms\n",
            "185:\tlearn: 0.3415446\ttotal: 2.83s\tremaining: 213ms\n",
            "186:\tlearn: 0.3414123\ttotal: 2.84s\tremaining: 197ms\n",
            "187:\tlearn: 0.3413054\ttotal: 2.85s\tremaining: 182ms\n",
            "188:\tlearn: 0.3410825\ttotal: 2.87s\tremaining: 167ms\n",
            "189:\tlearn: 0.3409056\ttotal: 2.89s\tremaining: 152ms\n",
            "190:\tlearn: 0.3408171\ttotal: 2.91s\tremaining: 137ms\n",
            "191:\tlearn: 0.3404322\ttotal: 2.93s\tremaining: 122ms\n",
            "192:\tlearn: 0.3403212\ttotal: 2.94s\tremaining: 107ms\n",
            "193:\tlearn: 0.3397931\ttotal: 2.96s\tremaining: 91.5ms\n",
            "194:\tlearn: 0.3396580\ttotal: 2.97s\tremaining: 76.2ms\n",
            "195:\tlearn: 0.3393788\ttotal: 2.99s\tremaining: 61ms\n",
            "196:\tlearn: 0.3391426\ttotal: 3s\tremaining: 45.7ms\n",
            "197:\tlearn: 0.3384072\ttotal: 3.02s\tremaining: 30.5ms\n",
            "198:\tlearn: 0.3380968\ttotal: 3.03s\tremaining: 15.2ms\n",
            "199:\tlearn: 0.3378201\ttotal: 3.04s\tremaining: 0us\n"
          ]
        },
        {
          "output_type": "execute_result",
          "data": {
            "text/plain": [
              "<catboost.core.CatBoostClassifier at 0x782bffff2860>"
            ]
          },
          "metadata": {},
          "execution_count": 165
        }
      ]
    },
    {
      "cell_type": "code",
      "source": [
        "y_pred = boosting_model_1.predict_proba(X_val)[:, 1]\n",
        "print(f'ROC-AUC score: {roc_auc_score(y_val, y_pred)}')"
      ],
      "metadata": {
        "id": "o_VgGyBNzlFD",
        "outputId": "033d01b6-f6d1-4ffd-d8f8-7e4dc48c20f8",
        "colab": {
          "base_uri": "https://localhost:8080/"
        }
      },
      "execution_count": 167,
      "outputs": [
        {
          "output_type": "stream",
          "name": "stdout",
          "text": [
            "ROC-AUC score: 0.848773488845691\n"
          ]
        }
      ]
    },
    {
      "cell_type": "markdown",
      "source": [
        "Сделаем кросс валидацию"
      ],
      "metadata": {
        "id": "1JOsVPhK0Mul"
      }
    },
    {
      "cell_type": "code",
      "source": [
        "X_train = data.drop('Churn', axis=1)\n",
        "y_train = data['Churn']"
      ],
      "metadata": {
        "id": "TsfeSjp40sPU"
      },
      "execution_count": 150,
      "outputs": []
    },
    {
      "cell_type": "code",
      "source": [
        "boosting_model = catboost.CatBoostClassifier(n_estimators=200, silent=True,\n",
        "                                             cat_features=cat_cols,\n",
        "                                             eval_metric='AUC')\n",
        "\n",
        "grid = {'learning_rate': np.linspace(0, 1, 10),\n",
        "        'depth': [4, 6, 10],\n",
        "        'l2_leaf_reg': [1, 5, 10, 12, 30, 50]}\n",
        "\n",
        "search = boosting_model.grid_search(grid,\n",
        "                           X_train,\n",
        "                           y_train, plot=True, refit=True,\n",
        "                           cv=5)"
      ],
      "metadata": {
        "id": "scyCAYfY0jYn",
        "outputId": "2886e873-3f19-421c-860c-ddbc4ff6a920",
        "colab": {
          "base_uri": "https://localhost:8080/",
          "height": 1000,
          "referenced_widgets": [
            "df3d96d502004f458bab1793830ca440"
          ]
        }
      },
      "execution_count": 158,
      "outputs": [
        {
          "output_type": "display_data",
          "data": {
            "text/plain": [
              "MetricVisualizer(layout=Layout(align_self='stretch', height='500px'))"
            ],
            "application/vnd.jupyter.widget-view+json": {
              "version_major": 2,
              "version_minor": 0,
              "model_id": "df3d96d502004f458bab1793830ca440"
            }
          },
          "metadata": {}
        },
        {
          "output_type": "stream",
          "name": "stdout",
          "text": [
            "\n",
            "bestTest = 0.8732827964\n",
            "bestIteration = 23\n",
            "\n",
            "Metric AUC is not calculated on train by default. To calculate this metric on train, add hints=skip_train~false to metric parameters.\n",
            "0:\tloss: 0.8732828\tbest: 0.8732828 (0)\ttotal: 3.97s\tremaining: 11m 50s\n",
            "\n",
            "bestTest = 0.8720958004\n",
            "bestIteration = 19\n",
            "\n",
            "Metric AUC is not calculated on train by default. To calculate this metric on train, add hints=skip_train~false to metric parameters.\n",
            "1:\tloss: 0.8720958\tbest: 0.8732828 (0)\ttotal: 6.08s\tremaining: 9m 1s\n",
            "\n",
            "bestTest = 0.8686398984\n",
            "bestIteration = 16\n",
            "\n",
            "Metric AUC is not calculated on train by default. To calculate this metric on train, add hints=skip_train~false to metric parameters.\n",
            "2:\tloss: 0.8686399\tbest: 0.8732828 (0)\ttotal: 8.26s\tremaining: 8m 7s\n",
            "\n",
            "bestTest = 0.8688046926\n",
            "bestIteration = 15\n",
            "\n",
            "Metric AUC is not calculated on train by default. To calculate this metric on train, add hints=skip_train~false to metric parameters.\n",
            "3:\tloss: 0.8688047\tbest: 0.8732828 (0)\ttotal: 11.2s\tremaining: 8m 12s\n",
            "\n",
            "bestTest = 0.8683819596\n",
            "bestIteration = 12\n",
            "\n",
            "Metric AUC is not calculated on train by default. To calculate this metric on train, add hints=skip_train~false to metric parameters.\n",
            "4:\tloss: 0.8683820\tbest: 0.8732828 (0)\ttotal: 13.7s\tremaining: 8m 1s\n",
            "\n",
            "bestTest = 0.8651314532\n",
            "bestIteration = 10\n",
            "\n",
            "Metric AUC is not calculated on train by default. To calculate this metric on train, add hints=skip_train~false to metric parameters.\n",
            "5:\tloss: 0.8651315\tbest: 0.8732828 (0)\ttotal: 15.9s\tremaining: 7m 41s\n",
            "\n",
            "bestTest = 0.861718541\n",
            "bestIteration = 9\n",
            "\n",
            "Metric AUC is not calculated on train by default. To calculate this metric on train, add hints=skip_train~false to metric parameters.\n",
            "6:\tloss: 0.8617185\tbest: 0.8732828 (0)\ttotal: 18.1s\tremaining: 7m 27s\n",
            "\n",
            "bestTest = 0.8570493714\n",
            "bestIteration = 9\n",
            "\n",
            "Metric AUC is not calculated on train by default. To calculate this metric on train, add hints=skip_train~false to metric parameters.\n",
            "7:\tloss: 0.8570494\tbest: 0.8732828 (0)\ttotal: 20.3s\tremaining: 7m 15s\n",
            "\n",
            "bestTest = 0.8596430892\n",
            "bestIteration = 11\n",
            "\n",
            "Metric AUC is not calculated on train by default. To calculate this metric on train, add hints=skip_train~false to metric parameters.\n",
            "8:\tloss: 0.8596431\tbest: 0.8732828 (0)\ttotal: 22.7s\tremaining: 7m 10s\n",
            "\n",
            "bestTest = 0.8723871757\n",
            "bestIteration = 58\n",
            "\n",
            "Metric AUC is not calculated on train by default. To calculate this metric on train, add hints=skip_train~false to metric parameters.\n",
            "9:\tloss: 0.8723872\tbest: 0.8732828 (0)\ttotal: 25.8s\tremaining: 7m 18s\n",
            "\n",
            "bestTest = 0.8710927051\n",
            "bestIteration = 15\n",
            "\n",
            "Metric AUC is not calculated on train by default. To calculate this metric on train, add hints=skip_train~false to metric parameters.\n",
            "10:\tloss: 0.8710927\tbest: 0.8732828 (0)\ttotal: 27.9s\tremaining: 7m 8s\n",
            "\n",
            "bestTest = 0.8689742634\n",
            "bestIteration = 6\n",
            "\n",
            "Metric AUC is not calculated on train by default. To calculate this metric on train, add hints=skip_train~false to metric parameters.\n",
            "11:\tloss: 0.8689743\tbest: 0.8732828 (0)\ttotal: 30s\tremaining: 7m\n",
            "\n",
            "bestTest = 0.8666528144\n",
            "bestIteration = 8\n",
            "\n",
            "Metric AUC is not calculated on train by default. To calculate this metric on train, add hints=skip_train~false to metric parameters.\n",
            "12:\tloss: 0.8666528\tbest: 0.8732828 (0)\ttotal: 32.3s\tremaining: 6m 54s\n",
            "\n",
            "bestTest = 0.8653583438\n",
            "bestIteration = 11\n",
            "\n",
            "Metric AUC is not calculated on train by default. To calculate this metric on train, add hints=skip_train~false to metric parameters.\n",
            "13:\tloss: 0.8653583\tbest: 0.8732828 (0)\ttotal: 34.5s\tremaining: 6m 49s\n",
            "\n",
            "bestTest = 0.8630297298\n",
            "bestIteration = 5\n",
            "\n",
            "Metric AUC is not calculated on train by default. To calculate this metric on train, add hints=skip_train~false to metric parameters.\n",
            "14:\tloss: 0.8630297\tbest: 0.8732828 (0)\ttotal: 37.9s\tremaining: 6m 57s\n",
            "\n",
            "bestTest = 0.8632470671\n",
            "bestIteration = 15\n",
            "\n",
            "Metric AUC is not calculated on train by default. To calculate this metric on train, add hints=skip_train~false to metric parameters.\n",
            "15:\tloss: 0.8632471\tbest: 0.8732828 (0)\ttotal: 40.1s\tremaining: 6m 51s\n",
            "\n",
            "bestTest = 0.8613387978\n",
            "bestIteration = 8\n",
            "\n",
            "Metric AUC is not calculated on train by default. To calculate this metric on train, add hints=skip_train~false to metric parameters.\n",
            "16:\tloss: 0.8613388\tbest: 0.8732828 (0)\ttotal: 42.3s\tremaining: 6m 45s\n",
            "\n",
            "bestTest = 0.8596383125\n",
            "bestIteration = 7\n",
            "\n",
            "Metric AUC is not calculated on train by default. To calculate this metric on train, add hints=skip_train~false to metric parameters.\n",
            "17:\tloss: 0.8596383\tbest: 0.8732828 (0)\ttotal: 44.5s\tremaining: 6m 40s\n",
            "\n",
            "bestTest = 0.8719381711\n",
            "bestIteration = 41\n",
            "\n",
            "Metric AUC is not calculated on train by default. To calculate this metric on train, add hints=skip_train~false to metric parameters.\n",
            "18:\tloss: 0.8719382\tbest: 0.8732828 (0)\ttotal: 46.5s\tremaining: 6m 34s\n",
            "\n",
            "bestTest = 0.8713673621\n",
            "bestIteration = 15\n",
            "\n",
            "Metric AUC is not calculated on train by default. To calculate this metric on train, add hints=skip_train~false to metric parameters.\n",
            "19:\tloss: 0.8713674\tbest: 0.8732828 (0)\ttotal: 49.2s\tremaining: 6m 33s\n",
            "\n",
            "bestTest = 0.8704359165\n",
            "bestIteration = 10\n",
            "\n",
            "Metric AUC is not calculated on train by default. To calculate this metric on train, add hints=skip_train~false to metric parameters.\n",
            "20:\tloss: 0.8704359\tbest: 0.8732828 (0)\ttotal: 52s\tremaining: 6m 33s\n",
            "\n",
            "bestTest = 0.8661345485\n",
            "bestIteration = 7\n",
            "\n",
            "Metric AUC is not calculated on train by default. To calculate this metric on train, add hints=skip_train~false to metric parameters.\n",
            "21:\tloss: 0.8661345\tbest: 0.8732828 (0)\ttotal: 54.1s\tremaining: 6m 28s\n",
            "\n",
            "bestTest = 0.8645773625\n",
            "bestIteration = 9\n",
            "\n",
            "Metric AUC is not calculated on train by default. To calculate this metric on train, add hints=skip_train~false to metric parameters.\n",
            "22:\tloss: 0.8645774\tbest: 0.8732828 (0)\ttotal: 56.3s\tremaining: 6m 24s\n",
            "\n",
            "bestTest = 0.8610904123\n",
            "bestIteration = 4\n",
            "\n",
            "Metric AUC is not calculated on train by default. To calculate this metric on train, add hints=skip_train~false to metric parameters.\n",
            "23:\tloss: 0.8610904\tbest: 0.8732828 (0)\ttotal: 58.4s\tremaining: 6m 19s\n",
            "\n",
            "bestTest = 0.8593469372\n",
            "bestIteration = 14\n",
            "\n",
            "Metric AUC is not calculated on train by default. To calculate this metric on train, add hints=skip_train~false to metric parameters.\n",
            "24:\tloss: 0.8593469\tbest: 0.8732828 (0)\ttotal: 1m\tremaining: 6m 16s\n",
            "\n",
            "bestTest = 0.8613459628\n",
            "bestIteration = 10\n",
            "\n",
            "Metric AUC is not calculated on train by default. To calculate this metric on train, add hints=skip_train~false to metric parameters.\n",
            "25:\tloss: 0.8613460\tbest: 0.8732828 (0)\ttotal: 1m 3s\tremaining: 6m 19s\n",
            "\n",
            "bestTest = 0.8543362375\n",
            "bestIteration = 4\n",
            "\n",
            "Metric AUC is not calculated on train by default. To calculate this metric on train, add hints=skip_train~false to metric parameters.\n",
            "26:\tloss: 0.8543362\tbest: 0.8732828 (0)\ttotal: 1m 6s\tremaining: 6m 14s\n",
            "\n",
            "bestTest = 0.8726092896\n",
            "bestIteration = 36\n",
            "\n",
            "Metric AUC is not calculated on train by default. To calculate this metric on train, add hints=skip_train~false to metric parameters.\n",
            "27:\tloss: 0.8726093\tbest: 0.8732828 (0)\ttotal: 1m 8s\tremaining: 6m 10s\n",
            "\n",
            "bestTest = 0.8701827544\n",
            "bestIteration = 14\n",
            "\n",
            "Metric AUC is not calculated on train by default. To calculate this metric on train, add hints=skip_train~false to metric parameters.\n",
            "28:\tloss: 0.8701828\tbest: 0.8732828 (0)\ttotal: 1m 10s\tremaining: 6m 6s\n",
            "\n",
            "bestTest = 0.8704789063\n",
            "bestIteration = 10\n",
            "\n",
            "Metric AUC is not calculated on train by default. To calculate this metric on train, add hints=skip_train~false to metric parameters.\n",
            "29:\tloss: 0.8704789\tbest: 0.8732828 (0)\ttotal: 1m 12s\tremaining: 6m 2s\n",
            "\n",
            "bestTest = 0.8660724521\n",
            "bestIteration = 7\n",
            "\n",
            "Metric AUC is not calculated on train by default. To calculate this metric on train, add hints=skip_train~false to metric parameters.\n",
            "30:\tloss: 0.8660725\tbest: 0.8732828 (0)\ttotal: 1m 15s\tremaining: 6m 2s\n",
            "\n",
            "bestTest = 0.8637916046\n",
            "bestIteration = 8\n",
            "\n",
            "Metric AUC is not calculated on train by default. To calculate this metric on train, add hints=skip_train~false to metric parameters.\n",
            "31:\tloss: 0.8637916\tbest: 0.8732828 (0)\ttotal: 1m 17s\tremaining: 6m\n",
            "\n",
            "bestTest = 0.8620552944\n",
            "bestIteration = 18\n",
            "\n",
            "Metric AUC is not calculated on train by default. To calculate this metric on train, add hints=skip_train~false to metric parameters.\n",
            "32:\tloss: 0.8620553\tbest: 0.8732828 (0)\ttotal: 1m 20s\tremaining: 5m 56s\n",
            "\n",
            "bestTest = 0.8621985938\n",
            "bestIteration = 8\n",
            "\n",
            "Metric AUC is not calculated on train by default. To calculate this metric on train, add hints=skip_train~false to metric parameters.\n",
            "33:\tloss: 0.8621986\tbest: 0.8732828 (0)\ttotal: 1m 22s\tremaining: 5m 53s\n",
            "\n",
            "bestTest = 0.8547541939\n",
            "bestIteration = 4\n",
            "\n",
            "Metric AUC is not calculated on train by default. To calculate this metric on train, add hints=skip_train~false to metric parameters.\n",
            "34:\tloss: 0.8547542\tbest: 0.8732828 (0)\ttotal: 1m 24s\tremaining: 5m 49s\n",
            "\n",
            "bestTest = 0.85522947\n",
            "bestIteration = 11\n",
            "\n",
            "Metric AUC is not calculated on train by default. To calculate this metric on train, add hints=skip_train~false to metric parameters.\n",
            "35:\tloss: 0.8552295\tbest: 0.8732828 (0)\ttotal: 1m 26s\tremaining: 5m 47s\n",
            "\n",
            "bestTest = 0.8705816042\n",
            "bestIteration = 23\n",
            "\n",
            "Metric AUC is not calculated on train by default. To calculate this metric on train, add hints=skip_train~false to metric parameters.\n",
            "36:\tloss: 0.8705816\tbest: 0.8732828 (0)\ttotal: 1m 29s\tremaining: 5m 47s\n",
            "\n",
            "bestTest = 0.8708896977\n",
            "bestIteration = 15\n",
            "\n",
            "Metric AUC is not calculated on train by default. To calculate this metric on train, add hints=skip_train~false to metric parameters.\n",
            "37:\tloss: 0.8708897\tbest: 0.8732828 (0)\ttotal: 1m 32s\tremaining: 5m 43s\n",
            "\n",
            "bestTest = 0.8693707249\n",
            "bestIteration = 8\n",
            "\n",
            "Metric AUC is not calculated on train by default. To calculate this metric on train, add hints=skip_train~false to metric parameters.\n",
            "38:\tloss: 0.8693707\tbest: 0.8732828 (0)\ttotal: 1m 34s\tremaining: 5m 40s\n",
            "\n",
            "bestTest = 0.8670373343\n",
            "bestIteration = 44\n",
            "\n",
            "Metric AUC is not calculated on train by default. To calculate this metric on train, add hints=skip_train~false to metric parameters.\n",
            "39:\tloss: 0.8670373\tbest: 0.8732828 (0)\ttotal: 1m 36s\tremaining: 5m 37s\n",
            "\n",
            "bestTest = 0.8656306126\n",
            "bestIteration = 10\n",
            "\n",
            "Metric AUC is not calculated on train by default. To calculate this metric on train, add hints=skip_train~false to metric parameters.\n",
            "40:\tloss: 0.8656306\tbest: 0.8732828 (0)\ttotal: 1m 38s\tremaining: 5m 34s\n",
            "\n",
            "bestTest = 0.8625019107\n",
            "bestIteration = 21\n",
            "\n",
            "Metric AUC is not calculated on train by default. To calculate this metric on train, add hints=skip_train~false to metric parameters.\n",
            "41:\tloss: 0.8625019\tbest: 0.8732828 (0)\ttotal: 1m 42s\tremaining: 5m 37s\n",
            "\n",
            "bestTest = 0.8587880699\n",
            "bestIteration = 5\n",
            "\n",
            "Metric AUC is not calculated on train by default. To calculate this metric on train, add hints=skip_train~false to metric parameters.\n",
            "42:\tloss: 0.8587881\tbest: 0.8732828 (0)\ttotal: 1m 44s\tremaining: 5m 33s\n",
            "\n",
            "bestTest = 0.8644651114\n",
            "bestIteration = 5\n",
            "\n",
            "Metric AUC is not calculated on train by default. To calculate this metric on train, add hints=skip_train~false to metric parameters.\n",
            "43:\tloss: 0.8644651\tbest: 0.8732828 (0)\ttotal: 1m 46s\tremaining: 5m 30s\n",
            "\n",
            "bestTest = 0.8510570713\n",
            "bestIteration = 3\n",
            "\n",
            "Metric AUC is not calculated on train by default. To calculate this metric on train, add hints=skip_train~false to metric parameters.\n",
            "44:\tloss: 0.8510571\tbest: 0.8732828 (0)\ttotal: 1m 49s\tremaining: 5m 27s\n",
            "\n",
            "bestTest = 0.8715393213\n",
            "bestIteration = 30\n",
            "\n",
            "Metric AUC is not calculated on train by default. To calculate this metric on train, add hints=skip_train~false to metric parameters.\n",
            "45:\tloss: 0.8715393\tbest: 0.8732828 (0)\ttotal: 1m 51s\tremaining: 5m 23s\n",
            "\n",
            "bestTest = 0.8710067255\n",
            "bestIteration = 24\n",
            "\n",
            "Metric AUC is not calculated on train by default. To calculate this metric on train, add hints=skip_train~false to metric parameters.\n",
            "46:\tloss: 0.8710067\tbest: 0.8732828 (0)\ttotal: 1m 53s\tremaining: 5m 22s\n",
            "\n",
            "bestTest = 0.8688811189\n",
            "bestIteration = 8\n",
            "\n",
            "Metric AUC is not calculated on train by default. To calculate this metric on train, add hints=skip_train~false to metric parameters.\n",
            "47:\tloss: 0.8688811\tbest: 0.8732828 (0)\ttotal: 1m 56s\tremaining: 5m 20s\n",
            "\n",
            "bestTest = 0.8690817379\n",
            "bestIteration = 14\n",
            "\n",
            "Metric AUC is not calculated on train by default. To calculate this metric on train, add hints=skip_train~false to metric parameters.\n",
            "48:\tloss: 0.8690817\tbest: 0.8732828 (0)\ttotal: 1m 58s\tremaining: 5m 16s\n",
            "\n",
            "bestTest = 0.8664307004\n",
            "bestIteration = 6\n",
            "\n",
            "Metric AUC is not calculated on train by default. To calculate this metric on train, add hints=skip_train~false to metric parameters.\n",
            "49:\tloss: 0.8664307\tbest: 0.8732828 (0)\ttotal: 2m\tremaining: 5m 13s\n",
            "\n",
            "bestTest = 0.866234858\n",
            "bestIteration = 14\n",
            "\n",
            "Metric AUC is not calculated on train by default. To calculate this metric on train, add hints=skip_train~false to metric parameters.\n",
            "50:\tloss: 0.8662349\tbest: 0.8732828 (0)\ttotal: 2m 2s\tremaining: 5m 10s\n",
            "\n",
            "bestTest = 0.8630798846\n",
            "bestIteration = 8\n",
            "\n",
            "Metric AUC is not calculated on train by default. To calculate this metric on train, add hints=skip_train~false to metric parameters.\n",
            "51:\tloss: 0.8630799\tbest: 0.8732828 (0)\ttotal: 2m 4s\tremaining: 5m 7s\n",
            "\n",
            "bestTest = 0.8554993504\n",
            "bestIteration = 7\n",
            "\n",
            "Metric AUC is not calculated on train by default. To calculate this metric on train, add hints=skip_train~false to metric parameters.\n",
            "52:\tloss: 0.8554994\tbest: 0.8732828 (0)\ttotal: 2m 8s\tremaining: 5m 7s\n",
            "\n",
            "bestTest = 0.863141981\n",
            "bestIteration = 5\n",
            "\n",
            "Metric AUC is not calculated on train by default. To calculate this metric on train, add hints=skip_train~false to metric parameters.\n",
            "53:\tloss: 0.8631420\tbest: 0.8732828 (0)\ttotal: 2m 10s\tremaining: 5m 4s\n",
            "\n",
            "bestTest = 0.8701421529\n",
            "bestIteration = 17\n",
            "\n",
            "Metric AUC is not calculated on train by default. To calculate this metric on train, add hints=skip_train~false to metric parameters.\n",
            "54:\tloss: 0.8701422\tbest: 0.8732828 (0)\ttotal: 2m 13s\tremaining: 5m 3s\n",
            "\n",
            "bestTest = 0.8697433031\n",
            "bestIteration = 13\n",
            "\n",
            "Metric AUC is not calculated on train by default. To calculate this metric on train, add hints=skip_train~false to metric parameters.\n",
            "55:\tloss: 0.8697433\tbest: 0.8732828 (0)\ttotal: 2m 16s\tremaining: 5m 3s\n",
            "\n",
            "bestTest = 0.8667268524\n",
            "bestIteration = 14\n",
            "\n",
            "Metric AUC is not calculated on train by default. To calculate this metric on train, add hints=skip_train~false to metric parameters.\n",
            "56:\tloss: 0.8667269\tbest: 0.8732828 (0)\ttotal: 2m 22s\tremaining: 5m 7s\n",
            "\n",
            "bestTest = 0.8679496733\n",
            "bestIteration = 5\n",
            "\n",
            "Metric AUC is not calculated on train by default. To calculate this metric on train, add hints=skip_train~false to metric parameters.\n",
            "57:\tloss: 0.8679497\tbest: 0.8732828 (0)\ttotal: 2m 26s\tremaining: 5m 7s\n",
            "\n",
            "bestTest = 0.8660891704\n",
            "bestIteration = 12\n",
            "\n",
            "Metric AUC is not calculated on train by default. To calculate this metric on train, add hints=skip_train~false to metric parameters.\n",
            "58:\tloss: 0.8660892\tbest: 0.8732828 (0)\ttotal: 2m 29s\tremaining: 5m 6s\n",
            "\n",
            "bestTest = 0.8553417211\n",
            "bestIteration = 7\n",
            "\n",
            "Metric AUC is not calculated on train by default. To calculate this metric on train, add hints=skip_train~false to metric parameters.\n",
            "59:\tloss: 0.8553417\tbest: 0.8732828 (0)\ttotal: 2m 33s\tremaining: 5m 7s\n",
            "\n",
            "bestTest = 0.8551267721\n",
            "bestIteration = 6\n",
            "\n",
            "Metric AUC is not calculated on train by default. To calculate this metric on train, add hints=skip_train~false to metric parameters.\n",
            "60:\tloss: 0.8551268\tbest: 0.8732828 (0)\ttotal: 2m 37s\tremaining: 5m 7s\n",
            "\n",
            "bestTest = 0.8531349115\n",
            "bestIteration = 8\n",
            "\n",
            "Metric AUC is not calculated on train by default. To calculate this metric on train, add hints=skip_train~false to metric parameters.\n",
            "61:\tloss: 0.8531349\tbest: 0.8732828 (0)\ttotal: 2m 41s\tremaining: 5m 7s\n",
            "\n",
            "bestTest = 0.8542932477\n",
            "bestIteration = 3\n",
            "\n",
            "Metric AUC is not calculated on train by default. To calculate this metric on train, add hints=skip_train~false to metric parameters.\n",
            "62:\tloss: 0.8542932\tbest: 0.8732828 (0)\ttotal: 2m 45s\tremaining: 5m 7s\n",
            "\n",
            "bestTest = 0.8699773587\n",
            "bestIteration = 21\n",
            "\n",
            "Metric AUC is not calculated on train by default. To calculate this metric on train, add hints=skip_train~false to metric parameters.\n",
            "63:\tloss: 0.8699774\tbest: 0.8732828 (0)\ttotal: 2m 49s\tremaining: 5m 7s\n",
            "\n",
            "bestTest = 0.8638990791\n",
            "bestIteration = 13\n",
            "\n",
            "Metric AUC is not calculated on train by default. To calculate this metric on train, add hints=skip_train~false to metric parameters.\n",
            "64:\tloss: 0.8638991\tbest: 0.8732828 (0)\ttotal: 2m 53s\tremaining: 5m 6s\n",
            "\n",
            "bestTest = 0.8668032787\n",
            "bestIteration = 13\n",
            "\n",
            "Metric AUC is not calculated on train by default. To calculate this metric on train, add hints=skip_train~false to metric parameters.\n",
            "65:\tloss: 0.8668033\tbest: 0.8732828 (0)\ttotal: 2m 56s\tremaining: 5m 4s\n",
            "\n",
            "bestTest = 0.8671973518\n",
            "bestIteration = 5\n",
            "\n",
            "Metric AUC is not calculated on train by default. To calculate this metric on train, add hints=skip_train~false to metric parameters.\n",
            "66:\tloss: 0.8671974\tbest: 0.8732828 (0)\ttotal: 3m 1s\tremaining: 5m 5s\n",
            "\n",
            "bestTest = 0.8624875807\n",
            "bestIteration = 8\n",
            "\n",
            "Metric AUC is not calculated on train by default. To calculate this metric on train, add hints=skip_train~false to metric parameters.\n",
            "67:\tloss: 0.8624876\tbest: 0.8732828 (0)\ttotal: 3m 4s\tremaining: 5m 3s\n",
            "\n",
            "bestTest = 0.8556259314\n",
            "bestIteration = 7\n",
            "\n",
            "Metric AUC is not calculated on train by default. To calculate this metric on train, add hints=skip_train~false to metric parameters.\n",
            "68:\tloss: 0.8556259\tbest: 0.8732828 (0)\ttotal: 3m 7s\tremaining: 5m 2s\n",
            "\n",
            "bestTest = 0.8549691429\n",
            "bestIteration = 3\n",
            "\n",
            "Metric AUC is not calculated on train by default. To calculate this metric on train, add hints=skip_train~false to metric parameters.\n",
            "69:\tloss: 0.8549691\tbest: 0.8732828 (0)\ttotal: 3m 11s\tremaining: 5m 1s\n",
            "\n",
            "bestTest = 0.8539636593\n",
            "bestIteration = 6\n",
            "\n",
            "Metric AUC is not calculated on train by default. To calculate this metric on train, add hints=skip_train~false to metric parameters.\n",
            "70:\tloss: 0.8539637\tbest: 0.8732828 (0)\ttotal: 3m 15s\tremaining: 5m\n",
            "\n",
            "bestTest = 0.8550192976\n",
            "bestIteration = 4\n",
            "\n",
            "Metric AUC is not calculated on train by default. To calculate this metric on train, add hints=skip_train~false to metric parameters.\n",
            "71:\tloss: 0.8550193\tbest: 0.8732828 (0)\ttotal: 3m 19s\tremaining: 4m 58s\n",
            "\n",
            "bestTest = 0.870328442\n",
            "bestIteration = 50\n",
            "\n",
            "Metric AUC is not calculated on train by default. To calculate this metric on train, add hints=skip_train~false to metric parameters.\n",
            "72:\tloss: 0.8703284\tbest: 0.8732828 (0)\ttotal: 3m 22s\tremaining: 4m 56s\n",
            "\n",
            "bestTest = 0.8692775803\n",
            "bestIteration = 20\n",
            "\n",
            "Metric AUC is not calculated on train by default. To calculate this metric on train, add hints=skip_train~false to metric parameters.\n",
            "73:\tloss: 0.8692776\tbest: 0.8732828 (0)\ttotal: 3m 26s\tremaining: 4m 56s\n",
            "\n",
            "bestTest = 0.8681168558\n",
            "bestIteration = 8\n",
            "\n",
            "Metric AUC is not calculated on train by default. To calculate this metric on train, add hints=skip_train~false to metric parameters.\n",
            "74:\tloss: 0.8681169\tbest: 0.8732828 (0)\ttotal: 3m 30s\tremaining: 4m 54s\n",
            "\n",
            "bestTest = 0.8677896557\n",
            "bestIteration = 8\n",
            "\n",
            "Metric AUC is not calculated on train by default. To calculate this metric on train, add hints=skip_train~false to metric parameters.\n",
            "75:\tloss: 0.8677897\tbest: 0.8732828 (0)\ttotal: 3m 33s\tremaining: 4m 52s\n",
            "\n",
            "bestTest = 0.862497134\n",
            "bestIteration = 9\n",
            "\n",
            "Metric AUC is not calculated on train by default. To calculate this metric on train, add hints=skip_train~false to metric parameters.\n",
            "76:\tloss: 0.8624971\tbest: 0.8732828 (0)\ttotal: 3m 37s\tremaining: 4m 50s\n",
            "\n",
            "bestTest = 0.8599153579\n",
            "bestIteration = 23\n",
            "\n",
            "Metric AUC is not calculated on train by default. To calculate this metric on train, add hints=skip_train~false to metric parameters.\n",
            "77:\tloss: 0.8599154\tbest: 0.8732828 (0)\ttotal: 3m 41s\tremaining: 4m 49s\n",
            "\n",
            "bestTest = 0.855370381\n",
            "bestIteration = 3\n",
            "\n",
            "Metric AUC is not calculated on train by default. To calculate this metric on train, add hints=skip_train~false to metric parameters.\n",
            "78:\tloss: 0.8553704\tbest: 0.8732828 (0)\ttotal: 3m 44s\tremaining: 4m 47s\n",
            "\n",
            "bestTest = 0.8566338034\n",
            "bestIteration = 5\n",
            "\n",
            "Metric AUC is not calculated on train by default. To calculate this metric on train, add hints=skip_train~false to metric parameters.\n",
            "79:\tloss: 0.8566338\tbest: 0.8732828 (0)\ttotal: 3m 48s\tremaining: 4m 45s\n",
            "\n",
            "bestTest = 0.8555542818\n",
            "bestIteration = 4\n",
            "\n",
            "Metric AUC is not calculated on train by default. To calculate this metric on train, add hints=skip_train~false to metric parameters.\n",
            "80:\tloss: 0.8555543\tbest: 0.8732828 (0)\ttotal: 3m 52s\tremaining: 4m 44s\n",
            "\n",
            "bestTest = 0.8711906263\n",
            "bestIteration = 28\n",
            "\n",
            "Metric AUC is not calculated on train by default. To calculate this metric on train, add hints=skip_train~false to metric parameters.\n",
            "81:\tloss: 0.8711906\tbest: 0.8732828 (0)\ttotal: 3m 55s\tremaining: 4m 42s\n",
            "\n",
            "bestTest = 0.869638217\n",
            "bestIteration = 8\n",
            "\n",
            "Metric AUC is not calculated on train by default. To calculate this metric on train, add hints=skip_train~false to metric parameters.\n",
            "82:\tloss: 0.8696382\tbest: 0.8732828 (0)\ttotal: 3m 59s\tremaining: 4m 39s\n",
            "\n",
            "bestTest = 0.8684153961\n",
            "bestIteration = 12\n",
            "\n",
            "Metric AUC is not calculated on train by default. To calculate this metric on train, add hints=skip_train~false to metric parameters.\n",
            "83:\tloss: 0.8684154\tbest: 0.8732828 (0)\ttotal: 4m 3s\tremaining: 4m 37s\n",
            "\n",
            "bestTest = 0.870194696\n",
            "bestIteration = 6\n",
            "\n",
            "Metric AUC is not calculated on train by default. To calculate this metric on train, add hints=skip_train~false to metric parameters.\n",
            "84:\tloss: 0.8701947\tbest: 0.8732828 (0)\ttotal: 4m 7s\tremaining: 4m 36s\n",
            "\n",
            "bestTest = 0.8622200887\n",
            "bestIteration = 14\n",
            "\n",
            "Metric AUC is not calculated on train by default. To calculate this metric on train, add hints=skip_train~false to metric parameters.\n",
            "85:\tloss: 0.8622201\tbest: 0.8732828 (0)\ttotal: 4m 10s\tremaining: 4m 33s\n",
            "\n",
            "bestTest = 0.8641904544\n",
            "bestIteration = 12\n",
            "\n",
            "Metric AUC is not calculated on train by default. To calculate this metric on train, add hints=skip_train~false to metric parameters.\n",
            "86:\tloss: 0.8641905\tbest: 0.8732828 (0)\ttotal: 4m 13s\tremaining: 4m 31s\n",
            "\n",
            "bestTest = 0.8552987313\n",
            "bestIteration = 3\n",
            "\n",
            "Metric AUC is not calculated on train by default. To calculate this metric on train, add hints=skip_train~false to metric parameters.\n",
            "87:\tloss: 0.8552987\tbest: 0.8732828 (0)\ttotal: 4m 18s\tremaining: 4m 30s\n",
            "\n",
            "bestTest = 0.8564140777\n",
            "bestIteration = 5\n",
            "\n",
            "Metric AUC is not calculated on train by default. To calculate this metric on train, add hints=skip_train~false to metric parameters.\n",
            "88:\tloss: 0.8564141\tbest: 0.8732828 (0)\ttotal: 4m 21s\tremaining: 4m 27s\n",
            "\n",
            "bestTest = 0.8572595437\n",
            "bestIteration = 3\n",
            "\n",
            "Metric AUC is not calculated on train by default. To calculate this metric on train, add hints=skip_train~false to metric parameters.\n",
            "89:\tloss: 0.8572595\tbest: 0.8732828 (0)\ttotal: 4m 25s\tremaining: 4m 25s\n",
            "\n",
            "bestTest = 0.871536933\n",
            "bestIteration = 30\n",
            "\n",
            "Metric AUC is not calculated on train by default. To calculate this metric on train, add hints=skip_train~false to metric parameters.\n",
            "90:\tloss: 0.8715369\tbest: 0.8732828 (0)\ttotal: 4m 28s\tremaining: 4m 22s\n",
            "\n",
            "bestTest = 0.8682649318\n",
            "bestIteration = 29\n",
            "\n",
            "Metric AUC is not calculated on train by default. To calculate this metric on train, add hints=skip_train~false to metric parameters.\n",
            "91:\tloss: 0.8682649\tbest: 0.8732828 (0)\ttotal: 4m 32s\tremaining: 4m 20s\n",
            "\n",
            "bestTest = 0.8677705491\n",
            "bestIteration = 15\n",
            "\n",
            "Metric AUC is not calculated on train by default. To calculate this metric on train, add hints=skip_train~false to metric parameters.\n",
            "92:\tloss: 0.8677705\tbest: 0.8732828 (0)\ttotal: 4m 35s\tremaining: 4m 17s\n",
            "\n",
            "bestTest = 0.8654658183\n",
            "bestIteration = 7\n",
            "\n",
            "Metric AUC is not calculated on train by default. To calculate this metric on train, add hints=skip_train~false to metric parameters.\n",
            "93:\tloss: 0.8654658\tbest: 0.8732828 (0)\ttotal: 4m 38s\tremaining: 4m 14s\n",
            "\n",
            "bestTest = 0.8642931522\n",
            "bestIteration = 4\n",
            "\n",
            "Metric AUC is not calculated on train by default. To calculate this metric on train, add hints=skip_train~false to metric parameters.\n",
            "94:\tloss: 0.8642932\tbest: 0.8732828 (0)\ttotal: 4m 43s\tremaining: 4m 13s\n",
            "\n",
            "bestTest = 0.8594568\n",
            "bestIteration = 6\n",
            "\n",
            "Metric AUC is not calculated on train by default. To calculate this metric on train, add hints=skip_train~false to metric parameters.\n",
            "95:\tloss: 0.8594568\tbest: 0.8732828 (0)\ttotal: 4m 46s\tremaining: 4m 10s\n",
            "\n",
            "bestTest = 0.8602759945\n",
            "bestIteration = 3\n",
            "\n",
            "Metric AUC is not calculated on train by default. To calculate this metric on train, add hints=skip_train~false to metric parameters.\n",
            "96:\tloss: 0.8602760\tbest: 0.8732828 (0)\ttotal: 4m 49s\tremaining: 4m 8s\n",
            "\n",
            "bestTest = 0.8497052811\n",
            "bestIteration = 5\n",
            "\n",
            "Metric AUC is not calculated on train by default. To calculate this metric on train, add hints=skip_train~false to metric parameters.\n",
            "97:\tloss: 0.8497053\tbest: 0.8732828 (0)\ttotal: 4m 53s\tremaining: 4m 5s\n",
            "\n",
            "bestTest = 0.8600658222\n",
            "bestIteration = 4\n",
            "\n",
            "Metric AUC is not calculated on train by default. To calculate this metric on train, add hints=skip_train~false to metric parameters.\n",
            "98:\tloss: 0.8600658\tbest: 0.8732828 (0)\ttotal: 4m 57s\tremaining: 4m 3s\n",
            "\n",
            "bestTest = 0.8731657687\n",
            "bestIteration = 33\n",
            "\n",
            "Metric AUC is not calculated on train by default. To calculate this metric on train, add hints=skip_train~false to metric parameters.\n",
            "99:\tloss: 0.8731658\tbest: 0.8732828 (0)\ttotal: 5m\tremaining: 4m\n",
            "\n",
            "bestTest = 0.8700442317\n",
            "bestIteration = 23\n",
            "\n",
            "Metric AUC is not calculated on train by default. To calculate this metric on train, add hints=skip_train~false to metric parameters.\n",
            "100:\tloss: 0.8700442\tbest: 0.8732828 (0)\ttotal: 5m 3s\tremaining: 3m 57s\n",
            "\n",
            "bestTest = 0.8674696205\n",
            "bestIteration = 13\n",
            "\n",
            "Metric AUC is not calculated on train by default. To calculate this metric on train, add hints=skip_train~false to metric parameters.\n",
            "101:\tloss: 0.8674696\tbest: 0.8732828 (0)\ttotal: 5m 7s\tremaining: 3m 55s\n",
            "\n",
            "bestTest = 0.8658145134\n",
            "bestIteration = 9\n",
            "\n",
            "Metric AUC is not calculated on train by default. To calculate this metric on train, add hints=skip_train~false to metric parameters.\n",
            "102:\tloss: 0.8658145\tbest: 0.8732828 (0)\ttotal: 5m 11s\tremaining: 3m 52s\n",
            "\n",
            "bestTest = 0.8645415377\n",
            "bestIteration = 11\n",
            "\n",
            "Metric AUC is not calculated on train by default. To calculate this metric on train, add hints=skip_train~false to metric parameters.\n",
            "103:\tloss: 0.8645415\tbest: 0.8732828 (0)\ttotal: 5m 14s\tremaining: 3m 49s\n",
            "\n",
            "bestTest = 0.8599798426\n",
            "bestIteration = 43\n",
            "\n",
            "Metric AUC is not calculated on train by default. To calculate this metric on train, add hints=skip_train~false to metric parameters.\n",
            "104:\tloss: 0.8599798\tbest: 0.8732828 (0)\ttotal: 5m 17s\tremaining: 3m 47s\n",
            "\n",
            "bestTest = 0.8628362757\n",
            "bestIteration = 4\n",
            "\n",
            "Metric AUC is not calculated on train by default. To calculate this metric on train, add hints=skip_train~false to metric parameters.\n",
            "105:\tloss: 0.8628363\tbest: 0.8732828 (0)\ttotal: 5m 22s\tremaining: 3m 45s\n",
            "\n",
            "bestTest = 0.8530560969\n",
            "bestIteration = 14\n",
            "\n",
            "Metric AUC is not calculated on train by default. To calculate this metric on train, add hints=skip_train~false to metric parameters.\n",
            "106:\tloss: 0.8530561\tbest: 0.8732828 (0)\ttotal: 5m 25s\tremaining: 3m 42s\n",
            "\n",
            "bestTest = 0.8578136345\n",
            "bestIteration = 2\n",
            "\n",
            "Metric AUC is not calculated on train by default. To calculate this metric on train, add hints=skip_train~false to metric parameters.\n",
            "107:\tloss: 0.8578136\tbest: 0.8732828 (0)\ttotal: 5m 29s\tremaining: 3m 39s\n",
            "\n",
            "bestTest = 0.86899337\n",
            "bestIteration = 15\n",
            "\n",
            "Metric AUC is not calculated on train by default. To calculate this metric on train, add hints=skip_train~false to metric parameters.\n",
            "108:\tloss: 0.8689934\tbest: 0.8732828 (0)\ttotal: 5m 40s\tremaining: 3m 42s\n",
            "\n",
            "bestTest = 0.862000363\n",
            "bestIteration = 3\n",
            "\n",
            "Metric AUC is not calculated on train by default. To calculate this metric on train, add hints=skip_train~false to metric parameters.\n",
            "109:\tloss: 0.8620004\tbest: 0.8732828 (0)\ttotal: 5m 53s\tremaining: 3m 45s\n",
            "\n",
            "bestTest = 0.856913237\n",
            "bestIteration = 3\n",
            "\n",
            "Metric AUC is not calculated on train by default. To calculate this metric on train, add hints=skip_train~false to metric parameters.\n",
            "110:\tloss: 0.8569132\tbest: 0.8732828 (0)\ttotal: 6m 6s\tremaining: 3m 47s\n",
            "\n",
            "bestTest = 0.8466888303\n",
            "bestIteration = 4\n",
            "\n",
            "Metric AUC is not calculated on train by default. To calculate this metric on train, add hints=skip_train~false to metric parameters.\n",
            "111:\tloss: 0.8466888\tbest: 0.8732828 (0)\ttotal: 6m 19s\tremaining: 3m 50s\n",
            "\n",
            "bestTest = 0.8428842333\n",
            "bestIteration = 8\n",
            "\n",
            "Metric AUC is not calculated on train by default. To calculate this metric on train, add hints=skip_train~false to metric parameters.\n",
            "112:\tloss: 0.8428842\tbest: 0.8732828 (0)\ttotal: 6m 32s\tremaining: 3m 52s\n",
            "\n",
            "bestTest = 0.8447901143\n",
            "bestIteration = 1\n",
            "\n",
            "Metric AUC is not calculated on train by default. To calculate this metric on train, add hints=skip_train~false to metric parameters.\n",
            "113:\tloss: 0.8447901\tbest: 0.8732828 (0)\ttotal: 6m 45s\tremaining: 3m 54s\n",
            "\n",
            "bestTest = 0.8523491536\n",
            "bestIteration = 1\n",
            "\n",
            "Metric AUC is not calculated on train by default. To calculate this metric on train, add hints=skip_train~false to metric parameters.\n",
            "114:\tloss: 0.8523492\tbest: 0.8732828 (0)\ttotal: 6m 57s\tremaining: 3m 56s\n",
            "\n",
            "bestTest = 0.8509185487\n",
            "bestIteration = 1\n",
            "\n",
            "Metric AUC is not calculated on train by default. To calculate this metric on train, add hints=skip_train~false to metric parameters.\n",
            "115:\tloss: 0.8509185\tbest: 0.8732828 (0)\ttotal: 7m 10s\tremaining: 3m 57s\n",
            "\n",
            "bestTest = 0.8423277542\n",
            "bestIteration = 1\n",
            "\n",
            "Metric AUC is not calculated on train by default. To calculate this metric on train, add hints=skip_train~false to metric parameters.\n",
            "116:\tloss: 0.8423278\tbest: 0.8732828 (0)\ttotal: 7m 23s\tremaining: 3m 58s\n",
            "\n",
            "bestTest = 0.865389392\n",
            "bestIteration = 13\n",
            "\n",
            "Metric AUC is not calculated on train by default. To calculate this metric on train, add hints=skip_train~false to metric parameters.\n",
            "117:\tloss: 0.8653894\tbest: 0.8732828 (0)\ttotal: 7m 37s\tremaining: 4m\n",
            "\n",
            "bestTest = 0.8662826245\n",
            "bestIteration = 4\n",
            "\n",
            "Metric AUC is not calculated on train by default. To calculate this metric on train, add hints=skip_train~false to metric parameters.\n",
            "118:\tloss: 0.8662826\tbest: 0.8732828 (0)\ttotal: 7m 49s\tremaining: 4m\n",
            "\n",
            "bestTest = 0.8628816539\n",
            "bestIteration = 5\n",
            "\n",
            "Metric AUC is not calculated on train by default. To calculate this metric on train, add hints=skip_train~false to metric parameters.\n",
            "119:\tloss: 0.8628817\tbest: 0.8732828 (0)\ttotal: 8m 2s\tremaining: 4m 1s\n",
            "\n",
            "bestTest = 0.8551100539\n",
            "bestIteration = 12\n",
            "\n",
            "Metric AUC is not calculated on train by default. To calculate this metric on train, add hints=skip_train~false to metric parameters.\n",
            "120:\tloss: 0.8551101\tbest: 0.8732828 (0)\ttotal: 8m 15s\tremaining: 4m 1s\n",
            "\n",
            "bestTest = 0.8436007299\n",
            "bestIteration = 2\n",
            "\n",
            "Metric AUC is not calculated on train by default. To calculate this metric on train, add hints=skip_train~false to metric parameters.\n",
            "121:\tloss: 0.8436007\tbest: 0.8732828 (0)\ttotal: 8m 28s\tremaining: 4m 1s\n",
            "\n",
            "bestTest = 0.8548879399\n",
            "bestIteration = 2\n",
            "\n",
            "Metric AUC is not calculated on train by default. To calculate this metric on train, add hints=skip_train~false to metric parameters.\n",
            "122:\tloss: 0.8548879\tbest: 0.8732828 (0)\ttotal: 8m 41s\tremaining: 4m 1s\n",
            "\n",
            "bestTest = 0.852544996\n",
            "bestIteration = 1\n",
            "\n",
            "Metric AUC is not calculated on train by default. To calculate this metric on train, add hints=skip_train~false to metric parameters.\n",
            "123:\tloss: 0.8525450\tbest: 0.8732828 (0)\ttotal: 8m 54s\tremaining: 4m 1s\n",
            "\n",
            "bestTest = 0.8511764874\n",
            "bestIteration = 1\n",
            "\n",
            "Metric AUC is not calculated on train by default. To calculate this metric on train, add hints=skip_train~false to metric parameters.\n",
            "124:\tloss: 0.8511765\tbest: 0.8732828 (0)\ttotal: 9m 7s\tremaining: 4m\n",
            "\n",
            "bestTest = 0.8394952042\n",
            "bestIteration = 2\n",
            "\n",
            "Metric AUC is not calculated on train by default. To calculate this metric on train, add hints=skip_train~false to metric parameters.\n",
            "125:\tloss: 0.8394952\tbest: 0.8732828 (0)\ttotal: 9m 19s\tremaining: 3m 59s\n",
            "\n",
            "bestTest = 0.8635742673\n",
            "bestIteration = 9\n",
            "\n",
            "Metric AUC is not calculated on train by default. To calculate this metric on train, add hints=skip_train~false to metric parameters.\n",
            "126:\tloss: 0.8635743\tbest: 0.8732828 (0)\ttotal: 9m 31s\tremaining: 3m 58s\n",
            "\n",
            "bestTest = 0.8660820054\n",
            "bestIteration = 4\n",
            "\n",
            "Metric AUC is not calculated on train by default. To calculate this metric on train, add hints=skip_train~false to metric parameters.\n",
            "127:\tloss: 0.8660820\tbest: 0.8732828 (0)\ttotal: 9m 44s\tremaining: 3m 57s\n",
            "\n",
            "bestTest = 0.8639325156\n",
            "bestIteration = 6\n",
            "\n",
            "Metric AUC is not calculated on train by default. To calculate this metric on train, add hints=skip_train~false to metric parameters.\n",
            "128:\tloss: 0.8639325\tbest: 0.8732828 (0)\ttotal: 9m 57s\tremaining: 3m 56s\n",
            "\n",
            "bestTest = 0.8579043907\n",
            "bestIteration = 8\n",
            "\n",
            "Metric AUC is not calculated on train by default. To calculate this metric on train, add hints=skip_train~false to metric parameters.\n",
            "129:\tloss: 0.8579044\tbest: 0.8732828 (0)\ttotal: 10m 9s\tremaining: 3m 54s\n",
            "\n",
            "bestTest = 0.8513794948\n",
            "bestIteration = 5\n",
            "\n",
            "Metric AUC is not calculated on train by default. To calculate this metric on train, add hints=skip_train~false to metric parameters.\n",
            "130:\tloss: 0.8513795\tbest: 0.8732828 (0)\ttotal: 10m 22s\tremaining: 3m 52s\n",
            "\n",
            "bestTest = 0.8553536627\n",
            "bestIteration = 3\n",
            "\n",
            "Metric AUC is not calculated on train by default. To calculate this metric on train, add hints=skip_train~false to metric parameters.\n",
            "131:\tloss: 0.8553537\tbest: 0.8732828 (0)\ttotal: 10m 35s\tremaining: 3m 51s\n",
            "\n",
            "bestTest = 0.8548425618\n",
            "bestIteration = 3\n",
            "\n",
            "Metric AUC is not calculated on train by default. To calculate this metric on train, add hints=skip_train~false to metric parameters.\n",
            "132:\tloss: 0.8548426\tbest: 0.8732828 (0)\ttotal: 10m 48s\tremaining: 3m 49s\n",
            "\n",
            "bestTest = 0.8527050136\n",
            "bestIteration = 2\n",
            "\n",
            "Metric AUC is not calculated on train by default. To calculate this metric on train, add hints=skip_train~false to metric parameters.\n",
            "133:\tloss: 0.8527050\tbest: 0.8732828 (0)\ttotal: 11m 1s\tremaining: 3m 47s\n",
            "\n",
            "bestTest = 0.8436652146\n",
            "bestIteration = 2\n",
            "\n",
            "Metric AUC is not calculated on train by default. To calculate this metric on train, add hints=skip_train~false to metric parameters.\n",
            "134:\tloss: 0.8436652\tbest: 0.8732828 (0)\ttotal: 11m 14s\tremaining: 3m 44s\n",
            "\n",
            "bestTest = 0.8701923077\n",
            "bestIteration = 14\n",
            "\n",
            "Metric AUC is not calculated on train by default. To calculate this metric on train, add hints=skip_train~false to metric parameters.\n",
            "135:\tloss: 0.8701923\tbest: 0.8732828 (0)\ttotal: 11m 26s\tremaining: 3m 41s\n",
            "\n",
            "bestTest = 0.8667292407\n",
            "bestIteration = 10\n",
            "\n",
            "Metric AUC is not calculated on train by default. To calculate this metric on train, add hints=skip_train~false to metric parameters.\n",
            "136:\tloss: 0.8667292\tbest: 0.8732828 (0)\ttotal: 11m 38s\tremaining: 3m 39s\n",
            "\n",
            "bestTest = 0.8618379571\n",
            "bestIteration = 11\n",
            "\n",
            "Metric AUC is not calculated on train by default. To calculate this metric on train, add hints=skip_train~false to metric parameters.\n",
            "137:\tloss: 0.8618380\tbest: 0.8732828 (0)\ttotal: 11m 51s\tremaining: 3m 36s\n",
            "\n",
            "bestTest = 0.8641450762\n",
            "bestIteration = 5\n",
            "\n",
            "Metric AUC is not calculated on train by default. To calculate this metric on train, add hints=skip_train~false to metric parameters.\n",
            "138:\tloss: 0.8641451\tbest: 0.8732828 (0)\ttotal: 12m 4s\tremaining: 3m 33s\n",
            "\n",
            "bestTest = 0.848592323\n",
            "bestIteration = 3\n",
            "\n",
            "Metric AUC is not calculated on train by default. To calculate this metric on train, add hints=skip_train~false to metric parameters.\n",
            "139:\tloss: 0.8485923\tbest: 0.8732828 (0)\ttotal: 12m 18s\tremaining: 3m 31s\n",
            "\n",
            "bestTest = 0.8538155833\n",
            "bestIteration = 1\n",
            "\n",
            "Metric AUC is not calculated on train by default. To calculate this metric on train, add hints=skip_train~false to metric parameters.\n",
            "140:\tloss: 0.8538156\tbest: 0.8732828 (0)\ttotal: 12m 32s\tremaining: 3m 28s\n",
            "\n",
            "bestTest = 0.8523037755\n",
            "bestIteration = 2\n",
            "\n",
            "Metric AUC is not calculated on train by default. To calculate this metric on train, add hints=skip_train~false to metric parameters.\n",
            "141:\tloss: 0.8523038\tbest: 0.8732828 (0)\ttotal: 12m 45s\tremaining: 3m 24s\n",
            "\n",
            "bestTest = 0.8525903741\n",
            "bestIteration = 2\n",
            "\n",
            "Metric AUC is not calculated on train by default. To calculate this metric on train, add hints=skip_train~false to metric parameters.\n",
            "142:\tloss: 0.8525904\tbest: 0.8732828 (0)\ttotal: 12m 58s\tremaining: 3m 21s\n",
            "\n",
            "bestTest = 0.8448163858\n",
            "bestIteration = 3\n",
            "\n",
            "Metric AUC is not calculated on train by default. To calculate this metric on train, add hints=skip_train~false to metric parameters.\n",
            "143:\tloss: 0.8448164\tbest: 0.8732828 (0)\ttotal: 13m 10s\tremaining: 3m 17s\n",
            "\n",
            "bestTest = 0.8692130956\n",
            "bestIteration = 23\n",
            "\n",
            "Metric AUC is not calculated on train by default. To calculate this metric on train, add hints=skip_train~false to metric parameters.\n",
            "144:\tloss: 0.8692131\tbest: 0.8732828 (0)\ttotal: 13m 22s\tremaining: 3m 13s\n",
            "\n",
            "bestTest = 0.8679305667\n",
            "bestIteration = 12\n",
            "\n",
            "Metric AUC is not calculated on train by default. To calculate this metric on train, add hints=skip_train~false to metric parameters.\n",
            "145:\tloss: 0.8679306\tbest: 0.8732828 (0)\ttotal: 13m 35s\tremaining: 3m 9s\n",
            "\n",
            "bestTest = 0.8639181856\n",
            "bestIteration = 6\n",
            "\n",
            "Metric AUC is not calculated on train by default. To calculate this metric on train, add hints=skip_train~false to metric parameters.\n",
            "146:\tloss: 0.8639182\tbest: 0.8732828 (0)\ttotal: 13m 48s\tremaining: 3m 5s\n",
            "\n",
            "bestTest = 0.8573574649\n",
            "bestIteration = 4\n",
            "\n",
            "Metric AUC is not calculated on train by default. To calculate this metric on train, add hints=skip_train~false to metric parameters.\n",
            "147:\tloss: 0.8573575\tbest: 0.8732828 (0)\ttotal: 14m\tremaining: 3m 1s\n",
            "\n",
            "bestTest = 0.8539015629\n",
            "bestIteration = 2\n",
            "\n",
            "Metric AUC is not calculated on train by default. To calculate this metric on train, add hints=skip_train~false to metric parameters.\n",
            "148:\tloss: 0.8539016\tbest: 0.8732828 (0)\ttotal: 14m 14s\tremaining: 2m 57s\n",
            "\n",
            "bestTest = 0.8572499904\n",
            "bestIteration = 2\n",
            "\n",
            "Metric AUC is not calculated on train by default. To calculate this metric on train, add hints=skip_train~false to metric parameters.\n",
            "149:\tloss: 0.8572500\tbest: 0.8732828 (0)\ttotal: 14m 26s\tremaining: 2m 53s\n",
            "\n",
            "bestTest = 0.8538466315\n",
            "bestIteration = 3\n",
            "\n",
            "Metric AUC is not calculated on train by default. To calculate this metric on train, add hints=skip_train~false to metric parameters.\n",
            "150:\tloss: 0.8538466\tbest: 0.8732828 (0)\ttotal: 14m 39s\tremaining: 2m 48s\n",
            "\n",
            "bestTest = 0.8588955443\n",
            "bestIteration = 4\n",
            "\n",
            "Metric AUC is not calculated on train by default. To calculate this metric on train, add hints=skip_train~false to metric parameters.\n",
            "151:\tloss: 0.8588955\tbest: 0.8732828 (0)\ttotal: 14m 52s\tremaining: 2m 44s\n",
            "\n",
            "bestTest = 0.843720146\n",
            "bestIteration = 2\n",
            "\n",
            "Metric AUC is not calculated on train by default. To calculate this metric on train, add hints=skip_train~false to metric parameters.\n",
            "152:\tloss: 0.8437201\tbest: 0.8732828 (0)\ttotal: 15m 5s\tremaining: 2m 39s\n",
            "\n",
            "bestTest = 0.8684153961\n",
            "bestIteration = 24\n",
            "\n",
            "Metric AUC is not calculated on train by default. To calculate this metric on train, add hints=skip_train~false to metric parameters.\n",
            "153:\tloss: 0.8684154\tbest: 0.8732828 (0)\ttotal: 15m 17s\tremaining: 2m 34s\n",
            "\n",
            "bestTest = 0.8685539188\n",
            "bestIteration = 17\n",
            "\n",
            "Metric AUC is not calculated on train by default. To calculate this metric on train, add hints=skip_train~false to metric parameters.\n",
            "154:\tloss: 0.8685539\tbest: 0.8732828 (0)\ttotal: 15m 29s\tremaining: 2m 29s\n",
            "\n",
            "bestTest = 0.8678971302\n",
            "bestIteration = 10\n",
            "\n",
            "Metric AUC is not calculated on train by default. To calculate this metric on train, add hints=skip_train~false to metric parameters.\n",
            "155:\tloss: 0.8678971\tbest: 0.8732828 (0)\ttotal: 15m 42s\tremaining: 2m 24s\n",
            "\n",
            "bestTest = 0.8619621499\n",
            "bestIteration = 8\n",
            "\n",
            "Metric AUC is not calculated on train by default. To calculate this metric on train, add hints=skip_train~false to metric parameters.\n",
            "156:\tloss: 0.8619621\tbest: 0.8732828 (0)\ttotal: 15m 55s\tremaining: 2m 19s\n",
            "\n",
            "bestTest = 0.8649308342\n",
            "bestIteration = 8\n",
            "\n",
            "Metric AUC is not calculated on train by default. To calculate this metric on train, add hints=skip_train~false to metric parameters.\n",
            "157:\tloss: 0.8649308\tbest: 0.8732828 (0)\ttotal: 16m 8s\tremaining: 2m 14s\n",
            "\n",
            "bestTest = 0.8610928006\n",
            "bestIteration = 3\n",
            "\n",
            "Metric AUC is not calculated on train by default. To calculate this metric on train, add hints=skip_train~false to metric parameters.\n",
            "158:\tloss: 0.8610928\tbest: 0.8732828 (0)\ttotal: 16m 21s\tremaining: 2m 9s\n",
            "\n",
            "bestTest = 0.8519240323\n",
            "bestIteration = 3\n",
            "\n",
            "Metric AUC is not calculated on train by default. To calculate this metric on train, add hints=skip_train~false to metric parameters.\n",
            "159:\tloss: 0.8519240\tbest: 0.8732828 (0)\ttotal: 16m 34s\tremaining: 2m 4s\n",
            "\n",
            "bestTest = 0.857558084\n",
            "bestIteration = 5\n",
            "\n",
            "Metric AUC is not calculated on train by default. To calculate this metric on train, add hints=skip_train~false to metric parameters.\n",
            "160:\tloss: 0.8575581\tbest: 0.8732828 (0)\ttotal: 16m 47s\tremaining: 1m 58s\n",
            "\n",
            "bestTest = 0.8512003707\n",
            "bestIteration = 6\n",
            "\n",
            "Metric AUC is not calculated on train by default. To calculate this metric on train, add hints=skip_train~false to metric parameters.\n",
            "161:\tloss: 0.8512004\tbest: 0.8732828 (0)\ttotal: 17m 2s\tremaining: 1m 53s\n",
            "Estimating final quality...\n",
            "Training on fold [0/5]\n",
            "\n",
            "bestTest = 0.8260529483\n",
            "bestIteration = 120\n",
            "\n",
            "Training on fold [1/5]\n",
            "\n",
            "bestTest = 0.8499583449\n",
            "bestIteration = 124\n",
            "\n",
            "Training on fold [2/5]\n",
            "\n",
            "bestTest = 0.8500763677\n",
            "bestIteration = 55\n",
            "\n",
            "Training on fold [3/5]\n",
            "\n",
            "bestTest = 0.8473026142\n",
            "bestIteration = 59\n",
            "\n",
            "Training on fold [4/5]\n",
            "\n",
            "bestTest = 0.8700791613\n",
            "bestIteration = 45\n",
            "\n"
          ]
        }
      ]
    },
    {
      "cell_type": "markdown",
      "source": [
        "Тренируем модель с лучшими параметрами"
      ],
      "metadata": {
        "id": "ZYocXfgt9y-H"
      }
    },
    {
      "cell_type": "code",
      "source": [
        "search['params']"
      ],
      "metadata": {
        "id": "rItZxzVL9PAH",
        "outputId": "825fc435-a2e2-4ccc-9858-3bb59b7e1fe7",
        "colab": {
          "base_uri": "https://localhost:8080/"
        }
      },
      "execution_count": 161,
      "outputs": [
        {
          "output_type": "execute_result",
          "data": {
            "text/plain": [
              "{'depth': 4, 'l2_leaf_reg': 1, 'learning_rate': 0.1111111111111111}"
            ]
          },
          "metadata": {},
          "execution_count": 161
        }
      ]
    },
    {
      "cell_type": "code",
      "source": [
        "X_train, X_val, y_train, y_val = train_test_split(X, y, test_size=0.2,\n",
        "                                                  random_state=43, stratify=y)"
      ],
      "metadata": {
        "id": "mEzPUSVp-fjn"
      },
      "execution_count": 162,
      "outputs": []
    },
    {
      "cell_type": "code",
      "source": [
        "import catboost\n",
        "\n",
        "boosting_model_2 = catboost.CatBoostClassifier(n_estimators=200,\n",
        "                                             cat_features=cat_cols,\n",
        "                                             depth=4,\n",
        "                                             l2_leaf_reg=1,\n",
        "                                             learning_rate=0.111)\n",
        "\n",
        "boosting_model_2.fit(X_train, y_train)"
      ],
      "metadata": {
        "id": "vhv3X_8E9xu8",
        "outputId": "3373e428-06be-4e5f-c9db-205dbf7089d8",
        "colab": {
          "base_uri": "https://localhost:8080/"
        }
      },
      "execution_count": 169,
      "outputs": [
        {
          "output_type": "stream",
          "name": "stdout",
          "text": [
            "0:\tlearn: 0.6403333\ttotal: 9.14ms\tremaining: 1.82s\n",
            "1:\tlearn: 0.5955374\ttotal: 27.8ms\tremaining: 2.75s\n",
            "2:\tlearn: 0.5615686\ttotal: 38.2ms\tremaining: 2.5s\n",
            "3:\tlearn: 0.5336502\ttotal: 47.5ms\tremaining: 2.33s\n",
            "4:\tlearn: 0.5086470\ttotal: 56.8ms\tremaining: 2.21s\n",
            "5:\tlearn: 0.4896109\ttotal: 66.4ms\tremaining: 2.15s\n",
            "6:\tlearn: 0.4746004\ttotal: 74.8ms\tremaining: 2.06s\n",
            "7:\tlearn: 0.4651347\ttotal: 83.3ms\tremaining: 2s\n",
            "8:\tlearn: 0.4559479\ttotal: 91.7ms\tremaining: 1.95s\n",
            "9:\tlearn: 0.4492518\ttotal: 100ms\tremaining: 1.91s\n",
            "10:\tlearn: 0.4418388\ttotal: 109ms\tremaining: 1.88s\n",
            "11:\tlearn: 0.4372329\ttotal: 118ms\tremaining: 1.84s\n",
            "12:\tlearn: 0.4326613\ttotal: 125ms\tremaining: 1.8s\n",
            "13:\tlearn: 0.4282048\ttotal: 134ms\tremaining: 1.78s\n",
            "14:\tlearn: 0.4257362\ttotal: 143ms\tremaining: 1.76s\n",
            "15:\tlearn: 0.4247258\ttotal: 147ms\tremaining: 1.69s\n",
            "16:\tlearn: 0.4217656\ttotal: 156ms\tremaining: 1.68s\n",
            "17:\tlearn: 0.4201957\ttotal: 164ms\tremaining: 1.66s\n",
            "18:\tlearn: 0.4188071\ttotal: 174ms\tremaining: 1.66s\n",
            "19:\tlearn: 0.4170942\ttotal: 187ms\tremaining: 1.68s\n",
            "20:\tlearn: 0.4156866\ttotal: 195ms\tremaining: 1.66s\n",
            "21:\tlearn: 0.4142750\ttotal: 204ms\tremaining: 1.65s\n",
            "22:\tlearn: 0.4133297\ttotal: 216ms\tremaining: 1.67s\n",
            "23:\tlearn: 0.4119194\ttotal: 225ms\tremaining: 1.65s\n",
            "24:\tlearn: 0.4108088\ttotal: 235ms\tremaining: 1.65s\n",
            "25:\tlearn: 0.4101258\ttotal: 244ms\tremaining: 1.63s\n",
            "26:\tlearn: 0.4090550\ttotal: 252ms\tremaining: 1.62s\n",
            "27:\tlearn: 0.4082532\ttotal: 262ms\tremaining: 1.61s\n",
            "28:\tlearn: 0.4070495\ttotal: 270ms\tremaining: 1.59s\n",
            "29:\tlearn: 0.4064765\ttotal: 277ms\tremaining: 1.57s\n",
            "30:\tlearn: 0.4061027\ttotal: 286ms\tremaining: 1.56s\n",
            "31:\tlearn: 0.4058555\ttotal: 295ms\tremaining: 1.55s\n",
            "32:\tlearn: 0.4047144\ttotal: 303ms\tremaining: 1.53s\n",
            "33:\tlearn: 0.4043088\ttotal: 312ms\tremaining: 1.52s\n",
            "34:\tlearn: 0.4032578\ttotal: 328ms\tremaining: 1.54s\n",
            "35:\tlearn: 0.4031193\ttotal: 333ms\tremaining: 1.51s\n",
            "36:\tlearn: 0.4025603\ttotal: 340ms\tremaining: 1.5s\n",
            "37:\tlearn: 0.4017427\ttotal: 349ms\tremaining: 1.49s\n",
            "38:\tlearn: 0.4014408\ttotal: 358ms\tremaining: 1.48s\n",
            "39:\tlearn: 0.4007154\ttotal: 367ms\tremaining: 1.47s\n",
            "40:\tlearn: 0.4004657\ttotal: 374ms\tremaining: 1.45s\n",
            "41:\tlearn: 0.4001815\ttotal: 382ms\tremaining: 1.44s\n",
            "42:\tlearn: 0.3994938\ttotal: 391ms\tremaining: 1.43s\n",
            "43:\tlearn: 0.3992261\ttotal: 399ms\tremaining: 1.42s\n",
            "44:\tlearn: 0.3987727\ttotal: 408ms\tremaining: 1.4s\n",
            "45:\tlearn: 0.3981467\ttotal: 422ms\tremaining: 1.41s\n",
            "46:\tlearn: 0.3979143\ttotal: 440ms\tremaining: 1.43s\n",
            "47:\tlearn: 0.3979019\ttotal: 448ms\tremaining: 1.42s\n",
            "48:\tlearn: 0.3978278\ttotal: 456ms\tremaining: 1.4s\n",
            "49:\tlearn: 0.3975415\ttotal: 463ms\tremaining: 1.39s\n",
            "50:\tlearn: 0.3972655\ttotal: 470ms\tremaining: 1.37s\n",
            "51:\tlearn: 0.3967541\ttotal: 477ms\tremaining: 1.36s\n",
            "52:\tlearn: 0.3965968\ttotal: 483ms\tremaining: 1.34s\n",
            "53:\tlearn: 0.3964221\ttotal: 494ms\tremaining: 1.33s\n",
            "54:\tlearn: 0.3963527\ttotal: 499ms\tremaining: 1.31s\n",
            "55:\tlearn: 0.3958802\ttotal: 508ms\tremaining: 1.31s\n",
            "56:\tlearn: 0.3954567\ttotal: 517ms\tremaining: 1.3s\n",
            "57:\tlearn: 0.3954080\ttotal: 526ms\tremaining: 1.29s\n",
            "58:\tlearn: 0.3951271\ttotal: 536ms\tremaining: 1.28s\n",
            "59:\tlearn: 0.3948434\ttotal: 553ms\tremaining: 1.29s\n",
            "60:\tlearn: 0.3946502\ttotal: 565ms\tremaining: 1.29s\n",
            "61:\tlearn: 0.3944396\ttotal: 575ms\tremaining: 1.28s\n",
            "62:\tlearn: 0.3939045\ttotal: 586ms\tremaining: 1.27s\n",
            "63:\tlearn: 0.3936688\ttotal: 603ms\tremaining: 1.28s\n",
            "64:\tlearn: 0.3935079\ttotal: 620ms\tremaining: 1.29s\n",
            "65:\tlearn: 0.3933337\ttotal: 628ms\tremaining: 1.27s\n",
            "66:\tlearn: 0.3932069\ttotal: 635ms\tremaining: 1.26s\n",
            "67:\tlearn: 0.3929321\ttotal: 644ms\tremaining: 1.25s\n",
            "68:\tlearn: 0.3926361\ttotal: 653ms\tremaining: 1.24s\n",
            "69:\tlearn: 0.3925692\ttotal: 662ms\tremaining: 1.23s\n",
            "70:\tlearn: 0.3925092\ttotal: 669ms\tremaining: 1.22s\n",
            "71:\tlearn: 0.3922942\ttotal: 682ms\tremaining: 1.21s\n",
            "72:\tlearn: 0.3921030\ttotal: 691ms\tremaining: 1.2s\n",
            "73:\tlearn: 0.3914595\ttotal: 699ms\tremaining: 1.19s\n",
            "74:\tlearn: 0.3913780\ttotal: 706ms\tremaining: 1.18s\n",
            "75:\tlearn: 0.3913569\ttotal: 713ms\tremaining: 1.16s\n",
            "76:\tlearn: 0.3911174\ttotal: 722ms\tremaining: 1.15s\n",
            "77:\tlearn: 0.3906600\ttotal: 731ms\tremaining: 1.14s\n",
            "78:\tlearn: 0.3905988\ttotal: 740ms\tremaining: 1.13s\n",
            "79:\tlearn: 0.3905562\ttotal: 748ms\tremaining: 1.12s\n",
            "80:\tlearn: 0.3902112\ttotal: 756ms\tremaining: 1.11s\n",
            "81:\tlearn: 0.3900278\ttotal: 767ms\tremaining: 1.1s\n",
            "82:\tlearn: 0.3898598\ttotal: 776ms\tremaining: 1.09s\n",
            "83:\tlearn: 0.3895815\ttotal: 785ms\tremaining: 1.08s\n",
            "84:\tlearn: 0.3891150\ttotal: 794ms\tremaining: 1.07s\n",
            "85:\tlearn: 0.3887633\ttotal: 806ms\tremaining: 1.07s\n",
            "86:\tlearn: 0.3885304\ttotal: 822ms\tremaining: 1.07s\n",
            "87:\tlearn: 0.3878954\ttotal: 831ms\tremaining: 1.06s\n",
            "88:\tlearn: 0.3876284\ttotal: 842ms\tremaining: 1.05s\n",
            "89:\tlearn: 0.3875091\ttotal: 852ms\tremaining: 1.04s\n",
            "90:\tlearn: 0.3874101\ttotal: 861ms\tremaining: 1.03s\n",
            "91:\tlearn: 0.3873159\ttotal: 870ms\tremaining: 1.02s\n",
            "92:\tlearn: 0.3872598\ttotal: 883ms\tremaining: 1.01s\n",
            "93:\tlearn: 0.3866794\ttotal: 898ms\tremaining: 1.01s\n",
            "94:\tlearn: 0.3862416\ttotal: 914ms\tremaining: 1.01s\n",
            "95:\tlearn: 0.3851430\ttotal: 927ms\tremaining: 1s\n",
            "96:\tlearn: 0.3848897\ttotal: 937ms\tremaining: 995ms\n",
            "97:\tlearn: 0.3840463\ttotal: 947ms\tremaining: 986ms\n",
            "98:\tlearn: 0.3835830\ttotal: 959ms\tremaining: 978ms\n",
            "99:\tlearn: 0.3830920\ttotal: 969ms\tremaining: 969ms\n",
            "100:\tlearn: 0.3824782\ttotal: 978ms\tremaining: 958ms\n",
            "101:\tlearn: 0.3822607\ttotal: 986ms\tremaining: 948ms\n",
            "102:\tlearn: 0.3820876\ttotal: 996ms\tremaining: 938ms\n",
            "103:\tlearn: 0.3819715\ttotal: 1s\tremaining: 927ms\n",
            "104:\tlearn: 0.3812863\ttotal: 1.01s\tremaining: 918ms\n",
            "105:\tlearn: 0.3810958\ttotal: 1.02s\tremaining: 908ms\n",
            "106:\tlearn: 0.3809024\ttotal: 1.03s\tremaining: 898ms\n",
            "107:\tlearn: 0.3807504\ttotal: 1.04s\tremaining: 889ms\n",
            "108:\tlearn: 0.3804788\ttotal: 1.05s\tremaining: 879ms\n",
            "109:\tlearn: 0.3802889\ttotal: 1.06s\tremaining: 870ms\n",
            "110:\tlearn: 0.3798025\ttotal: 1.07s\tremaining: 860ms\n",
            "111:\tlearn: 0.3796775\ttotal: 1.08s\tremaining: 850ms\n",
            "112:\tlearn: 0.3793671\ttotal: 1.09s\tremaining: 840ms\n",
            "113:\tlearn: 0.3786001\ttotal: 1.1s\tremaining: 829ms\n",
            "114:\tlearn: 0.3783141\ttotal: 1.11s\tremaining: 819ms\n",
            "115:\tlearn: 0.3780684\ttotal: 1.12s\tremaining: 811ms\n",
            "116:\tlearn: 0.3779648\ttotal: 1.13s\tremaining: 802ms\n",
            "117:\tlearn: 0.3775754\ttotal: 1.14s\tremaining: 792ms\n",
            "118:\tlearn: 0.3768301\ttotal: 1.15s\tremaining: 783ms\n",
            "119:\tlearn: 0.3766868\ttotal: 1.16s\tremaining: 772ms\n",
            "120:\tlearn: 0.3765353\ttotal: 1.17s\tremaining: 762ms\n",
            "121:\tlearn: 0.3764419\ttotal: 1.17s\tremaining: 751ms\n",
            "122:\tlearn: 0.3763971\ttotal: 1.19s\tremaining: 744ms\n",
            "123:\tlearn: 0.3761044\ttotal: 1.2s\tremaining: 738ms\n",
            "124:\tlearn: 0.3758531\ttotal: 1.22s\tremaining: 734ms\n",
            "125:\tlearn: 0.3757338\ttotal: 1.23s\tremaining: 724ms\n",
            "126:\tlearn: 0.3755347\ttotal: 1.24s\tremaining: 714ms\n",
            "127:\tlearn: 0.3754108\ttotal: 1.25s\tremaining: 704ms\n",
            "128:\tlearn: 0.3752390\ttotal: 1.26s\tremaining: 695ms\n",
            "129:\tlearn: 0.3746906\ttotal: 1.27s\tremaining: 685ms\n",
            "130:\tlearn: 0.3744728\ttotal: 1.28s\tremaining: 675ms\n",
            "131:\tlearn: 0.3742529\ttotal: 1.29s\tremaining: 664ms\n",
            "132:\tlearn: 0.3740682\ttotal: 1.3s\tremaining: 654ms\n",
            "133:\tlearn: 0.3738031\ttotal: 1.31s\tremaining: 644ms\n",
            "134:\tlearn: 0.3735754\ttotal: 1.32s\tremaining: 634ms\n",
            "135:\tlearn: 0.3735252\ttotal: 1.33s\tremaining: 624ms\n",
            "136:\tlearn: 0.3732468\ttotal: 1.33s\tremaining: 614ms\n",
            "137:\tlearn: 0.3730838\ttotal: 1.34s\tremaining: 604ms\n",
            "138:\tlearn: 0.3730155\ttotal: 1.35s\tremaining: 594ms\n",
            "139:\tlearn: 0.3729510\ttotal: 1.36s\tremaining: 584ms\n",
            "140:\tlearn: 0.3728663\ttotal: 1.37s\tremaining: 574ms\n",
            "141:\tlearn: 0.3726708\ttotal: 1.38s\tremaining: 564ms\n",
            "142:\tlearn: 0.3724802\ttotal: 1.39s\tremaining: 555ms\n",
            "143:\tlearn: 0.3721628\ttotal: 1.41s\tremaining: 548ms\n",
            "144:\tlearn: 0.3715429\ttotal: 1.42s\tremaining: 539ms\n",
            "145:\tlearn: 0.3713989\ttotal: 1.43s\tremaining: 529ms\n",
            "146:\tlearn: 0.3712646\ttotal: 1.44s\tremaining: 519ms\n",
            "147:\tlearn: 0.3712013\ttotal: 1.45s\tremaining: 509ms\n",
            "148:\tlearn: 0.3711173\ttotal: 1.46s\tremaining: 499ms\n",
            "149:\tlearn: 0.3710177\ttotal: 1.47s\tremaining: 489ms\n",
            "150:\tlearn: 0.3709055\ttotal: 1.48s\tremaining: 480ms\n",
            "151:\tlearn: 0.3707729\ttotal: 1.49s\tremaining: 470ms\n",
            "152:\tlearn: 0.3705644\ttotal: 1.5s\tremaining: 460ms\n",
            "153:\tlearn: 0.3705538\ttotal: 1.51s\tremaining: 450ms\n",
            "154:\tlearn: 0.3704634\ttotal: 1.51s\tremaining: 440ms\n",
            "155:\tlearn: 0.3703942\ttotal: 1.52s\tremaining: 429ms\n",
            "156:\tlearn: 0.3700131\ttotal: 1.53s\tremaining: 420ms\n",
            "157:\tlearn: 0.3694619\ttotal: 1.54s\tremaining: 410ms\n",
            "158:\tlearn: 0.3694056\ttotal: 1.55s\tremaining: 400ms\n",
            "159:\tlearn: 0.3692604\ttotal: 1.56s\tremaining: 391ms\n",
            "160:\tlearn: 0.3691380\ttotal: 1.58s\tremaining: 383ms\n",
            "161:\tlearn: 0.3690426\ttotal: 1.6s\tremaining: 376ms\n",
            "162:\tlearn: 0.3686605\ttotal: 1.61s\tremaining: 366ms\n",
            "163:\tlearn: 0.3685887\ttotal: 1.62s\tremaining: 356ms\n",
            "164:\tlearn: 0.3682325\ttotal: 1.63s\tremaining: 347ms\n",
            "165:\tlearn: 0.3678832\ttotal: 1.65s\tremaining: 337ms\n",
            "166:\tlearn: 0.3675981\ttotal: 1.66s\tremaining: 328ms\n",
            "167:\tlearn: 0.3673480\ttotal: 1.67s\tremaining: 318ms\n",
            "168:\tlearn: 0.3669114\ttotal: 1.68s\tremaining: 308ms\n",
            "169:\tlearn: 0.3668365\ttotal: 1.69s\tremaining: 298ms\n",
            "170:\tlearn: 0.3666673\ttotal: 1.7s\tremaining: 288ms\n",
            "171:\tlearn: 0.3663736\ttotal: 1.71s\tremaining: 278ms\n",
            "172:\tlearn: 0.3661379\ttotal: 1.72s\tremaining: 268ms\n",
            "173:\tlearn: 0.3660198\ttotal: 1.73s\tremaining: 258ms\n",
            "174:\tlearn: 0.3659357\ttotal: 1.74s\tremaining: 248ms\n",
            "175:\tlearn: 0.3658002\ttotal: 1.75s\tremaining: 238ms\n",
            "176:\tlearn: 0.3656432\ttotal: 1.75s\tremaining: 228ms\n",
            "177:\tlearn: 0.3653681\ttotal: 1.76s\tremaining: 218ms\n",
            "178:\tlearn: 0.3647511\ttotal: 1.77s\tremaining: 208ms\n",
            "179:\tlearn: 0.3645306\ttotal: 1.78s\tremaining: 198ms\n",
            "180:\tlearn: 0.3643699\ttotal: 1.79s\tremaining: 188ms\n",
            "181:\tlearn: 0.3641670\ttotal: 1.8s\tremaining: 179ms\n",
            "182:\tlearn: 0.3641207\ttotal: 1.81s\tremaining: 169ms\n",
            "183:\tlearn: 0.3640299\ttotal: 1.82s\tremaining: 159ms\n",
            "184:\tlearn: 0.3637690\ttotal: 1.83s\tremaining: 149ms\n",
            "185:\tlearn: 0.3636121\ttotal: 1.84s\tremaining: 139ms\n",
            "186:\tlearn: 0.3631457\ttotal: 1.85s\tremaining: 129ms\n",
            "187:\tlearn: 0.3630776\ttotal: 1.86s\tremaining: 119ms\n",
            "188:\tlearn: 0.3628977\ttotal: 1.87s\tremaining: 109ms\n",
            "189:\tlearn: 0.3624148\ttotal: 1.88s\tremaining: 98.9ms\n",
            "190:\tlearn: 0.3623949\ttotal: 1.89s\tremaining: 88.8ms\n",
            "191:\tlearn: 0.3619144\ttotal: 1.9s\tremaining: 79ms\n",
            "192:\tlearn: 0.3614269\ttotal: 1.9s\tremaining: 69ms\n",
            "193:\tlearn: 0.3613823\ttotal: 1.91s\tremaining: 59.2ms\n",
            "194:\tlearn: 0.3611862\ttotal: 1.92s\tremaining: 49.3ms\n",
            "195:\tlearn: 0.3610508\ttotal: 1.93s\tremaining: 39.4ms\n",
            "196:\tlearn: 0.3609275\ttotal: 1.94s\tremaining: 29.5ms\n",
            "197:\tlearn: 0.3603384\ttotal: 1.95s\tremaining: 19.7ms\n",
            "198:\tlearn: 0.3602196\ttotal: 1.96s\tremaining: 9.84ms\n",
            "199:\tlearn: 0.3601731\ttotal: 1.97s\tremaining: 0us\n"
          ]
        },
        {
          "output_type": "execute_result",
          "data": {
            "text/plain": [
              "<catboost.core.CatBoostClassifier at 0x782bffff25f0>"
            ]
          },
          "metadata": {},
          "execution_count": 169
        }
      ]
    },
    {
      "cell_type": "code",
      "source": [
        "y_pred = boosting_model_2.predict_proba(X_val)[:, 1]\n",
        "print(f'ROC-AUC score: {roc_auc_score(y_val, y_pred)}')"
      ],
      "metadata": {
        "id": "a18ihdty-j5P",
        "outputId": "484527e3-ac3b-4b3d-898c-ed92db7c8125",
        "colab": {
          "base_uri": "https://localhost:8080/"
        }
      },
      "execution_count": 170,
      "outputs": [
        {
          "output_type": "stream",
          "name": "stdout",
          "text": [
            "ROC-AUC score: 0.8469267795982598\n"
          ]
        }
      ]
    },
    {
      "cell_type": "markdown",
      "metadata": {
        "id": "rf4Kjt96EEZU"
      },
      "source": [
        "Выпишите, какое лучшее качество и с какими параметрами вам удалось получить"
      ]
    },
    {
      "cell_type": "markdown",
      "metadata": {
        "id": "d2d9GolXEEZV"
      },
      "source": [
        "Лучший результат удалось получить с дефолтными параметрами))\n",
        "\n",
        "AUC-ROC score: 0.848773488845691"
      ]
    },
    {
      "cell_type": "markdown",
      "metadata": {
        "id": "dDMXbvNZEEZV"
      },
      "source": [
        "# Предсказания"
      ]
    },
    {
      "cell_type": "code",
      "metadata": {
        "id": "G_P4wFNaEEZW"
      },
      "source": [
        "best_model = boosting_model_1"
      ],
      "execution_count": 171,
      "outputs": []
    },
    {
      "cell_type": "code",
      "metadata": {
        "id": "FfSufx0CEEZZ"
      },
      "source": [
        "X_test = pd.read_csv('./test.csv')\n",
        "submission = pd.read_csv('./submission.csv')\n",
        "\n",
        "submission['Churn'] = best_model.predict_proba(X_test)[:, 1]\n",
        "submission.to_csv('./my_submission.csv', index=False)"
      ],
      "execution_count": 176,
      "outputs": []
    },
    {
      "cell_type": "markdown",
      "source": [
        "Лучшее решение отправьте в Stepik."
      ],
      "metadata": {
        "id": "tzGirrp5l2I-"
      }
    },
    {
      "cell_type": "code",
      "source": [],
      "metadata": {
        "id": "eoNce9Yu0OM5"
      },
      "execution_count": null,
      "outputs": []
    }
  ]
}